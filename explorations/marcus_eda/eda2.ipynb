{
 "cells": [
  {
   "cell_type": "markdown",
   "id": "80eee7b5",
   "metadata": {},
   "source": [
    "# Filter anordnare och statistik om dem"
   ]
  },
  {
   "cell_type": "code",
   "execution_count": null,
   "id": "c6c714e1",
   "metadata": {},
   "outputs": [],
   "source": [
    "# read in resultat ansökningar 2024 csv\n",
    "import pandas as pd\n",
    "\n",
    "\n",
    "\n",
    "df_resultat_ansonkningar = pd.read_excel(\n",
    "    \"../../data/2024_kurser/resultat-2024-for-kurser-inom-yh.xlsx\",\n",
    "    sheet_name=\"Beviljade ansökningar\",\n",
    ")\n",
    "\n",
    "\n",
    "df_resultat_ansonkningar.head(10)"
   ]
  },
  {
   "cell_type": "code",
   "execution_count": null,
   "id": "119b761b",
   "metadata": {},
   "outputs": [],
   "source": [
    "# read in inkomna ansökningar 2024\n",
    "\n",
    "df_inkomna_ansökningar = pd.read_excel(\n",
    "    \"../../data/2024_kurser/inkomna-ansokningar-2024-for-kurser.xlsx\",\n",
    "    sheet_name=\"Lista ansökningar\",\n",
    ")\n",
    "\n",
    "df_inkomna_ansökningar.head()"
   ]
  },
  {
   "cell_type": "code",
   "execution_count": null,
   "id": "71ab15de",
   "metadata": {},
   "outputs": [],
   "source": [
    "df_resultat_ansonkningar[\"Anordnare namn\"].unique().shape"
   ]
  },
  {
   "cell_type": "code",
   "execution_count": null,
   "id": "689d789d",
   "metadata": {},
   "outputs": [],
   "source": [
    "df_beviljade_2024 = df_resultat_ansonkningar[\n",
    "    [\"Anordnare namn\", \"Antal beviljade platser start 2024\"]\n",
    "].groupby(\"Anordnare namn\")[\"Antal beviljade platser start 2024\"].sum().to_frame().rename(columns={\"Antal beviljade platser start 2024\": \"Total beviljade platser 2024\"})"
   ]
  },
  {
   "cell_type": "code",
   "execution_count": null,
   "id": "4550dcd4",
   "metadata": {},
   "outputs": [],
   "source": [
    "df_beviljade_2024.sort_values(by=\"Total beviljade platser 2024\", ascending=False)"
   ]
  },
  {
   "cell_type": "code",
   "execution_count": null,
   "id": "7c29a60f",
   "metadata": {},
   "outputs": [],
   "source": [
    "df_beviljade_start_avslut_2024 = df_resultat_ansonkningar[\n",
    "    [\"Anordnare namn\", \"Antal beviljade platser start och slut 2024\"]\n",
    "].groupby(\"Anordnare namn\")[\"Antal beviljade platser start och slut 2024\"].sum().to_frame().rename(columns={\"Antal beviljade platser start och slut 2024\": \"Total beviljade platser start och slut 2024\"})"
   ]
  },
  {
   "cell_type": "code",
   "execution_count": null,
   "id": "c373eef3",
   "metadata": {},
   "outputs": [],
   "source": [
    "df_beviljade_start_avslut_2024.sort_values(by= \"Total beviljade platser start och slut 2024\", ascending=False)"
   ]
  },
  {
   "cell_type": "code",
   "execution_count": null,
   "id": "6b48020f",
   "metadata": {},
   "outputs": [],
   "source": [
    "df_beviljade_2025 = df_resultat_ansonkningar[\n",
    "    [\"Anordnare namn\", \"Antal beviljade platser start 2025\"]\n",
    "].groupby(\"Anordnare namn\")[\"Antal beviljade platser start 2025\"].sum().to_frame().rename(columns={\"Antal beviljade platser start 2025\": \"Total beviljade platser 2025\"})\n",
    "\n",
    "df_beviljade_2025.sort_values(by=\"Total beviljade platser 2025\", ascending=False)\n"
   ]
  },
  {
   "cell_type": "code",
   "execution_count": null,
   "id": "df6aea71",
   "metadata": {},
   "outputs": [],
   "source": [
    "df_alla_beviljade = pd.concat([df_beviljade_2024, df_beviljade_start_avslut_2024, df_beviljade_2025], axis= 1)\n",
    "\n",
    "df_alla_beviljade.info()"
   ]
  },
  {
   "cell_type": "code",
   "execution_count": null,
   "id": "3097b840",
   "metadata": {},
   "outputs": [],
   "source": [
    "df_alla_beviljade[\"Total\"] = df_alla_beviljade.sum(axis=1)\n",
    "df_alla_beviljade = df_alla_beviljade.sort_values(by= \"Total\", ascending= False)"
   ]
  },
  {
   "cell_type": "code",
   "execution_count": null,
   "id": "35f156a5",
   "metadata": {},
   "outputs": [],
   "source": [
    "df_alla_beviljade[\"Avslutar_2025\"] = (df_alla_beviljade[\"Total beviljade platser 2024\"] - df_alla_beviljade[\"Total beviljade platser start och slut 2024\"])"
   ]
  },
  {
   "cell_type": "code",
   "execution_count": null,
   "id": "78ae6310",
   "metadata": {},
   "outputs": [],
   "source": [
    "df_alla_beviljade = df_alla_beviljade.sort_values(by= \"Avslutar_2025\", ascending= False)"
   ]
  },
  {
   "cell_type": "code",
   "execution_count": null,
   "id": "32e6bce9",
   "metadata": {},
   "outputs": [],
   "source": [
    "import matplotlib.pyplot as plt\n",
    "import numpy as np\n",
    "plt.style.use(\"marcus.mplstyle\")\n",
    "\n",
    "colors = [\"#7DAF99\", \"#072050\"]\n",
    "\n",
    "\n",
    "\n",
    "def horizontal_bar(ax, **option):\n",
    "\n",
    "    ax.invert_yaxis()\n",
    "\n",
    "    # clutter\n",
    "    ax.tick_params(\"y\", length=0, pad=10)\n",
    "    \n",
    "\n",
    "    # Describle title and label -> call to action\n",
    "    ax.set_title(\n",
    "        option.get(\"title\", \"\"),\n",
    "        loc=\"left\",\n",
    "        pad=option.get(\"pad\", 15),\n",
    "    )\n",
    "    # contrast\n",
    "    ax.set_ylabel(option.get(\"y_title\", \"\"), loc=\"top\", rotation=0, fontsize=option.get(\"y_font\", 12))\n",
    "    ax.yaxis.set_label_coords(option.get(\"ylabel_xcoords\", 0), option.get(\"ylabel_ycoords\", 0))\n",
    "    ax.set_xlabel(option.get(\"x_title\", \"\"), loc=\"left\", fontsize=option.get(\"x_font\", 12))\n",
    "    ax.set_facecolor(option.get(\"facecolor\", \"#F8F8F0\"))\n",
    "    \n",
    "    # ax.legend().remove()\n",
    "    return ax\n",
    "\n",
    "\n",
    "# creating fig and insert data to ax\n",
    "fig, ax = plt.subplots(figsize=(12, 6))\n",
    "\n",
    "ax = df_alla_beviljade.drop(\n",
    "    [\"Total\", \"Total beviljade platser 2025\", \"Total beviljade platser 2024\"], axis=1\n",
    ")[:10].plot(kind=\"barh\", ax=ax, color=colors, width=0.75)\n",
    "\n",
    "\n",
    "ax = horizontal_bar(\n",
    "    ax,\n",
    "    title=r\"Jämförelse mellan hur kurser som $\\mathbf{starta\\ och\\ avslutar\\ 2024}$ och dem som $\\mathbf{avslutar\\ 2025}$\",\n",
    "    pad= 20,\n",
    "    y_title = \"ANORDNARE\",\n",
    "    x_title= \"# HOW MANY COURSES\",\n",
    "    ylabel_xcoords= -0.02,\n",
    "    ylabel_ycoords= 1,\n",
    ")\n",
    "\n",
    "\n",
    "def save_fig_from_ax(ax, fig_path, **option):\n",
    "    \n",
    "    fig = ax.get_figure()\n",
    "    fig.tight_layout()\n",
    "    fig.savefig(fig_path, dpi= option.get(\"dpi\", 300))\n",
    "\n",
    "save_fig_from_ax(ax, \"../figures/anordnare_kurser_start_avslut_2024.png\")\n"
   ]
  },
  {
   "cell_type": "markdown",
   "id": "d6d0231e",
   "metadata": {},
   "source": [
    "## Data cleaning and filtered resultat kurser för anordnare "
   ]
  },
  {
   "cell_type": "code",
   "execution_count": null,
   "id": "83d2eb22",
   "metadata": {},
   "outputs": [],
   "source": [
    "\n",
    "# Kurser beviljade 2020 juli är en tilläg\n",
    "# Kurser beviljade 2020 april\n",
    "df_resultat_2020_april = pd.read_excel(\n",
    "    \"../../data/anordnare_resultat_kurser_2020-2024/Beviljade-korta-utb-kurser-kurspaket-YH-april-2020-1.xlsx\"\n",
    ")\n",
    "\n",
    "# Kurser beviljade 2020 juli\n",
    "df_resultat_2020_juli = pd.read_excel(\"../../data/anordnare_resultat_kurser_2020-2024/Beviljade-korta-utb-kurser-kurspaket-YH-juli-2020-2.xlsx\")\n",
    "\n",
    "# kurser resultat 2021\n",
    "df_resultat_2021 = pd.read_excel(\"../../data/anordnare_resultat_kurser_2020-2024/resultat-juni-2021-for-korta-utbildningar-kurser-och-kurspaket.xlsx\")\n",
    "\n",
    "\n",
    "# kurser resultat 2022\n",
    "df_resultat_2022 = pd.read_excel(\"../../data/anordnare_resultat_kurser_2020-2024/resultat-2022-for-kurser-inom-yh.xlsx\")\n",
    "\n",
    "\n",
    "\n",
    "# kurser resultat 2023\n",
    "df_resultat_2023 = pd.read_excel(\"../../data/anordnare_resultat_kurser_2020-2024/resultat-2023-for-kurser-inom-yh.xlsx\")\n",
    "df_resultat_2023_utökat = pd.read_excel(\"../../data/anordnare_resultat_kurser_2020-2024/beviljade-kurser-inom-yrkeshogskolan-med-utokat-yh-anslag-2023.xlsx\") \n",
    "\n",
    "# kurser resultat 2024\n",
    "df_resultat_2024 = pd.read_excel(\"../../data/anordnare_resultat_kurser_2020-2024/resultat-2024-for-kurser-inom-yh.xlsx\", sheet_name= \"Beviljade ansökningar\")\n",
    "\n"
   ]
  },
  {
   "cell_type": "code",
   "execution_count": null,
   "id": "53d0d239",
   "metadata": {},
   "outputs": [],
   "source": [
    "df_resultat_2020_april"
   ]
  },
  {
   "cell_type": "code",
   "execution_count": null,
   "id": "c1a4a63d",
   "metadata": {},
   "outputs": [],
   "source": [
    "\n",
    "kommun_cols = [\"Kommun 1\", \"Kommun 2\", \"Kommun 3\", \"Kommun 4\", \"Kommun 5\", \"Kommun 6\"]\n",
    "\n",
    "\n",
    "df_resultat_2020_april[\"Kommun\"] = (\n",
    "    df_resultat_2020_april[kommun_cols].fillna(\"\")\n",
    "    .apply(lambda row: \", \".join([k for k in row if k.strip() != \"\"]), axis= 1)\n",
    ")\n",
    "   \n",
    "\n",
    "\n",
    "df_resultat_2020_april = df_resultat_2020_april.drop(\n",
    "    kommun_cols, axis=1).rename(columns={\"Utbildningsnummer\": \"Diarienummer\", \"Anordnare\": \"Anordnare namn\"})\n",
    "\n",
    "\n"
   ]
  },
  {
   "cell_type": "code",
   "execution_count": null,
   "id": "d9cd5ae6",
   "metadata": {},
   "outputs": [],
   "source": [
    "df_resultat_2020_april.columns"
   ]
  },
  {
   "cell_type": "code",
   "execution_count": null,
   "id": "ba0d5363",
   "metadata": {},
   "outputs": [],
   "source": [
    "rename_column = [\n",
    "    \"Diarienummer\",\n",
    "    \"Anordnare namn\",\n",
    "    \"Utbildningsnamn\",\n",
    "    \"Utbildningsområde\",\n",
    "    \"Platser med start 2020\",\n",
    "    \"Platser med start 2021\",\n",
    "    \"YH-poäng\",\n",
    "    \"Kommun\"\n",
    "]\n",
    "\n",
    "df_resultat_2020_april = df_resultat_2020_april[rename_column]\n",
    "df_resultat_2020_april"
   ]
  },
  {
   "cell_type": "code",
   "execution_count": null,
   "id": "dfe0f749",
   "metadata": {},
   "outputs": [],
   "source": [
    "\n",
    "df_resultat_2020_april"
   ]
  },
  {
   "cell_type": "code",
   "execution_count": null,
   "id": "e61182ea",
   "metadata": {},
   "outputs": [],
   "source": [
    "\n",
    "\n",
    "df_resultat_2020_juli"
   ]
  },
  {
   "cell_type": "code",
   "execution_count": null,
   "id": "a49a82e5",
   "metadata": {},
   "outputs": [],
   "source": [
    "kommun_cols = [\"Kommun 1\", \"Kommun 2\", \"Kommun 3\", \"Kommun 4\", \"Kommun 5\", \"Kommun 6\", \"Kommun 7\", \"Kommun 8\", \"Kommun 9\", \"Kommun 10\"]\n",
    "\n",
    "# using filna to replace Nan value to empty string.\n",
    "# apply to strip empty and dot and with .join get , between the municipality \n",
    "df_resultat_2020_juli[\"Kommun\"] = (\n",
    "    df_resultat_2020_juli[kommun_cols].fillna(\"\")\n",
    "    .apply(lambda row: \", \".join([k for k in row if k.strip() not in [\"\", \".\"]]), axis= 1)\n",
    ")\n",
    "\n",
    "\n",
    "df_resultat_2020_juli = df_resultat_2020_juli.drop(kommun_cols, axis= 1).rename(columns= {\"Anordnare\": \"Anordnare namn\", \"Utbildningsnummer\": \"Diarienummer\"})\n"
   ]
  },
  {
   "cell_type": "code",
   "execution_count": null,
   "id": "c941ee38",
   "metadata": {},
   "outputs": [],
   "source": [
    "df_resultat_2020_juli.columns"
   ]
  },
  {
   "cell_type": "code",
   "execution_count": null,
   "id": "8c34286e",
   "metadata": {},
   "outputs": [],
   "source": [
    "rename_column = [\n",
    "    \"Diarienummer\",\n",
    "    \"Anordnare namn\",\n",
    "    \"Utbildningsnamn\",\n",
    "    \"Utbildningsområde\",\n",
    "    \"Platser med start och avslut 2020\",\n",
    "    \"YH-poäng\",\n",
    "    \"Kommun\"\n",
    "]\n",
    "\n",
    "df_resultat_2020_juli = df_resultat_2020_juli[rename_column]\n",
    "df_resultat_2020_juli"
   ]
  },
  {
   "cell_type": "code",
   "execution_count": null,
   "id": "70972139",
   "metadata": {},
   "outputs": [],
   "source": [
    "\n",
    "# Control check that course is a difference application \n",
    "df_resultat_2020_april[df_resultat_2020_april[\"Diarienummer\"].isin(df_resultat_2020_juli[\"Diarienummer\"])]\n",
    "\n"
   ]
  },
  {
   "cell_type": "code",
   "execution_count": null,
   "id": "9968db3f",
   "metadata": {},
   "outputs": [],
   "source": [
    "df_resultat_2021"
   ]
  },
  {
   "cell_type": "code",
   "execution_count": null,
   "id": "08baac5c",
   "metadata": {},
   "outputs": [],
   "source": [
    "df_resultat_2022.rename(\n",
    "    columns={\n",
    "        \"Antal beviljade platser 2022\": \"Antal beviljade platser start 2022\",\n",
    "        \"Antal beviljade platser 2023\": \"Antal beviljade platser start 2023\",\n",
    "    },\n",
    "    inplace=True,\n",
    ")\n",
    "\n",
    "\n",
    "df_resultat_2022 = df_resultat_2022[df_resultat_2022[\"Beslut\"] == \"Beviljad\"]\n"
   ]
  },
  {
   "cell_type": "code",
   "execution_count": null,
   "id": "7288375f",
   "metadata": {},
   "outputs": [],
   "source": [
    "df_resultat_2022"
   ]
  },
  {
   "cell_type": "code",
   "execution_count": null,
   "id": "813a537a",
   "metadata": {},
   "outputs": [],
   "source": [
    "df_resultat_2023 = df_resultat_2023[df_resultat_2023[\"Beslut\"] == \"Beviljad\"]\n",
    "\n",
    "df_resultat_2023"
   ]
  },
  {
   "cell_type": "code",
   "execution_count": null,
   "id": "c7ff1611",
   "metadata": {},
   "outputs": [],
   "source": [
    "\n",
    "# Make sure they have difference diarienummer, if they don't match they are difference appliction \n",
    "df_resultat_2023_utökat[df_resultat_2023_utökat[\"Diarienummer\"].isin(df_resultat_2023[\"Diarienummer\"])]\n",
    "\n",
    "df_resultat_2023_utökat.columns"
   ]
  },
  {
   "cell_type": "code",
   "execution_count": null,
   "id": "0e941eea",
   "metadata": {},
   "outputs": [],
   "source": [
    "df_resultat_2023_utökat.rename(\n",
    "    columns={\n",
    "        \"Antal beviljade platser 2023\": \"Antal beviljade platser utökad-anslag 2023\",\n",
    "        \"Antal beviljade platser 2024\": \"Antal beviljade platser utökad-anslag 2024\",\n",
    "    },\n",
    "    inplace=True,\n",
    ")"
   ]
  },
  {
   "cell_type": "code",
   "execution_count": null,
   "id": "3830e355",
   "metadata": {},
   "outputs": [],
   "source": [
    "\n",
    "df_resultat_2023_utökat"
   ]
  },
  {
   "cell_type": "code",
   "execution_count": null,
   "id": "834e6fc7",
   "metadata": {},
   "outputs": [],
   "source": [
    "df_resultat_2024 = df_resultat_2024[df_resultat_2024[\"Beslut\"] == \"Beviljad\"]\n",
    "\n",
    "df_resultat_2024"
   ]
  },
  {
   "cell_type": "markdown",
   "id": "afdd6301",
   "metadata": {},
   "source": [
    "### concatinate table to one table"
   ]
  },
  {
   "cell_type": "code",
   "execution_count": null,
   "id": "01b7fc49",
   "metadata": {},
   "outputs": [],
   "source": [
    "df_total_2021_2024 = pd.concat(\n",
    "    [\n",
    "        df_resultat_2020_april,\n",
    "        df_resultat_2020_juli,\n",
    "        df_resultat_2021,\n",
    "        df_resultat_2022,\n",
    "        df_resultat_2023,\n",
    "        df_resultat_2023_utökat,\n",
    "        df_resultat_2024,\n",
    "    ],\n",
    "    ignore_index=True,\n",
    ")\n",
    "\n",
    "df_total_2021_2024.columns"
   ]
  },
  {
   "cell_type": "code",
   "execution_count": null,
   "id": "37ad4f29",
   "metadata": {},
   "outputs": [],
   "source": [
    "df_total_2021_2024"
   ]
  },
  {
   "cell_type": "code",
   "execution_count": null,
   "id": "8c798629",
   "metadata": {},
   "outputs": [],
   "source": [
    "import duckdb\n",
    "\n",
    "\n",
    "\n",
    "\n",
    "df_total_2020_2024 = duckdb.query(\n",
    "    \"\"\"--sql\n",
    "    SELECT\n",
    "        \"Diarienummer\",\n",
    "        \"Anordnare namn\",\n",
    "        \"Utbildningsnamn\",\n",
    "        \"Utbildningsområde\",\n",
    "        \"Beslut\",\n",
    "        \"Platser med start 2020\" AS \"Belsut år 2020 april antal beviljade platser 2020\",\n",
    "        \"Platser med start 2021\" AS \"Beslut år 2020 april antal beviljade platser 2021\",\n",
    "        \"Platser med start och avslut 2020\" AS \"Beslut år 2020 Juli antal beviljade platser 2020\",\n",
    "        \"Antal beviljade platser 2021\" AS \"Beslut år 2021 antal beviljade platser 2021\",\n",
    "        \"Antal beviljade platser 2022\" AS \"Beslut år 2021 antal beviljade  platser 2022\",\n",
    "        \"Antal beviljade platser start 2022\" AS \"Beslut år 2022 antal beviljade platser 2022\",\n",
    "        \"Antal beviljade platser start 2023\" AS \"Beslut år 2022 antal beviljade platser 2023\",\n",
    "        \"Antal beviljade platser utökad-anslag 2023\" AS \"Beslut år 2023 antal beviljade platser utökad-anslag 2023\",\n",
    "        \"Antal beviljade platser utökad-anslag 2024\" AS \"Beslut år 2023 antal beviljade platser utökad-anslag 2024\",\n",
    "        \"Antal beviljade platser 2023\" AS \"Beslut år 2023 antal beviljade platser 2023\",\n",
    "        \"Antal beviljade platser 2024\" AS \"Beslut år 2023 antal beviljade platser 2024\",\n",
    "        \"Antal beviljade platser start 2024\" AS \"Beslut år 2024 antal beviljade platser start 2024\",\n",
    "        \"Antal beviljade platser start och slut 2024\" AS \"Beslut år 2024 antal beviljade start och avslut 2024\",\n",
    "        \"Antal beviljade platser start 2025\" AS \"Beslut år 2024 antal beviljade start 2025\",\n",
    "        \"YH-poäng\",\n",
    "        \"Kommun\",\n",
    "        \"Län\",\n",
    "        \"FA-region\",\n",
    "        \"Antal kommuner\",\n",
    "        \"Antal län\",\n",
    "        \"Antal FA-regioner\"\n",
    "    FROM \n",
    "        df_total_2021_2024\n",
    "    \"\"\"\n",
    ").df()\n",
    "\n"
   ]
  },
  {
   "cell_type": "code",
   "execution_count": null,
   "id": "c7194259",
   "metadata": {},
   "outputs": [],
   "source": [
    "df_total_2020_2024.columns"
   ]
  },
  {
   "cell_type": "code",
   "execution_count": null,
   "id": "3eb7acff",
   "metadata": {},
   "outputs": [],
   "source": [
    "df_total_2020_2024.drop(\"Beslut\", axis= 1, inplace=True)\n",
    "\n",
    "clean_out_Nan = [\n",
    "    \"Belsut år 2020 april antal beviljade platser 2020\",\n",
    "    \"Beslut år 2020 april antal beviljade platser 2021\",\n",
    "    \"Beslut år 2020 Juli antal beviljade platser 2020\",\n",
    "    \"Beslut år 2021 antal beviljade platser 2021\",\n",
    "    \"Beslut år 2021 antal beviljade  platser 2022\",\n",
    "    \"Beslut år 2022 antal beviljade platser 2022\",\n",
    "    \"Beslut år 2022 antal beviljade platser 2023\",\n",
    "    \"Beslut år 2023 antal beviljade platser utökad-anslag 2023\",\n",
    "    \"Beslut år 2023 antal beviljade platser utökad-anslag 2024\",\n",
    "    \"Beslut år 2023 antal beviljade platser 2023\",\n",
    "    \"Beslut år 2023 antal beviljade platser 2024\",\n",
    "    \"Beslut år 2024 antal beviljade platser start 2024\",\n",
    "    \"Beslut år 2024 antal beviljade start och avslut 2024\",\n",
    "    \"Beslut år 2024 antal beviljade start 2025\",\n",
    "    \"Antal kommuner\",\n",
    "    \"Antal län\",\n",
    "    \"Antal FA-regioner\",\n",
    "]\n",
    "\n",
    "\n",
    "clean_Nan_value_ = [\"Län\", \"FA-region\"]\n",
    "\n",
    "\n",
    "update_column = df_total_2020_2024[clean_out_Nan].fillna(0).astype(int)\n",
    "df_total_2020_2024[clean_out_Nan] = update_column\n",
    "\n",
    "update_column_other = df_total_2020_2024[clean_Nan_value_].fillna(\"\").astype(str)\n",
    "df_total_2020_2024[clean_Nan_value_] = update_column_other\n",
    "\n",
    "# count how many municipality for each anordnare \n",
    "df_total_2020_2024[\"Antal kommuner\"] = df_total_2020_2024[\"Kommun\"].apply(\n",
    "    lambda x: len([k.strip() for k in x.split(\",\") if k.split()])\n",
    ")\n",
    "\n",
    "\n",
    "df_total_2020_2024.to_csv(\"../../data/anordnare_resultat_kurser_2020-2024/resultat_alla_beviljad.csv\", index=False)\n",
    "\n"
   ]
  },
  {
   "cell_type": "markdown",
   "id": "f6e0651d",
   "metadata": {},
   "source": [
    "### Filter data for how many beviljade platser each anordnare for 2020 - 2024"
   ]
  },
  {
   "cell_type": "code",
   "execution_count": null,
   "id": "c2bd9118",
   "metadata": {},
   "outputs": [],
   "source": [
    "df = pd.read_csv(\"../../data/anordnare_resultat_kurser_2020-2024/resultat_alla_beviljad.csv\")\n",
    "\n",
    "\n",
    "df.columns\n"
   ]
  },
  {
   "cell_type": "code",
   "execution_count": null,
   "id": "a9c007df",
   "metadata": {},
   "outputs": [],
   "source": [
    "\n",
    "# drop duplicate data\n",
    "# total_beviljade_plaser = df.drop(\n",
    "#     ['Beslut år 2020 april antal beviljade platser 2021',\n",
    "#     'Beslut år 2021 antal beviljade  platser 2022',\n",
    "#     'Beslut år 2022 antal beviljade platser 2023',\n",
    "#     'Beslut år 2023 antal beviljade platser 2024',\n",
    "#     'Beslut år 2024 antal beviljade start och avslut 2024'],\n",
    "#     axis= 1\n",
    "# )"
   ]
  },
  {
   "cell_type": "code",
   "execution_count": null,
   "id": "b32b0369",
   "metadata": {},
   "outputs": [],
   "source": [
    "\n",
    "# group anordnare and utbildningsområde and aggregate all year with sum\n",
    "# total_beviljade_plaser = total_beviljade_plaser[total_beviljade_plaser[\"Beslut\"] == \"Beviljad\"].groupby(\n",
    "#     [\"Anordnare namn\", \"Utbildningsområde\"]\n",
    "# )[[\n",
    "#     \"Belsut år 2020 april antal beviljade platser 2020\",\n",
    "#     \"Beslut år 2020 Juli antal beviljade platser 2020\",\n",
    "#     \"Beslut år 2021 antal beviljade platser 2021\",\n",
    "#     \"Beslut år 2022 antal beviljade platser 2022\",\n",
    "#     \"Beslut år 2023 antal beviljade platser utökad-anslag 2023\",\n",
    "#     \"Beslut år 2023 antal beviljade platser utökad-anslag 2024\",\n",
    "#     \"Beslut år 2023 antal beviljade platser 2023\",\n",
    "#     \"Beslut år 2024 antal beviljade platser start 2024\",\n",
    "#     \"Beslut år 2024 antal beviljade start 2025\",\n",
    "# ]\n",
    "# ].sum().reset_index()\n"
   ]
  },
  {
   "cell_type": "code",
   "execution_count": null,
   "id": "93d279a3",
   "metadata": {},
   "outputs": [],
   "source": [
    "\n",
    "\n",
    "# Function to dashborad to filter\n",
    "def filter_anordnare(df, anordnare, utbildningsområde, år):\n",
    "    \n",
    "    df = df[(df[\"Anordnare namn\"] == anordnare) & (df[\"Utbildningsområde\"] == utbildningsområde)]\n",
    "    \n",
    "    \n",
    "    # Bestäm kolumn baserad på år\n",
    "    kolumn_dict = {\n",
    "        2020: [\"Belsut år 2020 april antal beviljade platser 2020\", \"Beslut år 2020 Juli antal beviljade platser 2020\"],\n",
    "        2021:  [\"Beslut år 2021 antal beviljade platser 2021\"],\n",
    "        2022: [\"Beslut år 2022 antal beviljade platser 2022\"],\n",
    "        2023: [\"Beslut år 2023 antal beviljade platser utökad-anslag 2023\", \"Beslut år 2023 antal beviljade platser 2023\"],\n",
    "        2024: [\"Beslut år 2024 antal beviljade platser start 2024\"]\n",
    "    }\n",
    "    \n",
    "    column_show = kolumn_dict.get(år)\n",
    "    \n",
    "    if column_show:\n",
    "        return df[[\"Anordnare namn\", \"Utbildningsområde\"] + column_show]\n",
    "    \n",
    "\n",
    "filter_anordnare(df, \"AGSTU AB\", \"Data/IT\", 2024)"
   ]
  },
  {
   "cell_type": "code",
   "execution_count": null,
   "id": "a0ff319c",
   "metadata": {},
   "outputs": [],
   "source": [
    "beviljad_2024 = df_resultat_2024[df_resultat_2024[\"Beslut\"] == \"Beviljad\"]\n",
    "\n",
    "anordnare_utbildningsområde = beviljad_2024.groupby(\"Anordnare namn\")[\"Utbildningsområde\"].count().reset_index(\n",
    "    name=\"Antal utbildningar\"\n",
    ").sort_values(by= \"Antal utbildningar\", ascending=False).reset_index(drop=True)"
   ]
  },
  {
   "cell_type": "code",
   "execution_count": null,
   "id": "3b634044",
   "metadata": {},
   "outputs": [],
   "source": [
    "anordnare_utbildningsområde = anordnare_utbildningsområde.set_index(\n",
    "    \"Anordnare namn\"\n",
    ").iloc[:5]\n",
    "\n",
    "anordnare_utbildningsområde\n"
   ]
  },
  {
   "cell_type": "code",
   "execution_count": null,
   "id": "6004d932",
   "metadata": {},
   "outputs": [],
   "source": [
    "anordnare_utbildningsområde"
   ]
  },
  {
   "cell_type": "code",
   "execution_count": null,
   "id": "53a23581",
   "metadata": {},
   "outputs": [],
   "source": [
    "\n",
    "def totala_utbildningsområde():\n",
    "    fig, ax = plt.subplots(figsize=(12,6), facecolor= \"#eaead9\") \n",
    "    \n",
    "    return fig, ax"
   ]
  },
  {
   "cell_type": "code",
   "execution_count": null,
   "id": "fb899463",
   "metadata": {},
   "outputs": [],
   "source": [
    "\n",
    "ax.containers[0][0].get_height(), ax.containers[0][0].get_x()"
   ]
  },
  {
   "cell_type": "code",
   "execution_count": null,
   "id": "9df7ab83",
   "metadata": {},
   "outputs": [],
   "source": [
    "colors = [\"#A0A3A4\"] * len(anordnare_utbildningsområde.index)\n",
    "colors[:2] = [\"#0F565A\"] * 2\n",
    "colors"
   ]
  },
  {
   "cell_type": "code",
   "execution_count": null,
   "id": "6cacd25d",
   "metadata": {},
   "outputs": [],
   "source": [
    "plt.style.use(\"marcus.mplstyle\")\n",
    "\n",
    "\n",
    "fig, ax = totala_utbildningsområde()\n",
    "\n",
    "ax.bar(\n",
    "    anordnare_utbildningsområde.index,\n",
    "    anordnare_utbildningsområde[\"Antal utbildningar\"],\n",
    "    color= colors,\n",
    "    width=0.3\n",
    ")\n",
    "\n",
    "\n",
    "# clutter\n",
    "ax.tick_params(\"y\", pad=5)\n",
    "ax.tick_params(\"x\", pad=3)\n",
    "\n",
    "# description title and label -> call to action\n",
    "ax.set_xticklabels(ax.get_xticklabels(), rotation=45, ha=\"right\")\n",
    "ax.set_ylabel(\"ANTAL KOMMUNER\", loc=\"top\", rotation=0)\n",
    "ax.yaxis.set_label_coords(-0.01, 1.02)\n",
    "ax.set_title(\n",
    "    \"Top 5 anordnare med olika områden för kurser beviljade 2024.\\n\" \n",
    "    r\"$\\mathbf{YH\\ Akademi}$ har nästan dubbelt så många olika område än $\\mathbf{Medieinstitutet\\ i\\ sverige\\ AB}$\",\n",
    "    loc=\"left\",\n",
    "    pad=30,\n",
    ")\n",
    "ax.set_xlabel(\"# NAMNEN PÅ ANORDNARE\", loc= \"left\")\n",
    "\n",
    "ax.set_facecolor(color=\"#e2e2cf\")\n",
    "\n",
    "# adding space\n",
    "ax.margins(y=0.4)\n",
    "\n",
    "fig.tight_layout()\n",
    "save_fig_from_ax(ax, \"../figures/top_5_antal_utbilningsområde_anordnare\")"
   ]
  },
  {
   "cell_type": "code",
   "execution_count": null,
   "id": "a274322a",
   "metadata": {},
   "outputs": [],
   "source": [
    "df.columns"
   ]
  },
  {
   "cell_type": "code",
   "execution_count": null,
   "id": "7b4c0f62",
   "metadata": {},
   "outputs": [],
   "source": [
    "# Make sure that they have diffrenence diarienummer \n",
    "df_resultat_2021[\"Diarienummer\"].isin(df_resultat_2022[\"Diarienummer\"]).any()\n",
    "df_resultat_2022[\"Diarienummer\"].isin(df_resultat_2023).any()\n",
    "df_resultat_2023[\"Diarienummer\"].isin(df_resultat_2023_utökat).any()\n",
    "df_resultat_2023[\"Diarienummer\"].isin(df_resultat_2024).any()\n",
    "df_resultat_2023_utökat[\"Diarienummer\"].isin(df_resultat_2024).any()"
   ]
  },
  {
   "cell_type": "code",
   "execution_count": null,
   "id": "9e3fb3cb",
   "metadata": {},
   "outputs": [],
   "source": [
    "df[\"Totalt beviljade platser 2020\"] = (df[\"Belsut år 2020 april antal beviljade platser 2020\"] + df[\"Beslut år 2020 Juli antal beviljade platser 2020\"])\n",
    "df[\"Totalt beviljade platser 2021\"] = (df[\"Beslut år 2020 april antal beviljade platser 2021\"] + df[\"Beslut år 2021 antal beviljade platser 2021\"])\n",
    "df[\"Totalt beviljade platser 2022\"] = (df[\"Beslut år 2021 antal beviljade  platser 2022\"] + df[\"Beslut år 2022 antal beviljade platser 2022\"])\n",
    "df[\"Totalt beviljade platser 2023\"] = (df[\"Beslut år 2022 antal beviljade platser 2023\"] + df[\"Beslut år 2023 antal beviljade platser 2023\"] + df[\"Beslut år 2023 antal beviljade platser utökad-anslag 2023\"])\n",
    "df[\"Totalt beviljade platser 2024\"] = (df[\"Beslut år 2023 antal beviljade platser 2024\"] + df[\"Beslut år 2023 antal beviljade platser utökad-anslag 2024\"] + df[\"Beslut år 2024 antal beviljade platser start 2024\"])\n",
    "df[\"Totalt beviljade platser 2025\"] = df[\"Beslut år 2024 antal beviljade start 2025\"]\n",
    "df.head()\n"
   ]
  },
  {
   "cell_type": "code",
   "execution_count": null,
   "id": "4ad50265",
   "metadata": {},
   "outputs": [],
   "source": [
    "df.columns"
   ]
  },
  {
   "cell_type": "code",
   "execution_count": null,
   "id": "201861da",
   "metadata": {},
   "outputs": [],
   "source": [
    "beviljade_platser_per_år = df[\n",
    "    [\n",
    "        \"Anordnare namn\",\n",
    "        \"Utbildningsnamn\",\n",
    "        \"Utbildningsområde\",\n",
    "        \"Totalt beviljade platser 2020\",\n",
    "        \"Totalt beviljade platser 2021\",\n",
    "        \"Totalt beviljade platser 2022\",\n",
    "        \"Totalt beviljade platser 2023\",\n",
    "        \"Totalt beviljade platser 2024\",\n",
    "        \"Totalt beviljade platser 2025\",\n",
    "        'Antal kommuner'\n",
    "    ]\n",
    "]\n",
    "\n",
    "\n",
    "beviljade_platser_per_år[\"Anordnare namn\"].value_counts()"
   ]
  },
  {
   "cell_type": "code",
   "execution_count": null,
   "id": "ce15d15c",
   "metadata": {},
   "outputs": [],
   "source": [
    "df_beviljade_platser_år = beviljade_platser_per_år.groupby([\"Anordnare namn\", \"Utbildningsområde\"])[['Totalt beviljade platser 2020',\n",
    "       'Totalt beviljade platser 2021', 'Totalt beviljade platser 2022',\n",
    "       'Totalt beviljade platser 2023', 'Totalt beviljade platser 2024',\n",
    "       'Totalt beviljade platser 2025', \"Antal kommuner\"]].sum()\n",
    "\n",
    "df_beviljade_platser_år.reset_index(inplace= True)"
   ]
  },
  {
   "cell_type": "code",
   "execution_count": null,
   "id": "a44ce735",
   "metadata": {},
   "outputs": [],
   "source": [
    "df_avslag_2024 = pd.read_excel(\"../../data/anordnare_resultat_kurser_2020-2024/resultat-2024-for-kurser-inom-yh.xlsx\")\n",
    "df_avslag_2023 = pd.read_excel(\"../../data/anordnare_resultat_kurser_2020-2024/resultat-2023-for-kurser-inom-yh.xlsx\")"
   ]
  },
  {
   "cell_type": "code",
   "execution_count": 100,
   "id": "32fed435",
   "metadata": {},
   "outputs": [
    {
     "data": {
      "text/plain": [
       "np.int64(30)"
      ]
     },
     "execution_count": 100,
     "metadata": {},
     "output_type": "execute_result"
    }
   ],
   "source": [
    "df_avslag_2024.query(\"Beslut == 'Beviljad'\").groupby(\"Anordnare namn\")[\"Antal beviljade platser start 2024\"].sum()[\"AVT AB\"]"
   ]
  },
  {
   "cell_type": "code",
   "execution_count": 101,
   "id": "e7594184",
   "metadata": {},
   "outputs": [
    {
     "data": {
      "text/html": [
       "<div>\n",
       "<style scoped>\n",
       "    .dataframe tbody tr th:only-of-type {\n",
       "        vertical-align: middle;\n",
       "    }\n",
       "\n",
       "    .dataframe tbody tr th {\n",
       "        vertical-align: top;\n",
       "    }\n",
       "\n",
       "    .dataframe thead th {\n",
       "        text-align: right;\n",
       "    }\n",
       "</style>\n",
       "<table border=\"1\" class=\"dataframe\">\n",
       "  <thead>\n",
       "    <tr style=\"text-align: right;\">\n",
       "      <th></th>\n",
       "      <th>Diarienummer</th>\n",
       "      <th>Beslut</th>\n",
       "      <th>Anordnare namn</th>\n",
       "      <th>Utbildningsnamn</th>\n",
       "      <th>Utbildningsområde</th>\n",
       "      <th>Antal beviljade platser start 2024</th>\n",
       "      <th>Antal beviljade platser start och slut 2024</th>\n",
       "      <th>Antal beviljade platser start 2025</th>\n",
       "      <th>Totalt antal beviljade platser</th>\n",
       "      <th>YH-poäng</th>\n",
       "      <th>Kommun</th>\n",
       "      <th>Län</th>\n",
       "      <th>FA-region</th>\n",
       "      <th>Antal kommuner</th>\n",
       "      <th>Antal län</th>\n",
       "      <th>Antal FA-regioner</th>\n",
       "    </tr>\n",
       "  </thead>\n",
       "  <tbody>\n",
       "    <tr>\n",
       "      <th>0</th>\n",
       "      <td>MYH 2024/1000</td>\n",
       "      <td>Avslag</td>\n",
       "      <td>Changemaker Educations AB</td>\n",
       "      <td>Futuregames Accessible Game Production</td>\n",
       "      <td>Juridik</td>\n",
       "      <td>0</td>\n",
       "      <td>0</td>\n",
       "      <td>0</td>\n",
       "      <td>0</td>\n",
       "      <td>25</td>\n",
       "      <td>Se \"Lista flera kommuner\"</td>\n",
       "      <td>Se \"Lista flera kommuner\"</td>\n",
       "      <td>Se \"Lista flera kommuner\"</td>\n",
       "      <td>3</td>\n",
       "      <td>3</td>\n",
       "      <td>3</td>\n",
       "    </tr>\n",
       "    <tr>\n",
       "      <th>1</th>\n",
       "      <td>MYH 2024/1001</td>\n",
       "      <td>Avslag</td>\n",
       "      <td>Changemaker Educations AB</td>\n",
       "      <td>Futuregames Inclusive Game Development</td>\n",
       "      <td>Ekonomi, administration och försäljning</td>\n",
       "      <td>0</td>\n",
       "      <td>0</td>\n",
       "      <td>0</td>\n",
       "      <td>0</td>\n",
       "      <td>25</td>\n",
       "      <td>Se \"Lista flera kommuner\"</td>\n",
       "      <td>Se \"Lista flera kommuner\"</td>\n",
       "      <td>Se \"Lista flera kommuner\"</td>\n",
       "      <td>3</td>\n",
       "      <td>3</td>\n",
       "      <td>3</td>\n",
       "    </tr>\n",
       "    <tr>\n",
       "      <th>2</th>\n",
       "      <td>MYH 2024/1002</td>\n",
       "      <td>Avslag</td>\n",
       "      <td>Båstads kommun Akademi Båstad</td>\n",
       "      <td>Ekosystemtjänster i praktiken</td>\n",
       "      <td>Lantbruk, djurvård, trädgård, skog och fiske</td>\n",
       "      <td>0</td>\n",
       "      <td>0</td>\n",
       "      <td>0</td>\n",
       "      <td>0</td>\n",
       "      <td>50</td>\n",
       "      <td>Båstad</td>\n",
       "      <td>Skåne</td>\n",
       "      <td>Malmö-Lund</td>\n",
       "      <td>1</td>\n",
       "      <td>1</td>\n",
       "      <td>1</td>\n",
       "    </tr>\n",
       "    <tr>\n",
       "      <th>3</th>\n",
       "      <td>MYH 2024/1003</td>\n",
       "      <td>Avslag</td>\n",
       "      <td>Båstads kommun Akademi Båstad</td>\n",
       "      <td>Hållbar dagvattenhantering i praktiken</td>\n",
       "      <td>Lantbruk, djurvård, trädgård, skog och fiske</td>\n",
       "      <td>0</td>\n",
       "      <td>0</td>\n",
       "      <td>0</td>\n",
       "      <td>0</td>\n",
       "      <td>50</td>\n",
       "      <td>Båstad</td>\n",
       "      <td>Skåne</td>\n",
       "      <td>Malmö-Lund</td>\n",
       "      <td>1</td>\n",
       "      <td>1</td>\n",
       "      <td>1</td>\n",
       "    </tr>\n",
       "    <tr>\n",
       "      <th>4</th>\n",
       "      <td>MYH 2024/1004</td>\n",
       "      <td>Avslag</td>\n",
       "      <td>Båstads kommun Akademi Båstad</td>\n",
       "      <td>Invasiva växter i utemiljöer</td>\n",
       "      <td>Lantbruk, djurvård, trädgård, skog och fiske</td>\n",
       "      <td>0</td>\n",
       "      <td>0</td>\n",
       "      <td>0</td>\n",
       "      <td>0</td>\n",
       "      <td>25</td>\n",
       "      <td>Båstad</td>\n",
       "      <td>Skåne</td>\n",
       "      <td>Malmö-Lund</td>\n",
       "      <td>1</td>\n",
       "      <td>1</td>\n",
       "      <td>1</td>\n",
       "    </tr>\n",
       "    <tr>\n",
       "      <th>...</th>\n",
       "      <td>...</td>\n",
       "      <td>...</td>\n",
       "      <td>...</td>\n",
       "      <td>...</td>\n",
       "      <td>...</td>\n",
       "      <td>...</td>\n",
       "      <td>...</td>\n",
       "      <td>...</td>\n",
       "      <td>...</td>\n",
       "      <td>...</td>\n",
       "      <td>...</td>\n",
       "      <td>...</td>\n",
       "      <td>...</td>\n",
       "      <td>...</td>\n",
       "      <td>...</td>\n",
       "      <td>...</td>\n",
       "    </tr>\n",
       "    <tr>\n",
       "      <th>875</th>\n",
       "      <td>MYH 2024/995</td>\n",
       "      <td>Beviljad</td>\n",
       "      <td>Hyper Island Program AB - Stockholm</td>\n",
       "      <td>Data Analytics</td>\n",
       "      <td>Data/IT</td>\n",
       "      <td>50</td>\n",
       "      <td>0</td>\n",
       "      <td>50</td>\n",
       "      <td>100</td>\n",
       "      <td>55</td>\n",
       "      <td>Stockholm</td>\n",
       "      <td>Stockholm</td>\n",
       "      <td>Stockholm</td>\n",
       "      <td>1</td>\n",
       "      <td>1</td>\n",
       "      <td>1</td>\n",
       "    </tr>\n",
       "    <tr>\n",
       "      <th>876</th>\n",
       "      <td>MYH 2024/996</td>\n",
       "      <td>Avslag</td>\n",
       "      <td>INSU AB</td>\n",
       "      <td>Solteknik- installation, säkerhet och regelverk</td>\n",
       "      <td>Teknik och tillverkning</td>\n",
       "      <td>0</td>\n",
       "      <td>0</td>\n",
       "      <td>0</td>\n",
       "      <td>0</td>\n",
       "      <td>60</td>\n",
       "      <td>Nyköping</td>\n",
       "      <td>Södermanland</td>\n",
       "      <td>Nyköping-Oxelösund</td>\n",
       "      <td>1</td>\n",
       "      <td>1</td>\n",
       "      <td>1</td>\n",
       "    </tr>\n",
       "    <tr>\n",
       "      <th>877</th>\n",
       "      <td>MYH 2024/997</td>\n",
       "      <td>Avslag</td>\n",
       "      <td>INSU AB</td>\n",
       "      <td>Säkerhetsprojektering- brand-, inbrott-, kamer...</td>\n",
       "      <td>Säkerhetstjänster</td>\n",
       "      <td>0</td>\n",
       "      <td>0</td>\n",
       "      <td>0</td>\n",
       "      <td>0</td>\n",
       "      <td>95</td>\n",
       "      <td>Nyköping</td>\n",
       "      <td>Södermanland</td>\n",
       "      <td>Nyköping-Oxelösund</td>\n",
       "      <td>1</td>\n",
       "      <td>1</td>\n",
       "      <td>1</td>\n",
       "    </tr>\n",
       "    <tr>\n",
       "      <th>878</th>\n",
       "      <td>MYH 2024/998</td>\n",
       "      <td>Beviljad</td>\n",
       "      <td>Campus Nyköping</td>\n",
       "      <td>Hälsofrämjande och pedagogiska insatser med häst</td>\n",
       "      <td>Lantbruk, djurvård, trädgård, skog och fiske</td>\n",
       "      <td>24</td>\n",
       "      <td>0</td>\n",
       "      <td>0</td>\n",
       "      <td>24</td>\n",
       "      <td>50</td>\n",
       "      <td>Nyköping</td>\n",
       "      <td>Södermanland</td>\n",
       "      <td>Nyköping-Oxelösund</td>\n",
       "      <td>1</td>\n",
       "      <td>1</td>\n",
       "      <td>1</td>\n",
       "    </tr>\n",
       "    <tr>\n",
       "      <th>879</th>\n",
       "      <td>MYH 2024/999</td>\n",
       "      <td>Avslag</td>\n",
       "      <td>Changemaker Educations AB</td>\n",
       "      <td>Futuregames Accessible Game Design</td>\n",
       "      <td>Data/IT</td>\n",
       "      <td>0</td>\n",
       "      <td>0</td>\n",
       "      <td>0</td>\n",
       "      <td>0</td>\n",
       "      <td>25</td>\n",
       "      <td>Se \"Lista flera kommuner\"</td>\n",
       "      <td>Se \"Lista flera kommuner\"</td>\n",
       "      <td>Se \"Lista flera kommuner\"</td>\n",
       "      <td>3</td>\n",
       "      <td>3</td>\n",
       "      <td>3</td>\n",
       "    </tr>\n",
       "  </tbody>\n",
       "</table>\n",
       "<p>880 rows × 16 columns</p>\n",
       "</div>"
      ],
      "text/plain": [
       "      Diarienummer    Beslut                       Anordnare namn  \\\n",
       "0    MYH 2024/1000    Avslag            Changemaker Educations AB   \n",
       "1    MYH 2024/1001    Avslag            Changemaker Educations AB   \n",
       "2    MYH 2024/1002    Avslag        Båstads kommun Akademi Båstad   \n",
       "3    MYH 2024/1003    Avslag        Båstads kommun Akademi Båstad   \n",
       "4    MYH 2024/1004    Avslag        Båstads kommun Akademi Båstad   \n",
       "..             ...       ...                                  ...   \n",
       "875   MYH 2024/995  Beviljad  Hyper Island Program AB - Stockholm   \n",
       "876   MYH 2024/996    Avslag                              INSU AB   \n",
       "877   MYH 2024/997    Avslag                              INSU AB   \n",
       "878   MYH 2024/998  Beviljad                      Campus Nyköping   \n",
       "879   MYH 2024/999    Avslag            Changemaker Educations AB   \n",
       "\n",
       "                                       Utbildningsnamn  \\\n",
       "0              Futuregames Accessible Game Production    \n",
       "1               Futuregames Inclusive Game Development   \n",
       "2                        Ekosystemtjänster i praktiken   \n",
       "3               Hållbar dagvattenhantering i praktiken   \n",
       "4                         Invasiva växter i utemiljöer   \n",
       "..                                                 ...   \n",
       "875                                     Data Analytics   \n",
       "876    Solteknik- installation, säkerhet och regelverk   \n",
       "877  Säkerhetsprojektering- brand-, inbrott-, kamer...   \n",
       "878   Hälsofrämjande och pedagogiska insatser med häst   \n",
       "879                 Futuregames Accessible Game Design   \n",
       "\n",
       "                                Utbildningsområde  \\\n",
       "0                                         Juridik   \n",
       "1         Ekonomi, administration och försäljning   \n",
       "2    Lantbruk, djurvård, trädgård, skog och fiske   \n",
       "3    Lantbruk, djurvård, trädgård, skog och fiske   \n",
       "4    Lantbruk, djurvård, trädgård, skog och fiske   \n",
       "..                                            ...   \n",
       "875                                       Data/IT   \n",
       "876                       Teknik och tillverkning   \n",
       "877                             Säkerhetstjänster   \n",
       "878  Lantbruk, djurvård, trädgård, skog och fiske   \n",
       "879                                       Data/IT   \n",
       "\n",
       "     Antal beviljade platser start 2024  \\\n",
       "0                                     0   \n",
       "1                                     0   \n",
       "2                                     0   \n",
       "3                                     0   \n",
       "4                                     0   \n",
       "..                                  ...   \n",
       "875                                  50   \n",
       "876                                   0   \n",
       "877                                   0   \n",
       "878                                  24   \n",
       "879                                   0   \n",
       "\n",
       "     Antal beviljade platser start och slut 2024  \\\n",
       "0                                              0   \n",
       "1                                              0   \n",
       "2                                              0   \n",
       "3                                              0   \n",
       "4                                              0   \n",
       "..                                           ...   \n",
       "875                                            0   \n",
       "876                                            0   \n",
       "877                                            0   \n",
       "878                                            0   \n",
       "879                                            0   \n",
       "\n",
       "     Antal beviljade platser start 2025  Totalt antal beviljade platser  \\\n",
       "0                                     0                               0   \n",
       "1                                     0                               0   \n",
       "2                                     0                               0   \n",
       "3                                     0                               0   \n",
       "4                                     0                               0   \n",
       "..                                  ...                             ...   \n",
       "875                                  50                             100   \n",
       "876                                   0                               0   \n",
       "877                                   0                               0   \n",
       "878                                   0                              24   \n",
       "879                                   0                               0   \n",
       "\n",
       "     YH-poäng                     Kommun                        Län  \\\n",
       "0          25  Se \"Lista flera kommuner\"  Se \"Lista flera kommuner\"   \n",
       "1          25  Se \"Lista flera kommuner\"  Se \"Lista flera kommuner\"   \n",
       "2          50                     Båstad                      Skåne   \n",
       "3          50                     Båstad                      Skåne   \n",
       "4          25                     Båstad                      Skåne   \n",
       "..        ...                        ...                        ...   \n",
       "875        55                  Stockholm                  Stockholm   \n",
       "876        60                   Nyköping               Södermanland   \n",
       "877        95                   Nyköping               Södermanland   \n",
       "878        50                   Nyköping               Södermanland   \n",
       "879        25  Se \"Lista flera kommuner\"  Se \"Lista flera kommuner\"   \n",
       "\n",
       "                     FA-region  Antal kommuner  Antal län  Antal FA-regioner  \n",
       "0    Se \"Lista flera kommuner\"               3          3                  3  \n",
       "1    Se \"Lista flera kommuner\"               3          3                  3  \n",
       "2                   Malmö-Lund               1          1                  1  \n",
       "3                   Malmö-Lund               1          1                  1  \n",
       "4                   Malmö-Lund               1          1                  1  \n",
       "..                         ...             ...        ...                ...  \n",
       "875                  Stockholm               1          1                  1  \n",
       "876         Nyköping-Oxelösund               1          1                  1  \n",
       "877         Nyköping-Oxelösund               1          1                  1  \n",
       "878         Nyköping-Oxelösund               1          1                  1  \n",
       "879  Se \"Lista flera kommuner\"               3          3                  3  \n",
       "\n",
       "[880 rows x 16 columns]"
      ]
     },
     "execution_count": 101,
     "metadata": {},
     "output_type": "execute_result"
    }
   ],
   "source": [
    "df_avslag_2024"
   ]
  },
  {
   "cell_type": "code",
   "execution_count": 96,
   "id": "64ff912c",
   "metadata": {},
   "outputs": [
    {
     "data": {
      "text/plain": [
       "Anordnare namn\n",
       "ABF Göteborg Vuxenutbildning AB                   0\n",
       "AGSTU AB                                         10\n",
       "ALEA Kompetenshöjning AB                        105\n",
       "AVT AB                                           30\n",
       "Ai Högskolan Sverige AB                           0\n",
       "                                               ... \n",
       "Yrkeshögskola Campus Mölndal                      0\n",
       "Yrkesutbildaren Habo AB                           0\n",
       "Älmhults kommun, Haganässkolan                    0\n",
       "Åsbro Kursgård AB                                 0\n",
       "Östsvenska Yrkeshögskolan AB                     20\n",
       "Name: Antal beviljade platser start 2024, Length: 166, dtype: int64"
      ]
     },
     "execution_count": 96,
     "metadata": {},
     "output_type": "execute_result"
    }
   ],
   "source": [
    "df_avslag_2024.groupby(\"Anordnare namn\")[\"Antal beviljade platser start 2024\"].sum()"
   ]
  },
  {
   "cell_type": "markdown",
   "id": "fe90c975",
   "metadata": {},
   "source": [
    "# Cleaning data on anordnare namn on the new set"
   ]
  },
  {
   "cell_type": "code",
   "execution_count": null,
   "id": "609bd652",
   "metadata": {},
   "outputs": [],
   "source": [
    "# df_beviljade_platser_år[\"Anordnare namn\"].unique()"
   ]
  },
  {
   "cell_type": "code",
   "execution_count": null,
   "id": "f6751a8a",
   "metadata": {},
   "outputs": [],
   "source": [
    "\n",
    "# # regex to clean of some word, letter and other stuff.\n",
    "# df_beviljade_platser_år[\"Anordnare ren\"] = (\n",
    "#     df_beviljade_platser_år[\"Anordnare namn\"]\n",
    "#     .str.lower()\n",
    "#     .str.replace(r\"\\b(ab|yh|stiftelsen|kursverksamheten|utbildningen|academy)\\b\", \"\", regex=True)\n",
    "#     .str.replace(r\",.*\", \"\", regex=True)\n",
    "#     .str.replace(r\"\\b(kommun|stad|university|universitetet|universitet)\\b\", \"\", regex=True)\n",
    "#     .str.replace(r\"\\b(göteborg|stockholm|umeå|uppsala|örebro|malmö|varberg|ljungby|nynäshamn)\\b\", \"\", regex=True)\n",
    "#     .str.replace(r\"[-–/]\", \" \", regex=True)\n",
    "#     .str.replace(r\"\\s+\", \" \", regex=True)\n",
    "#     .str.strip()\n",
    "#    )\n",
    "\n",
    "# df_beviljade_platser_år[\"Anordnare ren\"] = df_beviljade_platser_år[\"Anordnare ren\"].str.strip(\"\")\n",
    "\n",
    "# df_beviljade_platser_år\n"
   ]
  },
  {
   "cell_type": "code",
   "execution_count": null,
   "id": "40655048",
   "metadata": {},
   "outputs": [],
   "source": [
    "\n",
    "# Grouping the data from Anordnare ren and count how many unique Anordnare namn there is in Anordnare ren.\n",
    "# # reset index making the result to a dataframe \n",
    "# df_group = df_beviljade_platser_år.groupby(\"Anordnare ren\")[\"Anordnare namn\"].nunique().reset_index()\n",
    "\n",
    "# df_group = df_group[df_group[\"Anordnare namn\"] > 1]\n",
    "# df_group.rename(columns= {\"Anordnare namn\": \"Antal varianter\"}, inplace=True)\n",
    "\n",
    "\n",
    "# df_group"
   ]
  },
  {
   "cell_type": "code",
   "execution_count": null,
   "id": "c188f5d9",
   "metadata": {},
   "outputs": [],
   "source": [
    "# # Using .isin to find out if df_beviljade_platsr _år Anordnare ren exisit in df_group Anordnare ren \n",
    "# dubbletter = df_beviljade_platser_år[df_beviljade_platser_år[\"Anordnare ren\"].isin(df_group[\"Anordnare ren\"])]\n",
    "# dubbletter"
   ]
  },
  {
   "cell_type": "code",
   "execution_count": null,
   "id": "4fa29396",
   "metadata": {},
   "outputs": [],
   "source": [
    "# dubbletter[[\"Anordnare ren\", \"Anordnare namn\"]].drop_duplicates().sort_values(\"Anordnare ren\")"
   ]
  },
  {
   "cell_type": "code",
   "execution_count": null,
   "id": "5a93838b",
   "metadata": {},
   "outputs": [],
   "source": [
    "\n",
    "\n",
    "# # Cleaning the data using duckdbquery and case when\n",
    "# df_beviljade_platser_år = duckdb.query(\n",
    "#     \"\"\"--sql\n",
    "#     SELECT\n",
    "#         CASE \n",
    "#             WHEN \"Anordnare namn\" = 'Campus Nynäshamn' THEN 'Campus AB'\n",
    "#             WHEN \"Anordnare namn\" = 'Campus Ljungby AB' THEN 'Campus AB'\n",
    "#             WHEN \"Anordnare namn\" LIKE '%Campus%' THEN 'Campus AB'\n",
    "#             WHEN \"Anordnare namn\" = 'Båstad kommun Akademi Båstad' THEN 'Båstad Akademi'\n",
    "#             WHEN \"Anordnare namn\" = 'Båstads Kommun Akademi Båstad' THEN 'Båstad Akademi'\n",
    "#             WHEN \"Anordnare namn\" LIKE '%Folkuniversitetet%' THEN 'Folkuniversitetet'\n",
    "#             WHEN \"Anordnare namn\" LIKE '%Borås Stad%' THEN 'Båros Yrkeshögskola'  \n",
    "#             WHEN \"Anordnare namn\" = 'EC Utbildning AB Göteborg' THEN 'EC Utbildning AB'\n",
    "#             WHEN \"Anordnare namn\" = 'EC Utbildning AB Malmö' THEN 'EC Utbildning AB'\n",
    "#             WHEN \"Anordnare namn\" = 'EC Utbildning AB Stockholm' THEN 'EC Utbildning AB'\n",
    "#             WHEN \"Anordnare namn\" = 'EC Utbildning AB Örebro' THEN 'EC Utbildning AB'\n",
    "#             WHEN \"Anordnare namn\" = 'Folkuniversitetet – Kursverksamheten vid Umeå' THEN 'Folkuniversitetet – Kursverksamheten'\n",
    "#             WHEN \"Anordnare namn\" = 'Folkuniversitetet- stiftelsen kursverksamheten vid Umeå' THEN  'Folkuniversitetet – Kursverksamheten' \n",
    "#             WHEN \"Anordnare namn\" = 'Folkuniversitetet – Kursverksamheten vid Umeå' THEN 'Folkuniversitetet – Kursverksamheten' \n",
    "#             WHEN \"Anordnare namn\" = 'Grit Academy' THEN 'Grit Academy AB'\n",
    "#             WHEN \"Anordnare namn\" = 'Göteborgs Stad, Yrgo' THEN 'Göteborgs stad, Yrgo'\n",
    "#             WHEN \"Anordnare namn\" = 'Hermods AB Göteborg' THEN 'Hermods AB'\n",
    "#             WHEN \"Anordnare namn\" = 'Hermods AB Malmö' THEN 'Hermods AB'\n",
    "#             WHEN \"Anordnare namn\" = 'Hermods AB Stockholm' THEN 'Hermods AB'\n",
    "#             WHEN \"Anordnare namn\" = 'Hermods AB Örebro' THEN 'Hermods AB'\n",
    "#             WHEN \"Anordnare namn\" LIKE '%Hermods%' THEN 'Hermods AB'\n",
    "#             WHEN \"Anordnare namn\" = 'Hyper Island Program AB - Stockholm' THEN 'Hyper Island Program AB'\n",
    "#             WHEN \"Anordnare namn\" = 'Hyper Island Program AB - Karlskrona' THEN 'Hyper Island Program AB'\n",
    "#             WHEN \"Anordnare namn\" = 'IHM Business School AB Göteborg' THEN 'IHM Business School AB'\n",
    "#             WHEN \"Anordnare namn\" = 'IHM Business School AB Stockholm' THEN 'IHM Business School AB'\n",
    "#             WHEN \"Anordnare namn\" = 'IHM Business School AB Malmö' THEN 'IHM Business School AB'\n",
    "#             WHEN \"Anordnare namn\" = 'Iterum Education' THEN 'Iterum Education AB'\n",
    "#             WHEN \"Anordnare namn\" = 'KompetensUtvecklingsinstitutet Sverige AB' THEN 'KompetensUtvecklingsInstitutet Sverige AB'\n",
    "#             WHEN \"Anordnare namn\" = 'KYH AB Stockholm' THEN 'KYH AB'\n",
    "#             WHEN \"Anordnare namn\" = 'KYH AB Göteborg' Then 'KYH AB'\n",
    "#             WHEN \"Anordnare namn\" = 'KYH AB Malmö' THEN 'KYH AB'\n",
    "#             WHEN \"Anordnare namn\" = 'båros båros yrkeshögskola' THEN 'Borås Yrkeshögskola'\n",
    "#             WHEN \"Anordnare namn\" = 'borås yrkeshögskola i borås' THEN 'Borås Yrkeshögskola'  \n",
    "#             WHEN \"Anordnare namn\" = 'borås yrkeshögskolan i borås' THEN 'Borås Yrkeshögskola'\n",
    "#             WHEN \"Anordnare namn\"  LIKE '%Påhlmans Handels%' THEN 'Medborgarskolan i Stockholm - Påhlmans Handelsinstitut'\n",
    "#             WHEN \"Anordnare namn\" = 'Sveriges Yrkeshögskola AB - Göteborg Yrkeshögskola' THEN 'Sveriges Yrkeshögskola AB'\n",
    "#             WHEN \"Anordnare namn\" = 'Sveriges Yrkeshögskola AB - Malmö Yrkeshögskola' THEN 'Sveriges Yrkeshögskola'\n",
    "#             WHEN \"Anordnare namn\" = 'TEC Travel Education Centre' THEN 'TEC Travel Education Centre AB'\n",
    "#             WHEN \"Anordnare namn\" = 'TUC Sweden AB - yrkeshögskol' THEN 'TUC Sweden AB - Yrkeshögskol'\n",
    "#             WHEN \"Anordnare namn\" = 'Yrkesakademin YH AB' THEN 'YrkesAkademin YH AB'\n",
    "#             WHEN \"Anordnare namn\" = 'IT-Högskolan Stockholm AB' THEN 'IT-Högskolan Sverige AB'\n",
    "#             WHEN \"Anordnare namn\" LIKE '%Karlskoga Kommun%' THEN 'Karlskoga Kommun'\n",
    "#             WHEN \"Anordnare namn\" LIKE '%Plushögskolan AB%' THEN 'Plushögskolan AB'\n",
    "#             WHEN \"Anordnare namn\" = 'Sunne Kommun/Brobygrafiska' THEN 'Sunne Kommun/Broby Grafiska' \n",
    "#             WHEN \"Anordnare namn\" = 'Sveriges Yrkeshögskola' THEN 'Sveriges Yrkeshögskola AB'\n",
    "#             WHEN \"Anordnare namn\" = 'TUC Sweden AB - yrkeshögskola' THEN 'TUC Sweden AB - Yrkeshögskola'\n",
    "#             WHEN \"Anordnare namn\" = 'YH Akademin(Marknad)' THEN 'YH Akademin'\n",
    "#             WHEN \"Anordnare namn\" = 'YerkesAkademin YH AB' THEN 'YH Akademin'\n",
    "#             else \"Anordnare namn\" \n",
    "#         END AS \"Anordnare standard\",\n",
    "#         *   \n",
    "#     FROM \n",
    "#         df_beviljade_platser_år\n",
    "#     \"\"\"\n",
    "# ).df()"
   ]
  },
  {
   "cell_type": "code",
   "execution_count": null,
   "id": "4b784655",
   "metadata": {},
   "outputs": [],
   "source": [
    "# df_beviljade_platser_år.to_csv(\"../../data/anordnare_resultat_kurser_2020-2024/df_kurs_beviljade_2020_2024.csv\", index=False)"
   ]
  },
  {
   "cell_type": "code",
   "execution_count": null,
   "id": "43fbd2de",
   "metadata": {},
   "outputs": [],
   "source": [
    "# def filter_(df, orginazer, educational_area , year=2024):\n",
    "\n",
    "#     df = df[(df_beviljade_platser_år[\"Anordnare standard\"] == orginazer) & (\n",
    "#         df_beviljade_platser_år[\"Utbildningsområde\"] == educational_area\n",
    "#     )]\n",
    "\n",
    "\n",
    "#     return df[f\"Totalt beviljade platser {year}\"]\n",
    "\n",
    "\n",
    "# filter_(df_beviljade_platser_år, \"AGSTU AB\", \"Data/IT\")"
   ]
  },
  {
   "cell_type": "code",
   "execution_count": null,
   "id": "2152c609",
   "metadata": {},
   "outputs": [],
   "source": [
    "# df_beviljade_platser_år[df_beviljade_platser_år[\"Anordnare namn\"] == \"AGSTU AB\"].groupby([\"Anordnare standard\", \"Utbildningsområde\"])[\"Totalt beviljade platser 2021\"].sum()"
   ]
  },
  {
   "cell_type": "code",
   "execution_count": null,
   "id": "76e85d5e",
   "metadata": {},
   "outputs": [
    {
     "name": "stdout",
     "output_type": "stream",
     "text": [
      "['Changemaker Educations AB', 'Changemaker Educations AB', 'Båstads kommun Akademi Båstad', 'Båstads kommun Akademi Båstad', 'Båstads kommun Akademi Båstad', 'Stiftelsen Stockholms Tekniska Institut', 'Plushögskolan AB', 'Plushögskolan AB', 'IHM Business School AB', 'Plushögskolan AB', 'Hyper Island Program AB', 'Plushögskolan AB', 'Plushögskolan AB', 'Plushögskolan AB', 'Plushögskolan AB', 'Nackademin AB', 'Plushögskolan AB', 'Plushögskolan AB', 'Nackademin AB', 'Nackademin AB', 'Plushögskolan AB', 'Plushögskolan AB', 'Nackademin AB', 'Nackademin AB', 'Landskrona Stad, Yrkeshögskolan Landskrona', 'Nackademin AB', 'Nackademin AB', 'Nackademin AB', 'Nackademin AB', 'Nackademin AB', 'Nackademin AB', 'Nackademin AB', 'Nackademin AB', 'Trelleborgs kommun', 'Nackademin AB', 'Nackademin AB', 'Nackademin AB', 'Nackademin AB', 'Nackademin AB', 'Hyper Island Program AB', 'Trelleborgs kommun', 'Handelsakademin i Göteborg AB', 'Handelsakademin i Göteborg AB', 'LAVI gruppen AB', 'LAVI gruppen AB', 'Stockholms Internationella Handelsskola AB', 'Handelsakademin i Göteborg AB', 'Handelsakademin i Göteborg AB', 'Handelsakademin i Göteborg AB', 'Stockholms Internationella Handelsskola AB', 'LAVI gruppen AB', 'LAVI gruppen AB', 'Stockholms Internationella Handelsskola AB', 'Företagsuniversitetet AB', 'Båstads kommun Akademi Båstad', 'Båstads kommun Akademi Båstad', 'YH Akademin AB', 'Rädda Barnen Välfärd', 'MedLearn AB', 'YH Akademin AB', 'NBI i Sverige AB ', 'Älmhults kommun, Haganässkolan', 'Nercia Utbildning', 'YH Akademin AB', 'Amsac AB', 'Företagsuniversitetet AB', 'Amsac AB', 'Amsac AB', 'Amsac AB', 'Amsac AB', 'Amsac AB', 'Amsac AB', 'YH Akademin AB', 'Göteborgs stad, Yrgo', 'Åsbro Kursgård AB', 'Nercia Utbildning', 'Åsbro Kursgård AB', 'Åsbro Kursgård AB', 'YH Akademin AB', 'NBI i Sverige AB ', 'Göteborgs stad, Yrgo', 'Amsac AB', 'Amsac AB', 'Göteborgs stad, Yrgo', 'Amsac AB', 'YH Akademin AB', 'Amsac AB', 'Amsac AB', 'Amsac AB', 'Nercia Utbildning', 'Iterum Education AB', 'Iterum Education AB', 'Iterum Education AB', 'Nercia Utbildning', 'Plushögskolan AB', 'JENSEN Education School AB', 'JENSEN Education School AB', 'JENSEN Education School AB', 'JENSEN Education School AB', 'JENSEN Education School AB', 'JENSEN Education School AB', 'JENSEN Education School AB', 'JENSEN Education School AB', 'JENSEN Education School AB', 'Karlsson Climate AB', 'Karlsson Climate AB', 'IT-Högskolan Sverige AB', 'IT-Högskolan Sverige AB', 'YH Akademin AB', 'YH Akademin AB', 'Östsvenska Yrkeshögskolan AB', 'Östsvenska Yrkeshögskolan AB', 'Östsvenska Yrkeshögskolan AB', 'One Academy AB', 'One Academy AB', 'One Academy AB', 'KYH AB', 'KYH AB', 'KYH AB', 'KYH AB', 'KYH AB', 'Medieinstitutet i Sverige AB', 'KYH AB', 'KYH AB', 'KYH AB', 'KYH AB', 'KYH AB', 'KYH AB', 'KYH AB', 'KYH AB', 'KYH AB', 'Iterum Education AB', 'KYH AB', 'KYH AB', 'Vilhelmina kommun, Vilhelmina Lärcentrum', 'Företagsekonomiska Institutet 1888 AB', 'Företagsekonomiska Institutet 1888 AB', 'Företagsekonomiska Institutet 1888 AB', 'TUC Sweden AB - Yrkeshögskola', 'TUC Sweden AB - Yrkeshögskola', 'Företagsekonomiska Institutet 1888 AB', 'Företagsekonomiska Institutet 1888 AB', 'Plushögskolan AB', 'Företagsekonomiska Institutet 1888 AB', 'Företagsekonomiska Institutet 1888 AB', 'Lexicon Yrkeshögskola AB', 'Östsvenska Yrkeshögskolan AB', 'Östsvenska Yrkeshögskolan AB', 'Östsvenska Yrkeshögskolan AB', 'Enköpings kommun, Yrkeshögskolan i Enköping', 'Mariestads kommun, Dacapo Mariestad', 'TUC Sweden AB - Yrkeshögskola', 'Mariestads kommun, Dacapo Mariestad', 'Mariestads kommun, Dacapo Mariestad', 'Mariestads kommun, Dacapo Mariestad', 'Mariestads kommun, Dacapo Mariestad', 'TUC Sweden AB - Yrkeshögskola', 'TUC Sweden AB - Yrkeshögskola', 'TUC Sweden AB - Yrkeshögskola', 'TUC Sweden AB - Yrkeshögskola', 'Stockholms Internationella Handelsskola AB', 'TUC Sweden AB - Yrkeshögskola', 'Köpings kommun', 'TUC Sweden AB - Yrkeshögskola', 'Köpings kommun', 'Köpings kommun', 'Köpings kommun', 'Företagsuniversitetet AB', 'Företagsekonomiska Institutet 1888 AB', 'Lexicon Yrkeshögskola AB', 'Företagsuniversitetet AB', 'YH Akademin AB', 'YH Akademin', 'Företagsuniversitetet AB', 'Amsac AB', 'TUC Sweden AB - Yrkeshögskola', 'Högskolan Kristianstad Uppdrag AB', 'Lexicon Yrkeshögskola AB', 'TUC Sweden AB - Yrkeshögskola', 'YH Akademin AB', 'Plushögskolan AB', 'YH Akademin AB', 'Kunskapsförbundet Väst, Vuxenutbildningen', 'YH Akademin AB', 'Göteborgs stad, Yrgo', 'TUC Sweden AB - Yrkeshögskola', 'YH Akademin AB', 'Lernia Utbildning AB', 'YH Akademin AB', 'Plushögskolan AB', 'Lexicon Yrkeshögskola AB', 'Stockholms Internationella Handelsskola AB', 'Båstads kommun Akademi Båstad', 'YH Akademin AB', 'Lexicon Yrkeshögskola AB', 'YH Akademin AB', 'Göteborgs stad, Yrgo', 'Oskarshamns kommun, Nova Utbildning, FoU & Affärsutveckling', 'YH Akademin AB', 'Lexicon Yrkeshögskola AB', 'Lexicon Yrkeshögskola AB', 'YH Akademin AB', 'YH Akademin AB', 'Stockholms Internationella Handelsskola AB', 'TUC Sweden AB - Yrkeshögskola', 'Amsac AB', 'Göteborgs stad, Yrgo', 'Gislaveds Kommun Vuxenutbildningen /Hph', 'TUC Sweden AB - Yrkeshögskola', 'Gislaveds Kommun Vuxenutbildningen /Hph', 'Stockholms Internationella Handelsskola AB', 'Gislaveds Kommun Vuxenutbildningen /Hph', 'Amsac AB', 'Xenter Yrkeshögskola ', 'Xenter Yrkeshögskola ', 'Xenter Yrkeshögskola ', 'Plushögskolan AB', 'INSU AB', 'Gunnebo Slott och Trädgårdar AB', 'Göteborgs stad, Yrgo', 'Lexicon Yrkeshögskola AB', 'Lexicon Yrkeshögskola AB', 'Lexicon Yrkeshögskola AB', 'Lexicon Yrkeshögskola AB', 'Lexicon Yrkeshögskola AB', 'Lexicon Yrkeshögskola AB', 'Skövde kommun, Skövde Yrkeshögskola', 'Härryda kommun, Yrkeshögskolan i Mölnlycke', 'Lernia Utbildning AB', 'Lernia Utbildning AB', 'Lernia Utbildning AB', 'TUC Sweden AB - Yrkeshögskola', 'TUC Sweden AB - Yrkeshögskola', 'TUC Sweden AB - Yrkeshögskola', 'Movant AB', 'Nercia Utbildning', 'Västerås Stad/Barn- och Utbildningsförvaltningen/Västerås Yrkeshögskola', 'Mölk Utbildning AB', 'Mölk Utbildning AB', 'Enköpings kommun, Yrkeshögskolan i Enköping', 'Mölk Utbildning AB', 'Göteborgs stad, Yrgo', 'Mölk Utbildning AB', 'Nercia Utbildning', 'Mölk Utbildning AB', 'Mölk Utbildning AB', 'ALEA Kompetenshöjning AB', 'Göteborgs stad, Yrgo', 'Karlskoga kommun', 'Trelleborgs kommun', 'ALEA Kompetenshöjning AB', 'John Ericsson Institutet', 'Karlskoga kommun', 'TUC Sweden AB - Yrkeshögskola', 'John Ericsson Institutet', 'Sveriges Yrkeshögskola AB', 'ALEA Kompetenshöjning AB', 'Sveriges Yrkeshögskola AB', 'Sveriges Yrkeshögskola AB', 'John Ericsson Institutet', 'Sveriges Yrkeshögskola AB', 'John Ericsson Institutet', 'Sveriges Yrkeshögskola AB', 'Sveriges Yrkeshögskola AB', 'John Ericsson Institutet', 'Nercia Utbildning', 'Lernia Utbildning AB', 'John Ericsson Institutet', 'John Ericsson Institutet', 'Kunskapsförbundet Väst, Vuxenutbildningen', 'John Ericsson Institutet', 'Stockholm School of Business', 'Stockholm School of Business', 'Enköpings kommun, Yrkeshögskolan i Enköping', 'Stockholm School of Business', 'Stockholm School of Business', 'Västerås Stad/Barn- och Utbildningsförvaltningen/Västerås Yrkeshögskola', 'Stockholm School of Business', 'Stockholm School of Business', 'Lexicon Yrkeshögskola AB', 'Karlskoga kommun', 'Karlskoga kommun', 'Stockholms Stadsmission', 'Göteborgs stad, Yrgo', 'Stockholms Stadsmission', 'Trelleborgs kommun', 'Handelsakademin i Göteborg AB', 'Trelleborgs kommun', 'Båstads kommun Akademi Båstad', 'Nercia Utbildning', 'Västerås Stad/Barn- och Utbildningsförvaltningen/Västerås Yrkeshögskola', 'Kunskapsförbundet Väst, Vuxenutbildningen', 'Amsac AB', 'Newton Kompetensutveckling AB', 'Newton Kompetensutveckling AB', 'Göteborgs stad, Yrgo', 'Göteborgs stad, Yrgo', 'Newton Kompetensutveckling AB', 'Newton Kompetensutveckling AB', 'Newton Kompetensutveckling AB', 'Newton Kompetensutveckling AB', 'Medieinstitutet i Sverige AB', 'Medieinstitutet i Sverige AB', 'Medieinstitutet i Sverige AB', 'Lernia Utbildning AB', 'Medieinstitutet i Sverige AB', 'Karlskoga kommun', 'Enköpings kommun, Yrkeshögskolan i Enköping', 'Sociala Tjänstehundar i Sverige AB/Svenska Terapihundskolan', 'Sverigehälsan AB', 'Göteborgs stad, Yrgo', 'Lernia Utbildning AB', 'Göteborgs stad, Yrgo', 'Medieinstitutet i Sverige AB', 'Göteborgs stad, Yrgo', 'Xenter Yrkeshögskola ', 'Sverigehälsan AB', 'Enköpings kommun, Yrkeshögskolan i Enköping', 'Mölk Utbildning AB', 'Skövde kommun, Skövde Yrkeshögskola', 'Xenter Yrkeshögskola ', 'Skövde kommun, Skövde Yrkeshögskola', 'Lernia Utbildning AB', 'Edugrade AB', 'Edugrade AB', 'Edugrade AB', 'Edugrade AB', 'Kunskapsförbundet Väst, Vuxenutbildningen', 'Lernia Utbildning AB', 'Sverigehälsan AB', 'Västerås Stad/Barn- och Utbildningsförvaltningen/Västerås Yrkeshögskola', 'Amsac AB', 'Båstads kommun Akademi Båstad', 'Plushögskolan AB', 'Plushögskolan AB', 'NBI i Sverige AB ', 'Östsvenska Yrkeshögskolan AB', 'Stockholms stad, Frans Schartaus Handelsinstitut', 'Stockholms stad, Frans Schartaus Handelsinstitut', 'Vilhelmina kommun, Vilhelmina Lärcentrum', 'Östsvenska Yrkeshögskolan AB', 'Stockholms stad, Frans Schartaus Handelsinstitut', 'Stockholms stad, Frans Schartaus Handelsinstitut', 'Stockholms stad, Frans Schartaus Handelsinstitut', 'Enköpings kommun, Yrkeshögskolan i Enköping', 'Stockholms stad, Frans Schartaus Handelsinstitut', 'Stockholms stad, Frans Schartaus Handelsinstitut', 'Göteborgs stad, Yrgo', 'Stockholms stad, Frans Schartaus Handelsinstitut', 'Gunnebo Slott och Trädgårdar AB', 'Lernia Utbildning AB', 'Lernia Utbildning AB', 'Göteborgs stad, Yrgo', 'Medieinstitutet i Sverige AB', 'Stockholms stad, Frans Schartaus Handelsinstitut', 'Nätverkstan Kultur AB', 'Stockholms stad, Frans Schartaus Handelsinstitut', 'Xenter Yrkeshögskola ', 'Stockholms stad, Frans Schartaus Handelsinstitut', 'Stockholms stad, Frans Schartaus Handelsinstitut', 'Företagsekonomiska Institutet 1888 AB', 'Företagsekonomiska Institutet 1888 AB', 'YH Akademin AB', 'Göteborgs stad, Yrgo', 'Östsvenska Yrkeshögskolan AB', 'Movant AB', 'Östsvenska Yrkeshögskolan AB', 'ITH, Institutet För Tillämpad Hydraulik', 'Stockholms Stadsmission', 'Xenter Yrkeshögskola ', 'TEC Travel Education Centre AB', 'TEC Travel Education Centre AB', 'Newton Kompetensutveckling AB', 'Xenter Yrkeshögskola ', 'TEC Travel Education Centre AB', 'Sunne kommun/Brobygrafiska', 'TEC Travel Education Centre AB', 'Sunne kommun/Brobygrafiska', 'Sunne kommun/Brobygrafiska', 'Sunne kommun/Brobygrafiska', 'Gislaveds Kommun Vuxenutbildningen /Hph', 'Xenter Yrkeshögskola ', 'Montico Kompetensutveckling AB', 'Montico Kompetensutveckling AB', 'TEC Travel Education Centre AB', 'Montico Kompetensutveckling AB', 'Movant AB', 'Xenter Yrkeshögskola ', 'TEC Travel Education Centre AB', 'TEC Travel Education Centre AB', 'Plushögskolan AB', 'Xenter Yrkeshögskola ', 'IT-Högskolan Sverige AB', 'Montico Kompetensutveckling AB', 'Montico Kompetensutveckling AB', 'Arboga kommun, Vuxenutbildningen', 'IT-Högskolan Sverige AB', 'Arboga kommun, Vuxenutbildningen', 'Medieinstitutet i Sverige AB', 'Arboga kommun, Vuxenutbildningen', 'IT-Högskolan Sverige AB', 'Skövde kommun, Skövde Yrkeshögskola', 'IT-Högskolan Sverige AB', 'Sverigehälsan AB', 'Göteborgs stad, Yrgo', 'Movant AB', 'IT-Högskolan Sverige AB', 'Medieinstitutet i Sverige AB', 'Göteborgs stad, Yrgo', 'IT-Högskolan Sverige AB', 'One Academy AB', 'Medieinstitutet i Sverige AB', 'YH Akademin AB', 'Göteborgs stad, Yrgo', 'Medieinstitutet i Sverige AB', 'Medieinstitutet i Sverige AB', 'Elevera Education Group', 'Medieinstitutet i Sverige AB', 'IT-Högskolan Sverige AB', 'IT-Högskolan Sverige AB', 'IT-Högskolan Sverige AB', 'Movant AB', 'Stockholms stad, Frans Schartaus Handelsinstitut', 'Amsac AB', 'Medieinstitutet i Sverige AB', 'Medieinstitutet i Sverige AB', 'Edugrade AB', 'Campus AB', 'Edugrade AB', 'Medieinstitutet i Sverige AB', 'Göteborgs stad, Yrgo', 'Medieinstitutet i Sverige AB', 'Campus AB', 'Edugrade AB', 'Plushögskolan AB', 'Göteborgs Tekniska College AB', 'Medieinstitutet i Sverige AB', 'EdUP Group AB', 'EdUP Group AB', 'Medieinstitutet i Sverige AB', 'EdUP Group AB', 'EdUP Group AB', 'Stiftelsen PROTEKO - Nordiska Textilakademin', 'Stiftelsen PROTEKO - Nordiska Textilakademin', 'Stiftelsen PROTEKO - Nordiska Textilakademin', 'Stiftelsen PROTEKO - Nordiska Textilakademin', 'Stiftelsen PROTEKO - Nordiska Textilakademin', 'Stiftelsen PROTEKO - Nordiska Textilakademin', 'Medieinstitutet i Sverige AB', 'Chas Academy AB', 'Chas Academy AB', 'John Ericsson Institutet', 'Chas Academy AB', 'Chas Academy AB', 'Medieinstitutet i Sverige AB', 'Chas Academy AB', 'Göteborgs Tekniska College AB', 'Newton Kompetensutveckling AB', 'Newton Kompetensutveckling AB', 'Newton Kompetensutveckling AB', 'Newton Kompetensutveckling AB', 'Newton Kompetensutveckling AB', 'Trelleborgs kommun', 'Medieinstitutet i Sverige AB', 'Sverigehälsan AB', 'Stockholm School of Business', 'Newton Kompetensutveckling AB', 'Göteborgs Tekniska College AB', 'Stiftelsen PROTEKO - Nordiska Textilakademin', 'EdUP Group AB', 'Göteborgs stad, Yrgo', 'Iterum Education AB', 'Chas Academy AB', 'ABF Göteborg Vuxenutbildning AB', 'ABF Göteborg Vuxenutbildning AB', 'Stiftelsen PROTEKO - Nordiska Textilakademin', 'ABF Göteborg Vuxenutbildning AB', 'Stiftelsen PROTEKO - Nordiska Textilakademin', 'ABF Göteborg Vuxenutbildning AB', 'ABF Göteborg Vuxenutbildning AB', 'ABF Göteborg Vuxenutbildning AB', 'ABF Göteborg Vuxenutbildning AB', 'Step by Step Competence AB', 'Step by Step Competence AB', 'Göteborgs Tekniska College AB', 'Step by Step Competence AB', 'Chas Academy AB', 'Idéutvecklarna AB', 'Sveriges Yrkeshögskola AB', 'Sveriges Yrkeshögskola AB', 'Sveriges Yrkeshögskola AB', 'Stockholm School of Business', 'Malmö Tillskärarakademi AB', 'John Ericsson Institutet', 'Idéutvecklarna AB', 'Stiftelsen PROTEKO - Nordiska Textilakademin', 'Idéutvecklarna AB', 'Sveriges Yrkeshögskola AB', 'Göteborgs Tekniska College AB', 'Sveriges Yrkeshögskola AB', 'AVT AB', 'Stockholms stad, Frans Schartaus Handelsinstitut', 'AVT AB', 'Stockholms stad, Frans Schartaus Handelsinstitut', 'XeDrix AB', 'AVT AB', 'EdUP Group AB', 'EdUP Group AB', 'Technigo AB', 'AVT AB', 'Technigo AB', 'Technigo AB', 'Technigo AB', 'Stockholm School of Business', 'Technigo AB', 'Östsvenska Yrkeshögskolan AB', 'Blue Peak AB', 'Blue Peak AB', 'Blue Peak AB', 'Hermods AB', 'Blue Peak AB', 'Blue Peak AB', 'Stockholms stad, Frans Schartaus Handelsinstitut', 'Stockholm School of Business', 'Stockholm School of Business', 'Medieinstitutet i Sverige AB', 'Göteborgs Tekniska College AB', 'Kunskapsförbundet Väst, Vuxenutbildningen', 'Nässjö kommun, Nässjöakademin', 'Nätverkstan Kultur AB', 'Kunskapsförbundet Väst, Vuxenutbildningen', 'Technigo AB', 'Nässjö kommun, Nässjöakademin', 'Kunskapsförbundet Väst, Vuxenutbildningen', 'Kunskapsförbundet Väst, Vuxenutbildningen', 'Nässjö kommun, Nässjöakademin', 'Medborgarskolan i Stockholm - Påhlmans Handelsinstitut', 'Funka Academy AB', 'TCC Sverige AB', 'Medborgarskolan i Stockholm - Påhlmans Handelsinstitut', 'Funka Academy AB', 'Nercia Utbildning', 'Medborgarskolan i Stockholm - Påhlmans Handelsinstitut', 'Stockholm School of Business', 'XeDrix AB', 'Fordonsakademin Sverige AB', 'Technigo AB', 'Medieinstitutet i Sverige AB', 'Technigo AB', 'Stockholm School of Business', 'IT-Högskolan Sverige AB', 'IT-Högskolan Sverige AB', 'IT-Högskolan Sverige AB', 'IT-Högskolan Sverige AB', 'IT-Högskolan Sverige AB', 'Technigo AB', 'Båstads kommun Akademi Båstad', 'ALEA Kompetenshöjning AB', 'ALEA Kompetenshöjning AB', 'One Academy AB', 'One Academy AB', 'One Academy AB', 'One Academy AB', 'One Academy AB', 'ALEA Kompetenshöjning AB', 'One Academy AB', 'Xenter Yrkeshögskola ', 'XeDrix AB', 'EdUP Group AB', 'EdUP Group AB', 'EdUP Group AB', 'IT-Högskolan Sverige AB', 'EdUP Group AB', 'EdUP Group AB', 'EdUP Group AB', 'Hermods AB', 'EdUP Group AB', 'Hermods AB', 'Hermods AB', 'Hermods AB', 'Hermods AB', 'Hermods AB', 'Hermods AB', 'Hermods AB', 'Hermods AB', 'Hermods AB', 'Hermods AB', 'Hermods AB', 'Hermods AB', 'Hermods AB', 'Hermods AB', 'Hermods AB', 'YH Akademin', 'YH Akademin AB', 'Hermods AB', 'Hermods AB', 'Hermods AB', 'Hermods AB', 'Hermods AB', 'Hermods AB', 'Hermods AB', 'Hermods AB', 'Hermods AB', 'YH Akademin AB', 'Hermods AB', 'Hermods AB', 'Hermods AB', 'Hermods AB', 'YH Akademin AB', 'YH Akademin AB', 'Fastighetsakademin Sverige AB', 'Fastighetsakademin Sverige AB', 'Sälj & Marknadshögskolan i Sverige AB', 'Härryda kommun, Yrkeshögskolan i Mölnlycke', 'Kunskapsgruppen Yrkeshögskola Sverige AB', 'Kunskapsgruppen Yrkeshögskola Sverige AB', 'Sälj & Marknadshögskolan i Sverige AB', 'Kunskapsgruppen Yrkeshögskola Sverige AB', 'Iterum Education AB', 'Göteborgs stad, Yrgo', 'Sälj & Marknadshögskolan i Sverige AB', 'Sälj & Marknadshögskolan i Sverige AB', 'Sälj & Marknadshögskolan i Sverige AB', 'Kunskapsgruppen Yrkeshögskola Sverige AB', 'YH Akademin AB', 'YH Akademin AB', 'YH Akademin AB', 'YH Akademin AB', 'YH Akademin', 'YH Akademin AB', 'YH Akademin AB', 'YH Akademin', 'Sälj & Marknadshögskolan i Sverige AB', 'Grit Academy AB', 'Grit Academy AB', 'Grit Academy AB', 'Grit Academy AB', 'Grit Academy AB', 'Grit Academy AB', 'Grit Academy AB', 'Sälj & Marknadshögskolan i Sverige AB', 'JAG Utbildning AB', 'Grit Academy AB', 'JAG Utbildning AB', 'JAG Utbildning AB', 'JAG Utbildning AB', 'Grit Academy AB', 'Sälj & Marknadshögskolan i Sverige AB', 'Sälj & Marknadshögskolan i Sverige AB', 'Sälj & Marknadshögskolan i Sverige AB', 'One Academy AB', 'KompetensUtvecklingsInstitutet Sverige AB', 'Arvika Kommun', 'KompetensUtvecklingsInstitutet Sverige AB', 'YH Akademin AB', 'KompetensUtvecklingsInstitutet Sverige AB', 'KompetensUtvecklingsInstitutet Sverige AB', 'YH Akademin AB', 'MedLearn AB', 'MedLearn AB', 'MedLearn AB', 'MedLearn AB', 'MedLearn AB', 'MedLearn AB', 'KompetensUtvecklingsInstitutet Sverige AB', 'MedLearn AB', 'MedLearn AB', 'MedLearn AB', 'Iris Hadar AB', 'Iris Hadar AB', 'Iris Hadar AB', 'Iris Hadar AB', 'KompetensUtvecklingsInstitutet Sverige AB', 'KompetensUtvecklingsInstitutet Sverige AB', 'KompetensUtvecklingsInstitutet Sverige AB', 'KompetensUtvecklingsInstitutet Sverige AB', 'Kunskapsförbundet Väst, Vuxenutbildningen', 'YH Akademin AB', 'EC Utbildning AB', 'EC Utbildning AB', 'EC Utbildning AB', 'EC Utbildning AB', 'EC Utbildning AB', 'EC Utbildning AB', 'EC Utbildning AB', 'EC Utbildning AB', 'KompetensUtvecklingsInstitutet Sverige AB', 'EC Utbildning AB', 'EC Utbildning AB', 'EC Utbildning AB', 'EC Utbildning AB', 'Stiftelsen Capellagården', 'Tekniska Högskolan i Jönköping AB', 'KompetensUtvecklingsInstitutet Sverige AB', 'EC Utbildning AB', 'EC Utbildning AB', 'YH Akademin AB', 'Kunskapsgruppen Yrkeshögskola Sverige AB', 'EC Utbildning AB', 'Kunskapsgruppen Yrkeshögskola Sverige AB', 'Kunskapsförbundet Väst, Vuxenutbildningen', 'IHM Business School AB', 'IHM Business School AB', 'Malmö Tillskärarakademi AB', 'Malmö Tillskärarakademi AB', 'Stiftelsen Stockholms Tekniska Institut', 'Malmö Tillskärarakademi AB', 'Stiftelsen Stockholms Tekniska Institut', 'Stiftelsen Stockholms Tekniska Institut', 'YH Akademin AB', 'Stiftelsen Stockholms Tekniska Institut', 'IHM Business School AB', 'IHM Business School AB', 'IHM Business School AB', 'IHM Business School AB', 'IT-Högskolan Sverige AB', 'IHM Business School AB', 'IHM Business School AB', 'IHM Business School AB', 'IT-Högskolan Sverige AB', 'IHM Business School AB', 'IT-Högskolan Sverige AB', 'IHM Business School AB', 'IT-Högskolan Sverige AB', 'IHM Business School AB', 'IHM Business School AB', 'IHM Business School AB', 'IHM Business School AB', 'IHM Business School AB', 'IHM Business School AB', 'YH Akademin AB', 'IHM Business School AB', 'IHM Business School AB', 'IHM Business School AB', 'YH Akademin AB', 'IHM Business School AB', 'YH Akademin AB', 'IHM Business School AB', 'YH Akademin AB', 'YH Akademin AB', 'IHM Business School AB', 'YH Akademin AB', 'IHM Business School AB', 'YH Akademin AB', 'YH Akademin AB', 'Kunskapsförbundet Väst, Vuxenutbildningen', 'IT-Högskolan Sverige AB', 'IHM Business School AB', 'East Sweden Business School AB', 'East Sweden Business School AB', 'Grit Academy AB', 'Grit Academy AB', 'AGSTU AB', 'Grit Academy AB', 'Grit Academy AB', 'East Sweden Business School AB', 'Grit Academy AB', 'Grit Academy AB', 'Grit Academy AB', 'Grit Academy AB', 'Grit Academy AB', 'Grit Academy AB', 'East Sweden Business School AB', 'IHM Business School AB', 'East Sweden Business School AB', 'ALEA Kompetenshöjning AB', 'Arvika Kommun', 'INSU AB', 'Östsvenska Yrkeshögskolan AB', 'INSU AB', 'INSU AB', 'Hyper Island Program AB', 'INSU AB', 'Stiftelsen Stockholms Tekniska Institut', 'Företagsuniversitetet AB', 'IHM Business School AB', 'Företagsuniversitetet AB', 'Kunskapsförbundet Väst, Vuxenutbildningen', 'Företagsuniversitetet AB', 'AGSTU AB', 'AGSTU AB', 'Stiftelsen Stockholms Tekniska Institut', 'Hyper Island Program AB', 'Stiftelsen Stockholms Tekniska Institut', 'Stiftelsen Stockholms Tekniska Institut', 'IHM Business School AB', 'IHM Business School AB', 'YH Akademin AB', 'Företagsuniversitetet AB', 'INSU AB', 'Företagsuniversitetet AB', 'Hyper Island Program AB', 'INSU AB', 'INSU AB', 'Changemaker Educations AB']\n"
     ]
    }
   ],
   "source": [
    "# from difflib import get_close_matches\n",
    "\n",
    "# new_names = []\n",
    "# for name in df_avslag_2024[\"Anordnare namn\"]:\n",
    "#     matches = get_close_matches(name, df_beviljade_platser_år[\"Anordnare standard\"].to_list(), n=1)\n",
    "#     if matches:\n",
    "#         new_names.append(matches[0])\n",
    "#     # change_name = df_avslag_2024.\n",
    "\n",
    "# print(new_names)"
   ]
  },
  {
   "cell_type": "code",
   "execution_count": null,
   "id": "7c31ee72",
   "metadata": {},
   "outputs": [],
   "source": []
  },
  {
   "cell_type": "markdown",
   "id": "00251f1d",
   "metadata": {},
   "source": [
    "# Skapa data för karta"
   ]
  },
  {
   "cell_type": "code",
   "execution_count": null,
   "id": "de6e8eeb",
   "metadata": {},
   "outputs": [],
   "source": [
    "import pandas as pd\n",
    "\n",
    "df_filter_map = pd.read_csv(\"../../data/2024_kurser/Ansökande_2020-2024.csv\", encoding=\"latin1\")\n",
    "\n",
    "df_filter_map.info()"
   ]
  },
  {
   "cell_type": "code",
   "execution_count": null,
   "id": "4fffec36",
   "metadata": {},
   "outputs": [],
   "source": [
    "df_filter_map.columns"
   ]
  },
  {
   "cell_type": "code",
   "execution_count": null,
   "id": "ca6e4881",
   "metadata": {},
   "outputs": [],
   "source": [
    "df_filter_map_2020 = df_filter_map[df_filter_map[\"kön\"] == \"totalt\"][[\"utbildningsområde MYH\", \"region (hemlän)\", \"Antal ansökningar 2020\"]]\n",
    "\n",
    "df_filter_map_2020"
   ]
  },
  {
   "cell_type": "code",
   "execution_count": null,
   "id": "ea046e2e",
   "metadata": {},
   "outputs": [],
   "source": [
    "import json\n",
    "\n",
    "with open(\"../../data/geojson/swedish_regions.geojson\", \"r\", encoding= \"utf-8\") as file:\n",
    "    json_data = json.load(file)\n",
    "    \n",
    "    \n",
    "json_data.get(\"features\")[0].get(\"properties\")\n",
    "    "
   ]
  },
  {
   "cell_type": "code",
   "execution_count": null,
   "id": "228ec053",
   "metadata": {},
   "outputs": [],
   "source": [
    "\n",
    "# List comprehension, loop throw geojsondata regions too get features and in feature get properties where the data for ref:se:länskod is    \n",
    "propertis = [feature.get(\"properties\") for feature in json_data.get(\"features\")]\n",
    "region_code = {property.get(\"name\"): property.get(\"ref:se:länskod\") for property in propertis}\n",
    "\n",
    "region_code"
   ]
  },
  {
   "cell_type": "code",
   "execution_count": null,
   "id": "93fd7e4b",
   "metadata": {},
   "outputs": [],
   "source": [
    "df_filter_map_2020"
   ]
  },
  {
   "cell_type": "code",
   "execution_count": null,
   "id": "9fe36604",
   "metadata": {},
   "outputs": [],
   "source": [
    "# df_filter_map_2020.groupby(\"län\")[[\"utbildningsområde MYH\", \"Antal ansökningar 2020\"]].sum().reset_index()\n",
    "\n",
    "\n",
    "# function too filter out which Antal sökningar (year) and utbildningsområde\n",
    "def filter_data_sokande(df, year =2022, education_area = \"Data/It\"):\n",
    "    \n",
    "    year_column = f\"Antal ansökningar {year}\"\n",
    "    df = df.rename({\"region (hemlän)\": \"län\"}, axis=1)\n",
    "    df = df.query(f\"`utbildningsområde MYH` == @education_area\").reset_index()\n",
    "    \n",
    "    \n",
    "    return df[[\"län\", year_column]]\n",
    "\n",
    "\n",
    "\n",
    "df_map = filter_data_sokande(df_filter_map, 2022, \"Transporttjänster\")\n"
   ]
  },
  {
   "cell_type": "code",
   "execution_count": null,
   "id": "f578f7dd",
   "metadata": {},
   "outputs": [],
   "source": [
    "from difflib import get_close_matches\n",
    "\n",
    "df_map[\"län\"].iloc[0]"
   ]
  },
  {
   "cell_type": "code",
   "execution_count": null,
   "id": "827e94f9",
   "metadata": {},
   "outputs": [],
   "source": [
    "# test too see how get_close_matches works. its compare first arguments (län in df_map and the firts with .iloc[0]) and second argument key value.\n",
    "# get_close_matches give a list of comperingsing, [0] take out the first one\n",
    "region = get_close_matches(df_map[\"län\"].iloc[0], region_code.keys())[0]\n",
    "region_code[region]"
   ]
  },
  {
   "cell_type": "code",
   "execution_count": null,
   "id": "0cb9fa59",
   "metadata": {},
   "outputs": [],
   "source": [
    "\n",
    "# append all the code that match with df_map and region_code, using difflib package and function get_glose_matches\n",
    "# get_close_matches find simile between both arguments. n= 1 is to take out the first one its find \n",
    "region_code_map = []\n",
    "for region in df_map[\"län\"]:\n",
    "    region_name = get_close_matches(region, region_code.keys(), n=1)[0]\n",
    "    code = region_code[region_name]\n",
    "    region_code_map.append(code)\n",
    "    \n",
    "region_code_map"
   ]
  },
  {
   "cell_type": "code",
   "execution_count": null,
   "id": "50b75982",
   "metadata": {},
   "outputs": [],
   "source": [
    "print(region_code_map)\n",
    "print(df_map[\"län\"].values)"
   ]
  },
  {
   "cell_type": "code",
   "execution_count": null,
   "id": "3177080c",
   "metadata": {},
   "outputs": [],
   "source": [
    "import plotly.graph_objects as go \n",
    "import numpy as np \n",
    "\n",
    "\n",
    "year_column = \"Antal ansökningar 2022\"\n",
    "\n",
    "log_approved = np.log(df_map[year_column] + 1)\n",
    "\n",
    "fig = go.Figure(\n",
    "    go.Choroplethmapbox(\n",
    "        geojson = json_data,\n",
    "        locations = region_code_map,\n",
    "        z = log_approved,\n",
    "        featureidkey=\"properties.ref:se:länskod\",\n",
    "        colorscale= \"blues\",\n",
    "        showscale=False,\n",
    "        customdata=df_map[year_column],\n",
    "        text= df_map[\"län\"],\n",
    "        hovertemplate= \"<b>%{text}</b><br>Antal sökande %{customdata}<extra></extra>\",\n",
    "        marker_line_width= 0.3)\n",
    "    )   \n",
    "\n",
    "fig.update_layout(\n",
    "    mapbox= dict(style= \"white-bg\", zoom= 3.3, center= dict(lat=62.6952, lon= 13.9149)),\n",
    "    width= 470,\n",
    "    height= 500,\n",
    "    margin= dict(r=0 , l=0 , t=50 , b=0),\n",
    "    title= dict(\n",
    "        text= \"text\",\n",
    "        x= 0.06,\n",
    "        y= 0.75,\n",
    "        font= dict(size=13)\n",
    "    )\n",
    ")\n",
    "\n",
    "\n",
    "fig.show()"
   ]
  }
 ],
 "metadata": {
  "kernelspec": {
   "display_name": ".venv",
   "language": "python",
   "name": "python3"
  },
  "language_info": {
   "codemirror_mode": {
    "name": "ipython",
    "version": 3
   },
   "file_extension": ".py",
   "mimetype": "text/x-python",
   "name": "python",
   "nbconvert_exporter": "python",
   "pygments_lexer": "ipython3",
   "version": "3.12.6"
  }
 },
 "nbformat": 4,
 "nbformat_minor": 5
}
