{
 "cells": [
  {
   "cell_type": "markdown",
   "id": "e603fea0",
   "metadata": {},
   "source": [
    "# Will be exploring data regarding Entry into the labor market after vocational education. Graduates of 2021.\n",
    "### URL = https://www.scb.se/hitta-statistik/statistik-efter-amne/utbildning-samt-forskning-inom-hogskolan/befolkningens-utbildning-och-studiedeltagande/intradet-pa-arbetsmarknaden/"
   ]
  },
  {
   "cell_type": "code",
   "execution_count": 23,
   "id": "6f5d8fef",
   "metadata": {},
   "outputs": [
    {
     "data": {
      "text/plain": [
       "Index(['Data/It', 'Ekonomi, administration och försäljning',\n",
       "       'Friskvård och kroppsvård', 'Hotell, restaurang och turism',\n",
       "       'Hälso- och sjukvård samt socialt arbete',\n",
       "       'Journalistik och information', 'Juridik', 'Kultur, media och design',\n",
       "       'Lantbruk, djurvård, trädgård, skog och fiske',\n",
       "       'Pedagogik och undervisning', 'Samhällsbyggnad och byggteknik',\n",
       "       'Säkerhetstjänster', 'Teknik och tillverkning', 'Transporttjänster',\n",
       "       'Övrigt'],\n",
       "      dtype='object', name='Unnamed: 0')"
      ]
     },
     "execution_count": 23,
     "metadata": {},
     "output_type": "execute_result"
    }
   ],
   "source": [
    "import pandas as pd\n",
    "data_path = \"../data/inträde_arbetsmarknaden_2021/intradet-pa-arbetsmarknaden.-examinerade-fran-yrkeshogskolan-2021.xlsx\"\n",
    "df_after = pd.read_excel(data_path, \n",
    "                         sheet_name= \"2\", \n",
    "                         skiprows=6,\n",
    "                         usecols=range(7))\n",
    "\n",
    "df_after = df_after.dropna(how='all').set_index(\"Unnamed: 0\")\n",
    "utbildningsomrade = df_after.index[17:32]\n",
    "utbildningsomrade\n"
   ]
  },
  {
   "cell_type": "code",
   "execution_count": 24,
   "id": "68dd3b74",
   "metadata": {},
   "outputs": [
    {
     "data": {
      "text/html": [
       "<div>\n",
       "<style scoped>\n",
       "    .dataframe tbody tr th:only-of-type {\n",
       "        vertical-align: middle;\n",
       "    }\n",
       "\n",
       "    .dataframe tbody tr th {\n",
       "        vertical-align: top;\n",
       "    }\n",
       "\n",
       "    .dataframe thead th {\n",
       "        text-align: right;\n",
       "    }\n",
       "</style>\n",
       "<table border=\"1\" class=\"dataframe\">\n",
       "  <thead>\n",
       "    <tr style=\"text-align: right;\">\n",
       "      <th></th>\n",
       "      <th>Antal</th>\n",
       "      <th>Anställd</th>\n",
       "      <th>Egen företagare/ anställd i eget AB</th>\n",
       "      <th>Arbetssökande/ arbetsmarknads-politisk åtgärd*</th>\n",
       "      <th>Studerande</th>\n",
       "      <th>Annat</th>\n",
       "    </tr>\n",
       "  </thead>\n",
       "  <tbody>\n",
       "    <tr>\n",
       "      <th>count</th>\n",
       "      <td>61</td>\n",
       "      <td>61</td>\n",
       "      <td>61</td>\n",
       "      <td>61</td>\n",
       "      <td>61</td>\n",
       "      <td>61</td>\n",
       "    </tr>\n",
       "    <tr>\n",
       "      <th>unique</th>\n",
       "      <td>41</td>\n",
       "      <td>26</td>\n",
       "      <td>17</td>\n",
       "      <td>21</td>\n",
       "      <td>16</td>\n",
       "      <td>7</td>\n",
       "    </tr>\n",
       "    <tr>\n",
       "      <th>top</th>\n",
       "      <td></td>\n",
       "      <td></td>\n",
       "      <td></td>\n",
       "      <td></td>\n",
       "      <td></td>\n",
       "      <td></td>\n",
       "    </tr>\n",
       "    <tr>\n",
       "      <th>freq</th>\n",
       "      <td>21</td>\n",
       "      <td>21</td>\n",
       "      <td>21</td>\n",
       "      <td>21</td>\n",
       "      <td>21</td>\n",
       "      <td>21</td>\n",
       "    </tr>\n",
       "  </tbody>\n",
       "</table>\n",
       "</div>"
      ],
      "text/plain": [
       "       Antal Anställd Egen företagare/ anställd i eget AB  \\\n",
       "count     61       61                                  61   \n",
       "unique    41       26                                  17   \n",
       "top                                                         \n",
       "freq      21       21                                  21   \n",
       "\n",
       "       Arbetssökande/ arbetsmarknads-politisk åtgärd* Studerande Annat  \n",
       "count                                              61         61    61  \n",
       "unique                                             21         16     7  \n",
       "top                                                                     \n",
       "freq                                               21         21    21  "
      ]
     },
     "execution_count": 24,
     "metadata": {},
     "output_type": "execute_result"
    }
   ],
   "source": [
    "df_after.describe()"
   ]
  },
  {
   "cell_type": "code",
   "execution_count": 25,
   "id": "630f644a",
   "metadata": {},
   "outputs": [
    {
     "name": "stdout",
     "output_type": "stream",
     "text": [
      "<class 'pandas.core.frame.DataFrame'>\n",
      "Index: 62 entries, Totalt to *  även studieinriktade åtgärder\n",
      "Data columns (total 6 columns):\n",
      " #   Column                                          Non-Null Count  Dtype \n",
      "---  ------                                          --------------  ----- \n",
      " 0   Antal                                           61 non-null     object\n",
      " 1   Anställd                                        61 non-null     object\n",
      " 2   Egen företagare/ anställd i eget AB             61 non-null     object\n",
      " 3   Arbetssökande/ arbetsmarknads-politisk åtgärd*  61 non-null     object\n",
      " 4   Studerande                                      61 non-null     object\n",
      " 5   Annat                                           61 non-null     object\n",
      "dtypes: object(6)\n",
      "memory usage: 3.4+ KB\n"
     ]
    }
   ],
   "source": [
    "df_after.info()"
   ]
  },
  {
   "cell_type": "code",
   "execution_count": 26,
   "id": "4f78bd09",
   "metadata": {},
   "outputs": [
    {
     "data": {
      "text/plain": [
       "Index(['Antal', 'Anställd', 'Egen företagare/ anställd i eget AB',\n",
       "       'Arbetssökande/ arbetsmarknads-politisk åtgärd*', 'Studerande',\n",
       "       'Annat'],\n",
       "      dtype='object')"
      ]
     },
     "execution_count": 26,
     "metadata": {},
     "output_type": "execute_result"
    }
   ],
   "source": [
    "df_after.columns"
   ]
  },
  {
   "cell_type": "code",
   "execution_count": 27,
   "id": "f310db14",
   "metadata": {},
   "outputs": [
    {
     "data": {
      "text/html": [
       "<div>\n",
       "<style scoped>\n",
       "    .dataframe tbody tr th:only-of-type {\n",
       "        vertical-align: middle;\n",
       "    }\n",
       "\n",
       "    .dataframe tbody tr th {\n",
       "        vertical-align: top;\n",
       "    }\n",
       "\n",
       "    .dataframe thead th {\n",
       "        text-align: right;\n",
       "    }\n",
       "</style>\n",
       "<table border=\"1\" class=\"dataframe\">\n",
       "  <thead>\n",
       "    <tr style=\"text-align: right;\">\n",
       "      <th></th>\n",
       "      <th>Antal</th>\n",
       "      <th>Anställd</th>\n",
       "      <th>Egen företagare/ anställd i eget AB</th>\n",
       "      <th>Arbetssökande/ arbetsmarknads-politisk åtgärd*</th>\n",
       "      <th>Studerande</th>\n",
       "      <th>Annat</th>\n",
       "    </tr>\n",
       "    <tr>\n",
       "      <th>Unnamed: 0</th>\n",
       "      <th></th>\n",
       "      <th></th>\n",
       "      <th></th>\n",
       "      <th></th>\n",
       "      <th></th>\n",
       "      <th></th>\n",
       "    </tr>\n",
       "  </thead>\n",
       "  <tbody>\n",
       "    <tr>\n",
       "      <th>Totalt</th>\n",
       "      <td>19487</td>\n",
       "      <td>72 ± 1</td>\n",
       "      <td>4 ± 0</td>\n",
       "      <td>9 ± 0</td>\n",
       "      <td>11 ± 1</td>\n",
       "      <td>4 ± 0</td>\n",
       "    </tr>\n",
       "    <tr>\n",
       "      <th>NaN</th>\n",
       "      <td></td>\n",
       "      <td></td>\n",
       "      <td></td>\n",
       "      <td></td>\n",
       "      <td></td>\n",
       "      <td></td>\n",
       "    </tr>\n",
       "    <tr>\n",
       "      <th>Kön</th>\n",
       "      <td></td>\n",
       "      <td></td>\n",
       "      <td></td>\n",
       "      <td></td>\n",
       "      <td></td>\n",
       "      <td></td>\n",
       "    </tr>\n",
       "    <tr>\n",
       "      <th>Kvinnor</th>\n",
       "      <td>11289</td>\n",
       "      <td>75 ± 1</td>\n",
       "      <td>3 ± 0</td>\n",
       "      <td>8 ± 1</td>\n",
       "      <td>10 ± 1</td>\n",
       "      <td>5 ± 0</td>\n",
       "    </tr>\n",
       "    <tr>\n",
       "      <th>Män</th>\n",
       "      <td>8198</td>\n",
       "      <td>69 ± 1</td>\n",
       "      <td>5 ± 1</td>\n",
       "      <td>10 ± 1</td>\n",
       "      <td>13 ± 1</td>\n",
       "      <td>3 ± 1</td>\n",
       "    </tr>\n",
       "    <tr>\n",
       "      <th>...</th>\n",
       "      <td>...</td>\n",
       "      <td>...</td>\n",
       "      <td>...</td>\n",
       "      <td>...</td>\n",
       "      <td>...</td>\n",
       "      <td>...</td>\n",
       "    </tr>\n",
       "    <tr>\n",
       "      <th>Eftergymnasial utbildning kortare än 3 år</th>\n",
       "      <td>4256</td>\n",
       "      <td>66 ± 2</td>\n",
       "      <td>4 ± 1</td>\n",
       "      <td>10 ± 1</td>\n",
       "      <td>15 ± 1</td>\n",
       "      <td>5 ± 1</td>\n",
       "    </tr>\n",
       "    <tr>\n",
       "      <th>Eftergymnasial utbildning 3 år eller längre</th>\n",
       "      <td>2571</td>\n",
       "      <td>62 ± 2</td>\n",
       "      <td>6 ± 1</td>\n",
       "      <td>14 ± 1</td>\n",
       "      <td>13 ± 1</td>\n",
       "      <td>5 ± 1</td>\n",
       "    </tr>\n",
       "    <tr>\n",
       "      <th>NaN</th>\n",
       "      <td></td>\n",
       "      <td></td>\n",
       "      <td></td>\n",
       "      <td></td>\n",
       "      <td></td>\n",
       "      <td></td>\n",
       "    </tr>\n",
       "    <tr>\n",
       "      <th>*  även studieinriktade åtgärder</th>\n",
       "      <td></td>\n",
       "      <td></td>\n",
       "      <td></td>\n",
       "      <td></td>\n",
       "      <td></td>\n",
       "      <td></td>\n",
       "    </tr>\n",
       "    <tr>\n",
       "      <th>NaN</th>\n",
       "      <td></td>\n",
       "      <td></td>\n",
       "      <td></td>\n",
       "      <td></td>\n",
       "      <td></td>\n",
       "      <td></td>\n",
       "    </tr>\n",
       "  </tbody>\n",
       "</table>\n",
       "<p>63 rows × 6 columns</p>\n",
       "</div>"
      ],
      "text/plain": [
       "                                             Antal Anställd  \\\n",
       "Unnamed: 0                                                    \n",
       "Totalt                                       19487   72 ± 1   \n",
       "NaN                                                           \n",
       "Kön                                                           \n",
       "Kvinnor                                      11289   75 ± 1   \n",
       "Män                                           8198   69 ± 1   \n",
       "...                                            ...      ...   \n",
       "Eftergymnasial utbildning kortare än 3 år     4256   66 ± 2   \n",
       "Eftergymnasial utbildning 3 år eller längre   2571   62 ± 2   \n",
       "NaN                                                           \n",
       "*  även studieinriktade åtgärder                              \n",
       "NaN                                                           \n",
       "\n",
       "                                            Egen företagare/ anställd i eget AB  \\\n",
       "Unnamed: 0                                                                        \n",
       "Totalt                                                                    4 ± 0   \n",
       "NaN                                                                               \n",
       "Kön                                                                               \n",
       "Kvinnor                                                                   3 ± 0   \n",
       "Män                                                                       5 ± 1   \n",
       "...                                                                         ...   \n",
       "Eftergymnasial utbildning kortare än 3 år                                 4 ± 1   \n",
       "Eftergymnasial utbildning 3 år eller längre                               6 ± 1   \n",
       "NaN                                                                               \n",
       "*  även studieinriktade åtgärder                                                  \n",
       "NaN                                                                               \n",
       "\n",
       "                                            Arbetssökande/ arbetsmarknads-politisk åtgärd*  \\\n",
       "Unnamed: 0                                                                                   \n",
       "Totalt                                                                               9 ± 0   \n",
       "NaN                                                                                          \n",
       "Kön                                                                                          \n",
       "Kvinnor                                                                              8 ± 1   \n",
       "Män                                                                                 10 ± 1   \n",
       "...                                                                                    ...   \n",
       "Eftergymnasial utbildning kortare än 3 år                                           10 ± 1   \n",
       "Eftergymnasial utbildning 3 år eller längre                                         14 ± 1   \n",
       "NaN                                                                                          \n",
       "*  även studieinriktade åtgärder                                                             \n",
       "NaN                                                                                          \n",
       "\n",
       "                                            Studerande  Annat  \n",
       "Unnamed: 0                                                     \n",
       "Totalt                                          11 ± 1  4 ± 0  \n",
       "NaN                                                            \n",
       "Kön                                                            \n",
       "Kvinnor                                         10 ± 1  5 ± 0  \n",
       "Män                                             13 ± 1  3 ± 1  \n",
       "...                                                ...    ...  \n",
       "Eftergymnasial utbildning kortare än 3 år       15 ± 1  5 ± 1  \n",
       "Eftergymnasial utbildning 3 år eller längre     13 ± 1  5 ± 1  \n",
       "NaN                                                            \n",
       "*  även studieinriktade åtgärder                               \n",
       "NaN                                                            \n",
       "\n",
       "[63 rows x 6 columns]"
      ]
     },
     "execution_count": 27,
     "metadata": {},
     "output_type": "execute_result"
    }
   ],
   "source": [
    "df_before = pd.read_excel(data_path, \n",
    "                         sheet_name= \"1\", \n",
    "                         skiprows=6,\n",
    "                         usecols=range(7))\n",
    "\n",
    "df_before = df_before.dropna(how='all').set_index(\"Unnamed: 0\")\n",
    "df_before"
   ]
  },
  {
   "cell_type": "code",
   "execution_count": 28,
   "id": "abe437a9",
   "metadata": {},
   "outputs": [
    {
     "data": {
      "text/plain": [
       "19487"
      ]
     },
     "execution_count": 28,
     "metadata": {},
     "output_type": "execute_result"
    }
   ],
   "source": [
    "total = df_after.loc[\"Totalt\", \"Antal\"]\n",
    "total"
   ]
  },
  {
   "cell_type": "code",
   "execution_count": null,
   "id": "011ed880",
   "metadata": {},
   "outputs": [
    {
     "name": "stdout",
     "output_type": "stream",
     "text": [
      "                                             Antal Anställd  \\\n",
      "Unnamed: 0                                                    \n",
      "Data/It                                       2223   88 ± 2   \n",
      "Ekonomi, administration och försäljning       5307   91 ± 1   \n",
      "Friskvård och kroppsvård                       125       ..   \n",
      "Hotell, restaurang och turism                  888   78 ± 4   \n",
      "Hälso- och sjukvård samt socialt arbete       2976   91 ± 1   \n",
      "Journalistik och information                   299   76 ± 6   \n",
      "Juridik                                        156   90 ± 7   \n",
      "Kultur, media och design                       983   75 ± 4   \n",
      "Lantbruk, djurvård, trädgård, skog och fiske   448   68 ± 5   \n",
      "Pedagogik och undervisning                     463   84 ± 4   \n",
      "Samhällsbyggnad och byggteknik                2610   89 ± 2   \n",
      "Säkerhetstjänster                              115   88 ± 6   \n",
      "Teknik och tillverkning                       2346   87 ± 2   \n",
      "Transporttjänster                              482   87 ± 4   \n",
      "Övrigt                                          66  62 ± 13   \n",
      "\n",
      "                                             Egen företagare/ anställd i eget AB  \\\n",
      "Unnamed: 0                                                                         \n",
      "Data/It                                                                    1 ± 1   \n",
      "Ekonomi, administration och försäljning                                    2 ± 1   \n",
      "Friskvård och kroppsvård                                                      ..   \n",
      "Hotell, restaurang och turism                                              5 ± 2   \n",
      "Hälso- och sjukvård samt socialt arbete                                    2 ± 1   \n",
      "Journalistik och information                                               5 ± 3   \n",
      "Juridik                                                                       ..   \n",
      "Kultur, media och design                                                   9 ± 2   \n",
      "Lantbruk, djurvård, trädgård, skog och fiske                              26 ± 5   \n",
      "Pedagogik och undervisning                                                 6 ± 2   \n",
      "Samhällsbyggnad och byggteknik                                             3 ± 1   \n",
      "Säkerhetstjänster                                                             ..   \n",
      "Teknik och tillverkning                                                    3 ± 1   \n",
      "Transporttjänster                                                          3 ± 1   \n",
      "Övrigt                                                                     7 ± 4   \n",
      "\n",
      "                                             Arbetssökande/ arbetsmarknads-politisk åtgärd*  \\\n",
      "Unnamed: 0                                                                                    \n",
      "Data/It                                                                               6 ± 1   \n",
      "Ekonomi, administration och försäljning                                               3 ± 1   \n",
      "Friskvård och kroppsvård                                                                 ..   \n",
      "Hotell, restaurang och turism                                                         8 ± 3   \n",
      "Hälso- och sjukvård samt socialt arbete                                               2 ± 1   \n",
      "Journalistik och information                                                         11 ± 4   \n",
      "Juridik                                                                                  ..   \n",
      "Kultur, media och design                                                              7 ± 2   \n",
      "Lantbruk, djurvård, trädgård, skog och fiske                                          1 ± 1   \n",
      "Pedagogik och undervisning                                                            6 ± 2   \n",
      "Samhällsbyggnad och byggteknik                                                        5 ± 1   \n",
      "Säkerhetstjänster                                                                     8 ± 5   \n",
      "Teknik och tillverkning                                                               4 ± 1   \n",
      "Transporttjänster                                                                     5 ± 2   \n",
      "Övrigt                                                                              14 ± 10   \n",
      "\n",
      "                                             Studerande  Annat  \n",
      "Unnamed: 0                                                      \n",
      "Data/It                                           3 ± 1  1 ± 0  \n",
      "Ekonomi, administration och försäljning           2 ± 0  1 ± 0  \n",
      "Friskvård och kroppsvård                             ..     ..  \n",
      "Hotell, restaurang och turism                     6 ± 2  3 ± 1  \n",
      "Hälso- och sjukvård samt socialt arbete           3 ± 1  2 ± 1  \n",
      "Journalistik och information                      7 ± 4     ..  \n",
      "Juridik                                           6 ± 5     ..  \n",
      "Kultur, media och design                          6 ± 2  2 ± 1  \n",
      "Lantbruk, djurvård, trädgård, skog och fiske      3 ± 2  2 ± 1  \n",
      "Pedagogik och undervisning                        4 ± 2     ..  \n",
      "Samhällsbyggnad och byggteknik                    2 ± 1  1 ± 0  \n",
      "Säkerhetstjänster                                    ..     ..  \n",
      "Teknik och tillverkning                           4 ± 1  1 ± 0  \n",
      "Transporttjänster                                 4 ± 2     ..  \n",
      "Övrigt                                          12 ± 10     ..  \n"
     ]
    }
   ],
   "source": [
    "\n",
    "utbildningsomrade = df_after.index[17:32]\n",
    "df_after_clean = df_after.loc[utbildningsomrade]\n",
    "\n",
    "utbildningsomrade_before = df_before.index[17:32]\n",
    "df_before_clean = df_before.loc[utbildningsomrade_before]\n",
    "\n",
    "print(df_after_clean)"
   ]
  },
  {
   "cell_type": "code",
   "execution_count": null,
   "id": "43773d8a",
   "metadata": {},
   "outputs": [
    {
     "data": {
      "application/vnd.plotly.v1+json": {
       "config": {
        "plotlyServerURL": "https://plot.ly"
       },
       "data": [
        {
         "marker": {
          "color": "lightblue"
         },
         "name": "Före utbildning",
         "type": "bar",
         "x": [
          "Data/It",
          "Ekonomi, administration och försäljning",
          "Friskvård och kroppsvård",
          "Hotell, restaurang och turism",
          "Hälso- och sjukvård samt socialt arbete",
          "Journalistik och information",
          "Juridik",
          "Kultur, media och design",
          "Lantbruk, djurvård, trädgård, skog och fiske",
          "Pedagogik och undervisning",
          "Samhällsbyggnad och byggteknik",
          "Säkerhetstjänster",
          "Teknik och tillverkning",
          "Transporttjänster",
          "Övrigt"
         ],
         "y": {
          "bdata": "AAAAAACATkAAAAAAAABTQAAAAAAAAAAAAAAAAABAUkAAAAAAAIBUQAAAAAAAgE9AAAAAAABAUkAAAAAAAABJQAAAAAAAQFJAAAAAAABAUkAAAAAAAABTQAAAAAAAAFdAAAAAAABAUEAAAAAAAEBTQAAAAAAAgExA",
          "dtype": "f8"
         }
        },
        {
         "marker": {
          "color": "darkblue"
         },
         "name": "Efter utbildning",
         "type": "bar",
         "x": [
          "Data/It",
          "Ekonomi, administration och försäljning",
          "Friskvård och kroppsvård",
          "Hotell, restaurang och turism",
          "Hälso- och sjukvård samt socialt arbete",
          "Journalistik och information",
          "Juridik",
          "Kultur, media och design",
          "Lantbruk, djurvård, trädgård, skog och fiske",
          "Pedagogik och undervisning",
          "Samhällsbyggnad och byggteknik",
          "Säkerhetstjänster",
          "Teknik och tillverkning",
          "Transporttjänster",
          "Övrigt"
         ],
         "y": {
          "bdata": "AAAAAAAAVkAAAAAAAMBWQAAAAAAAAAAAAAAAAACAU0AAAAAAAMBWQAAAAAAAAFNAAAAAAACAVkAAAAAAAMBSQAAAAAAAAFFAAAAAAAAAVUAAAAAAAEBWQAAAAAAAAFZAAAAAAADAVUAAAAAAAMBVQAAAAAAAAE9A",
          "dtype": "f8"
         }
        }
       ],
       "layout": {
        "barmode": "group",
        "height": 600,
        "template": {
         "data": {
          "bar": [
           {
            "error_x": {
             "color": "#2a3f5f"
            },
            "error_y": {
             "color": "#2a3f5f"
            },
            "marker": {
             "line": {
              "color": "#E5ECF6",
              "width": 0.5
             },
             "pattern": {
              "fillmode": "overlay",
              "size": 10,
              "solidity": 0.2
             }
            },
            "type": "bar"
           }
          ],
          "barpolar": [
           {
            "marker": {
             "line": {
              "color": "#E5ECF6",
              "width": 0.5
             },
             "pattern": {
              "fillmode": "overlay",
              "size": 10,
              "solidity": 0.2
             }
            },
            "type": "barpolar"
           }
          ],
          "carpet": [
           {
            "aaxis": {
             "endlinecolor": "#2a3f5f",
             "gridcolor": "white",
             "linecolor": "white",
             "minorgridcolor": "white",
             "startlinecolor": "#2a3f5f"
            },
            "baxis": {
             "endlinecolor": "#2a3f5f",
             "gridcolor": "white",
             "linecolor": "white",
             "minorgridcolor": "white",
             "startlinecolor": "#2a3f5f"
            },
            "type": "carpet"
           }
          ],
          "choropleth": [
           {
            "colorbar": {
             "outlinewidth": 0,
             "ticks": ""
            },
            "type": "choropleth"
           }
          ],
          "contour": [
           {
            "colorbar": {
             "outlinewidth": 0,
             "ticks": ""
            },
            "colorscale": [
             [
              0,
              "#0d0887"
             ],
             [
              0.1111111111111111,
              "#46039f"
             ],
             [
              0.2222222222222222,
              "#7201a8"
             ],
             [
              0.3333333333333333,
              "#9c179e"
             ],
             [
              0.4444444444444444,
              "#bd3786"
             ],
             [
              0.5555555555555556,
              "#d8576b"
             ],
             [
              0.6666666666666666,
              "#ed7953"
             ],
             [
              0.7777777777777778,
              "#fb9f3a"
             ],
             [
              0.8888888888888888,
              "#fdca26"
             ],
             [
              1,
              "#f0f921"
             ]
            ],
            "type": "contour"
           }
          ],
          "contourcarpet": [
           {
            "colorbar": {
             "outlinewidth": 0,
             "ticks": ""
            },
            "type": "contourcarpet"
           }
          ],
          "heatmap": [
           {
            "colorbar": {
             "outlinewidth": 0,
             "ticks": ""
            },
            "colorscale": [
             [
              0,
              "#0d0887"
             ],
             [
              0.1111111111111111,
              "#46039f"
             ],
             [
              0.2222222222222222,
              "#7201a8"
             ],
             [
              0.3333333333333333,
              "#9c179e"
             ],
             [
              0.4444444444444444,
              "#bd3786"
             ],
             [
              0.5555555555555556,
              "#d8576b"
             ],
             [
              0.6666666666666666,
              "#ed7953"
             ],
             [
              0.7777777777777778,
              "#fb9f3a"
             ],
             [
              0.8888888888888888,
              "#fdca26"
             ],
             [
              1,
              "#f0f921"
             ]
            ],
            "type": "heatmap"
           }
          ],
          "histogram": [
           {
            "marker": {
             "pattern": {
              "fillmode": "overlay",
              "size": 10,
              "solidity": 0.2
             }
            },
            "type": "histogram"
           }
          ],
          "histogram2d": [
           {
            "colorbar": {
             "outlinewidth": 0,
             "ticks": ""
            },
            "colorscale": [
             [
              0,
              "#0d0887"
             ],
             [
              0.1111111111111111,
              "#46039f"
             ],
             [
              0.2222222222222222,
              "#7201a8"
             ],
             [
              0.3333333333333333,
              "#9c179e"
             ],
             [
              0.4444444444444444,
              "#bd3786"
             ],
             [
              0.5555555555555556,
              "#d8576b"
             ],
             [
              0.6666666666666666,
              "#ed7953"
             ],
             [
              0.7777777777777778,
              "#fb9f3a"
             ],
             [
              0.8888888888888888,
              "#fdca26"
             ],
             [
              1,
              "#f0f921"
             ]
            ],
            "type": "histogram2d"
           }
          ],
          "histogram2dcontour": [
           {
            "colorbar": {
             "outlinewidth": 0,
             "ticks": ""
            },
            "colorscale": [
             [
              0,
              "#0d0887"
             ],
             [
              0.1111111111111111,
              "#46039f"
             ],
             [
              0.2222222222222222,
              "#7201a8"
             ],
             [
              0.3333333333333333,
              "#9c179e"
             ],
             [
              0.4444444444444444,
              "#bd3786"
             ],
             [
              0.5555555555555556,
              "#d8576b"
             ],
             [
              0.6666666666666666,
              "#ed7953"
             ],
             [
              0.7777777777777778,
              "#fb9f3a"
             ],
             [
              0.8888888888888888,
              "#fdca26"
             ],
             [
              1,
              "#f0f921"
             ]
            ],
            "type": "histogram2dcontour"
           }
          ],
          "mesh3d": [
           {
            "colorbar": {
             "outlinewidth": 0,
             "ticks": ""
            },
            "type": "mesh3d"
           }
          ],
          "parcoords": [
           {
            "line": {
             "colorbar": {
              "outlinewidth": 0,
              "ticks": ""
             }
            },
            "type": "parcoords"
           }
          ],
          "pie": [
           {
            "automargin": true,
            "type": "pie"
           }
          ],
          "scatter": [
           {
            "fillpattern": {
             "fillmode": "overlay",
             "size": 10,
             "solidity": 0.2
            },
            "type": "scatter"
           }
          ],
          "scatter3d": [
           {
            "line": {
             "colorbar": {
              "outlinewidth": 0,
              "ticks": ""
             }
            },
            "marker": {
             "colorbar": {
              "outlinewidth": 0,
              "ticks": ""
             }
            },
            "type": "scatter3d"
           }
          ],
          "scattercarpet": [
           {
            "marker": {
             "colorbar": {
              "outlinewidth": 0,
              "ticks": ""
             }
            },
            "type": "scattercarpet"
           }
          ],
          "scattergeo": [
           {
            "marker": {
             "colorbar": {
              "outlinewidth": 0,
              "ticks": ""
             }
            },
            "type": "scattergeo"
           }
          ],
          "scattergl": [
           {
            "marker": {
             "colorbar": {
              "outlinewidth": 0,
              "ticks": ""
             }
            },
            "type": "scattergl"
           }
          ],
          "scattermap": [
           {
            "marker": {
             "colorbar": {
              "outlinewidth": 0,
              "ticks": ""
             }
            },
            "type": "scattermap"
           }
          ],
          "scattermapbox": [
           {
            "marker": {
             "colorbar": {
              "outlinewidth": 0,
              "ticks": ""
             }
            },
            "type": "scattermapbox"
           }
          ],
          "scatterpolar": [
           {
            "marker": {
             "colorbar": {
              "outlinewidth": 0,
              "ticks": ""
             }
            },
            "type": "scatterpolar"
           }
          ],
          "scatterpolargl": [
           {
            "marker": {
             "colorbar": {
              "outlinewidth": 0,
              "ticks": ""
             }
            },
            "type": "scatterpolargl"
           }
          ],
          "scatterternary": [
           {
            "marker": {
             "colorbar": {
              "outlinewidth": 0,
              "ticks": ""
             }
            },
            "type": "scatterternary"
           }
          ],
          "surface": [
           {
            "colorbar": {
             "outlinewidth": 0,
             "ticks": ""
            },
            "colorscale": [
             [
              0,
              "#0d0887"
             ],
             [
              0.1111111111111111,
              "#46039f"
             ],
             [
              0.2222222222222222,
              "#7201a8"
             ],
             [
              0.3333333333333333,
              "#9c179e"
             ],
             [
              0.4444444444444444,
              "#bd3786"
             ],
             [
              0.5555555555555556,
              "#d8576b"
             ],
             [
              0.6666666666666666,
              "#ed7953"
             ],
             [
              0.7777777777777778,
              "#fb9f3a"
             ],
             [
              0.8888888888888888,
              "#fdca26"
             ],
             [
              1,
              "#f0f921"
             ]
            ],
            "type": "surface"
           }
          ],
          "table": [
           {
            "cells": {
             "fill": {
              "color": "#EBF0F8"
             },
             "line": {
              "color": "white"
             }
            },
            "header": {
             "fill": {
              "color": "#C8D4E3"
             },
             "line": {
              "color": "white"
             }
            },
            "type": "table"
           }
          ]
         },
         "layout": {
          "annotationdefaults": {
           "arrowcolor": "#2a3f5f",
           "arrowhead": 0,
           "arrowwidth": 1
          },
          "autotypenumbers": "strict",
          "coloraxis": {
           "colorbar": {
            "outlinewidth": 0,
            "ticks": ""
           }
          },
          "colorscale": {
           "diverging": [
            [
             0,
             "#8e0152"
            ],
            [
             0.1,
             "#c51b7d"
            ],
            [
             0.2,
             "#de77ae"
            ],
            [
             0.3,
             "#f1b6da"
            ],
            [
             0.4,
             "#fde0ef"
            ],
            [
             0.5,
             "#f7f7f7"
            ],
            [
             0.6,
             "#e6f5d0"
            ],
            [
             0.7,
             "#b8e186"
            ],
            [
             0.8,
             "#7fbc41"
            ],
            [
             0.9,
             "#4d9221"
            ],
            [
             1,
             "#276419"
            ]
           ],
           "sequential": [
            [
             0,
             "#0d0887"
            ],
            [
             0.1111111111111111,
             "#46039f"
            ],
            [
             0.2222222222222222,
             "#7201a8"
            ],
            [
             0.3333333333333333,
             "#9c179e"
            ],
            [
             0.4444444444444444,
             "#bd3786"
            ],
            [
             0.5555555555555556,
             "#d8576b"
            ],
            [
             0.6666666666666666,
             "#ed7953"
            ],
            [
             0.7777777777777778,
             "#fb9f3a"
            ],
            [
             0.8888888888888888,
             "#fdca26"
            ],
            [
             1,
             "#f0f921"
            ]
           ],
           "sequentialminus": [
            [
             0,
             "#0d0887"
            ],
            [
             0.1111111111111111,
             "#46039f"
            ],
            [
             0.2222222222222222,
             "#7201a8"
            ],
            [
             0.3333333333333333,
             "#9c179e"
            ],
            [
             0.4444444444444444,
             "#bd3786"
            ],
            [
             0.5555555555555556,
             "#d8576b"
            ],
            [
             0.6666666666666666,
             "#ed7953"
            ],
            [
             0.7777777777777778,
             "#fb9f3a"
            ],
            [
             0.8888888888888888,
             "#fdca26"
            ],
            [
             1,
             "#f0f921"
            ]
           ]
          },
          "colorway": [
           "#636efa",
           "#EF553B",
           "#00cc96",
           "#ab63fa",
           "#FFA15A",
           "#19d3f3",
           "#FF6692",
           "#B6E880",
           "#FF97FF",
           "#FECB52"
          ],
          "font": {
           "color": "#2a3f5f"
          },
          "geo": {
           "bgcolor": "white",
           "lakecolor": "white",
           "landcolor": "#E5ECF6",
           "showlakes": true,
           "showland": true,
           "subunitcolor": "white"
          },
          "hoverlabel": {
           "align": "left"
          },
          "hovermode": "closest",
          "mapbox": {
           "style": "light"
          },
          "paper_bgcolor": "white",
          "plot_bgcolor": "#E5ECF6",
          "polar": {
           "angularaxis": {
            "gridcolor": "white",
            "linecolor": "white",
            "ticks": ""
           },
           "bgcolor": "#E5ECF6",
           "radialaxis": {
            "gridcolor": "white",
            "linecolor": "white",
            "ticks": ""
           }
          },
          "scene": {
           "xaxis": {
            "backgroundcolor": "#E5ECF6",
            "gridcolor": "white",
            "gridwidth": 2,
            "linecolor": "white",
            "showbackground": true,
            "ticks": "",
            "zerolinecolor": "white"
           },
           "yaxis": {
            "backgroundcolor": "#E5ECF6",
            "gridcolor": "white",
            "gridwidth": 2,
            "linecolor": "white",
            "showbackground": true,
            "ticks": "",
            "zerolinecolor": "white"
           },
           "zaxis": {
            "backgroundcolor": "#E5ECF6",
            "gridcolor": "white",
            "gridwidth": 2,
            "linecolor": "white",
            "showbackground": true,
            "ticks": "",
            "zerolinecolor": "white"
           }
          },
          "shapedefaults": {
           "line": {
            "color": "#2a3f5f"
           }
          },
          "ternary": {
           "aaxis": {
            "gridcolor": "white",
            "linecolor": "white",
            "ticks": ""
           },
           "baxis": {
            "gridcolor": "white",
            "linecolor": "white",
            "ticks": ""
           },
           "bgcolor": "#E5ECF6",
           "caxis": {
            "gridcolor": "white",
            "linecolor": "white",
            "ticks": ""
           }
          },
          "title": {
           "x": 0.05
          },
          "xaxis": {
           "automargin": true,
           "gridcolor": "white",
           "linecolor": "white",
           "ticks": "",
           "title": {
            "standoff": 15
           },
           "zerolinecolor": "white",
           "zerolinewidth": 2
          },
          "yaxis": {
           "automargin": true,
           "gridcolor": "white",
           "linecolor": "white",
           "ticks": "",
           "title": {
            "standoff": 15
           },
           "zerolinecolor": "white",
           "zerolinewidth": 2
          }
         }
        },
        "title": {
         "text": "Andel anställda före och efter YH-utbildning per utbildningsområde"
        },
        "xaxis": {
         "tickangle": -45,
         "title": {
          "text": "Utbildningsområde"
         }
        },
        "yaxis": {
         "title": {
          "text": "Andel anställda (%)"
         }
        }
       }
      }
     },
     "metadata": {},
     "output_type": "display_data"
    }
   ],
   "source": [
    "import plotly.graph_objects as go\n",
    "\n",
    "anstallda_before = df_before_clean['Anställd'].replace('..', '0').str.split('±').str[0].astype(float)\n",
    "anstallda_after = df_after_clean['Anställd'].replace('..', '0').str.split('±').str[0].astype(float)\n",
    "\n",
    "utbildningsomrade = df_after_clean.index\n",
    "fig = go.Figure(data=[ \n",
    "    go.Bar(name='Före utbildning', x=utbildningsomrade, y=anstallda_before, marker_color='lightblue'),\n",
    "    go.Bar(name='Efter utbildning', x=utbildningsomrade, y=anstallda_after, marker_color='darkblue')\n",
    "])\n",
    "\n",
    "fig.update_layout(\n",
    "    title='Andel anställda före och efter YH-utbildning per utbildningsområde', \n",
    "    xaxis_title='Utbildningsområde',\n",
    "    yaxis_title='Andel anställda (%)', \n",
    "    barmode='group',\n",
    "    xaxis_tickangle=-45,\n",
    "    height=600\n",
    ")\n",
    "\n",
    "fig.show()\n"
   ]
  }
 ],
 "metadata": {
  "kernelspec": {
   "display_name": ".venv",
   "language": "python",
   "name": "python3"
  },
  "language_info": {
   "codemirror_mode": {
    "name": "ipython",
    "version": 3
   },
   "file_extension": ".py",
   "mimetype": "text/x-python",
   "name": "python",
   "nbconvert_exporter": "python",
   "pygments_lexer": "ipython3",
   "version": "3.12.5"
  }
 },
 "nbformat": 4,
 "nbformat_minor": 5
}
