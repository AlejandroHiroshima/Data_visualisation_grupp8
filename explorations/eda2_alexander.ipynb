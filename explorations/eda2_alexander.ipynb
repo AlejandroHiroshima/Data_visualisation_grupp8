{
 "cells": [
  {
   "cell_type": "markdown",
   "id": "d3bfca1d",
   "metadata": {},
   "source": [
    "# EDA ..."
   ]
  },
  {
   "cell_type": "code",
   "execution_count": 1,
   "id": "4c5083a2",
   "metadata": {},
   "outputs": [
    {
     "name": "stdout",
     "output_type": "stream",
     "text": [
      "Encoding som används: ISO-8859-1\n"
     ]
    },
    {
     "data": {
      "text/html": [
       "<div>\n",
       "<style scoped>\n",
       "    .dataframe tbody tr th:only-of-type {\n",
       "        vertical-align: middle;\n",
       "    }\n",
       "\n",
       "    .dataframe tbody tr th {\n",
       "        vertical-align: top;\n",
       "    }\n",
       "\n",
       "    .dataframe thead th {\n",
       "        text-align: right;\n",
       "    }\n",
       "</style>\n",
       "<table border=\"1\" class=\"dataframe\">\n",
       "  <thead>\n",
       "    <tr style=\"text-align: right;\">\n",
       "      <th></th>\n",
       "      <th>kön</th>\n",
       "      <th>utbildningens inriktning</th>\n",
       "      <th>ålder</th>\n",
       "      <th>2005</th>\n",
       "      <th>2006</th>\n",
       "      <th>2007</th>\n",
       "      <th>2008</th>\n",
       "      <th>2009</th>\n",
       "      <th>2010</th>\n",
       "      <th>2011</th>\n",
       "      <th>...</th>\n",
       "      <th>2015</th>\n",
       "      <th>2016</th>\n",
       "      <th>2017</th>\n",
       "      <th>2018</th>\n",
       "      <th>2019</th>\n",
       "      <th>2020</th>\n",
       "      <th>2021</th>\n",
       "      <th>2022</th>\n",
       "      <th>2023</th>\n",
       "      <th>2024</th>\n",
       "    </tr>\n",
       "  </thead>\n",
       "  <tbody>\n",
       "    <tr>\n",
       "      <th>0</th>\n",
       "      <td>totalt</td>\n",
       "      <td>Totalt</td>\n",
       "      <td>totalt</td>\n",
       "      <td>24789</td>\n",
       "      <td>29556</td>\n",
       "      <td>33684</td>\n",
       "      <td>36657</td>\n",
       "      <td>39417</td>\n",
       "      <td>41597</td>\n",
       "      <td>42484</td>\n",
       "      <td>...</td>\n",
       "      <td>46633</td>\n",
       "      <td>47983</td>\n",
       "      <td>50373</td>\n",
       "      <td>52741</td>\n",
       "      <td>61393</td>\n",
       "      <td>75371</td>\n",
       "      <td>82753</td>\n",
       "      <td>84871</td>\n",
       "      <td>84560</td>\n",
       "      <td>87225</td>\n",
       "    </tr>\n",
       "    <tr>\n",
       "      <th>1</th>\n",
       "      <td>totalt</td>\n",
       "      <td>Totalt</td>\n",
       "      <td>-24 år</td>\n",
       "      <td>9987</td>\n",
       "      <td>12301</td>\n",
       "      <td>13932</td>\n",
       "      <td>14916</td>\n",
       "      <td>15601</td>\n",
       "      <td>15910</td>\n",
       "      <td>15729</td>\n",
       "      <td>...</td>\n",
       "      <td>12291</td>\n",
       "      <td>11277</td>\n",
       "      <td>10939</td>\n",
       "      <td>11486</td>\n",
       "      <td>13231</td>\n",
       "      <td>16118</td>\n",
       "      <td>17315</td>\n",
       "      <td>17951</td>\n",
       "      <td>18228</td>\n",
       "      <td>19116</td>\n",
       "    </tr>\n",
       "    <tr>\n",
       "      <th>2</th>\n",
       "      <td>totalt</td>\n",
       "      <td>Totalt</td>\n",
       "      <td>25-29 år</td>\n",
       "      <td>5593</td>\n",
       "      <td>6381</td>\n",
       "      <td>7477</td>\n",
       "      <td>8461</td>\n",
       "      <td>9451</td>\n",
       "      <td>10097</td>\n",
       "      <td>10646</td>\n",
       "      <td>...</td>\n",
       "      <td>13020</td>\n",
       "      <td>13398</td>\n",
       "      <td>14039</td>\n",
       "      <td>14441</td>\n",
       "      <td>16338</td>\n",
       "      <td>19463</td>\n",
       "      <td>20419</td>\n",
       "      <td>19968</td>\n",
       "      <td>18994</td>\n",
       "      <td>19106</td>\n",
       "    </tr>\n",
       "    <tr>\n",
       "      <th>3</th>\n",
       "      <td>totalt</td>\n",
       "      <td>Totalt</td>\n",
       "      <td>30-34 år</td>\n",
       "      <td>3289</td>\n",
       "      <td>3722</td>\n",
       "      <td>4033</td>\n",
       "      <td>4314</td>\n",
       "      <td>4740</td>\n",
       "      <td>5186</td>\n",
       "      <td>5500</td>\n",
       "      <td>...</td>\n",
       "      <td>7527</td>\n",
       "      <td>8237</td>\n",
       "      <td>9012</td>\n",
       "      <td>9631</td>\n",
       "      <td>11423</td>\n",
       "      <td>14605</td>\n",
       "      <td>16476</td>\n",
       "      <td>17107</td>\n",
       "      <td>16870</td>\n",
       "      <td>16913</td>\n",
       "    </tr>\n",
       "    <tr>\n",
       "      <th>4</th>\n",
       "      <td>totalt</td>\n",
       "      <td>Totalt</td>\n",
       "      <td>35-39 år</td>\n",
       "      <td>2549</td>\n",
       "      <td>2967</td>\n",
       "      <td>3253</td>\n",
       "      <td>3470</td>\n",
       "      <td>3763</td>\n",
       "      <td>4003</td>\n",
       "      <td>4112</td>\n",
       "      <td>...</td>\n",
       "      <td>5133</td>\n",
       "      <td>5639</td>\n",
       "      <td>6136</td>\n",
       "      <td>6520</td>\n",
       "      <td>7680</td>\n",
       "      <td>9578</td>\n",
       "      <td>10945</td>\n",
       "      <td>11589</td>\n",
       "      <td>11689</td>\n",
       "      <td>12327</td>\n",
       "    </tr>\n",
       "    <tr>\n",
       "      <th>...</th>\n",
       "      <td>...</td>\n",
       "      <td>...</td>\n",
       "      <td>...</td>\n",
       "      <td>...</td>\n",
       "      <td>...</td>\n",
       "      <td>...</td>\n",
       "      <td>...</td>\n",
       "      <td>...</td>\n",
       "      <td>...</td>\n",
       "      <td>...</td>\n",
       "      <td>...</td>\n",
       "      <td>...</td>\n",
       "      <td>...</td>\n",
       "      <td>...</td>\n",
       "      <td>...</td>\n",
       "      <td>...</td>\n",
       "      <td>...</td>\n",
       "      <td>...</td>\n",
       "      <td>...</td>\n",
       "      <td>...</td>\n",
       "      <td>...</td>\n",
       "    </tr>\n",
       "    <tr>\n",
       "      <th>379</th>\n",
       "      <td>män</td>\n",
       "      <td>Övrigt</td>\n",
       "      <td>30-34 år</td>\n",
       "      <td>..</td>\n",
       "      <td>..</td>\n",
       "      <td>..</td>\n",
       "      <td>..</td>\n",
       "      <td>3</td>\n",
       "      <td>0</td>\n",
       "      <td>0</td>\n",
       "      <td>...</td>\n",
       "      <td>19</td>\n",
       "      <td>16</td>\n",
       "      <td>18</td>\n",
       "      <td>21</td>\n",
       "      <td>28</td>\n",
       "      <td>41</td>\n",
       "      <td>52</td>\n",
       "      <td>49</td>\n",
       "      <td>35</td>\n",
       "      <td>24</td>\n",
       "    </tr>\n",
       "    <tr>\n",
       "      <th>380</th>\n",
       "      <td>män</td>\n",
       "      <td>Övrigt</td>\n",
       "      <td>35-39 år</td>\n",
       "      <td>..</td>\n",
       "      <td>..</td>\n",
       "      <td>..</td>\n",
       "      <td>0</td>\n",
       "      <td>0</td>\n",
       "      <td>3</td>\n",
       "      <td>4</td>\n",
       "      <td>...</td>\n",
       "      <td>9</td>\n",
       "      <td>13</td>\n",
       "      <td>14</td>\n",
       "      <td>10</td>\n",
       "      <td>22</td>\n",
       "      <td>24</td>\n",
       "      <td>26</td>\n",
       "      <td>27</td>\n",
       "      <td>17</td>\n",
       "      <td>14</td>\n",
       "    </tr>\n",
       "    <tr>\n",
       "      <th>381</th>\n",
       "      <td>män</td>\n",
       "      <td>Övrigt</td>\n",
       "      <td>40-44 år</td>\n",
       "      <td>..</td>\n",
       "      <td>..</td>\n",
       "      <td>..</td>\n",
       "      <td>..</td>\n",
       "      <td>0</td>\n",
       "      <td>3</td>\n",
       "      <td>3</td>\n",
       "      <td>...</td>\n",
       "      <td>11</td>\n",
       "      <td>15</td>\n",
       "      <td>13</td>\n",
       "      <td>13</td>\n",
       "      <td>14</td>\n",
       "      <td>16</td>\n",
       "      <td>13</td>\n",
       "      <td>16</td>\n",
       "      <td>19</td>\n",
       "      <td>16</td>\n",
       "    </tr>\n",
       "    <tr>\n",
       "      <th>382</th>\n",
       "      <td>män</td>\n",
       "      <td>Övrigt</td>\n",
       "      <td>45+ år</td>\n",
       "      <td>..</td>\n",
       "      <td>..</td>\n",
       "      <td>..</td>\n",
       "      <td>..</td>\n",
       "      <td>3</td>\n",
       "      <td>3</td>\n",
       "      <td>4</td>\n",
       "      <td>...</td>\n",
       "      <td>3</td>\n",
       "      <td>8</td>\n",
       "      <td>15</td>\n",
       "      <td>17</td>\n",
       "      <td>31</td>\n",
       "      <td>39</td>\n",
       "      <td>25</td>\n",
       "      <td>35</td>\n",
       "      <td>33</td>\n",
       "      <td>29</td>\n",
       "    </tr>\n",
       "    <tr>\n",
       "      <th>383</th>\n",
       "      <td>män</td>\n",
       "      <td>Övrigt</td>\n",
       "      <td>uppgift saknas</td>\n",
       "      <td>..</td>\n",
       "      <td>..</td>\n",
       "      <td>..</td>\n",
       "      <td>..</td>\n",
       "      <td>..</td>\n",
       "      <td>..</td>\n",
       "      <td>..</td>\n",
       "      <td>...</td>\n",
       "      <td>..</td>\n",
       "      <td>..</td>\n",
       "      <td>..</td>\n",
       "      <td>..</td>\n",
       "      <td>..</td>\n",
       "      <td>..</td>\n",
       "      <td>..</td>\n",
       "      <td>..</td>\n",
       "      <td>..</td>\n",
       "      <td>..</td>\n",
       "    </tr>\n",
       "  </tbody>\n",
       "</table>\n",
       "<p>384 rows × 23 columns</p>\n",
       "</div>"
      ],
      "text/plain": [
       "        kön utbildningens inriktning           ålder   2005   2006   2007  \\\n",
       "0    totalt                   Totalt          totalt  24789  29556  33684   \n",
       "1    totalt                   Totalt          -24 år   9987  12301  13932   \n",
       "2    totalt                   Totalt        25-29 år   5593   6381   7477   \n",
       "3    totalt                   Totalt        30-34 år   3289   3722   4033   \n",
       "4    totalt                   Totalt        35-39 år   2549   2967   3253   \n",
       "..      ...                      ...             ...    ...    ...    ...   \n",
       "379     män                   Övrigt        30-34 år     ..     ..     ..   \n",
       "380     män                   Övrigt        35-39 år     ..     ..     ..   \n",
       "381     män                   Övrigt        40-44 år     ..     ..     ..   \n",
       "382     män                   Övrigt          45+ år     ..     ..     ..   \n",
       "383     män                   Övrigt  uppgift saknas     ..     ..     ..   \n",
       "\n",
       "      2008   2009   2010   2011  ...   2015   2016   2017   2018   2019  \\\n",
       "0    36657  39417  41597  42484  ...  46633  47983  50373  52741  61393   \n",
       "1    14916  15601  15910  15729  ...  12291  11277  10939  11486  13231   \n",
       "2     8461   9451  10097  10646  ...  13020  13398  14039  14441  16338   \n",
       "3     4314   4740   5186   5500  ...   7527   8237   9012   9631  11423   \n",
       "4     3470   3763   4003   4112  ...   5133   5639   6136   6520   7680   \n",
       "..     ...    ...    ...    ...  ...    ...    ...    ...    ...    ...   \n",
       "379     ..      3      0      0  ...     19     16     18     21     28   \n",
       "380      0      0      3      4  ...      9     13     14     10     22   \n",
       "381     ..      0      3      3  ...     11     15     13     13     14   \n",
       "382     ..      3      3      4  ...      3      8     15     17     31   \n",
       "383     ..     ..     ..     ..  ...     ..     ..     ..     ..     ..   \n",
       "\n",
       "      2020   2021   2022   2023   2024  \n",
       "0    75371  82753  84871  84560  87225  \n",
       "1    16118  17315  17951  18228  19116  \n",
       "2    19463  20419  19968  18994  19106  \n",
       "3    14605  16476  17107  16870  16913  \n",
       "4     9578  10945  11589  11689  12327  \n",
       "..     ...    ...    ...    ...    ...  \n",
       "379     41     52     49     35     24  \n",
       "380     24     26     27     17     14  \n",
       "381     16     13     16     19     16  \n",
       "382     39     25     35     33     29  \n",
       "383     ..     ..     ..     ..     ..  \n",
       "\n",
       "[384 rows x 23 columns]"
      ]
     },
     "execution_count": 1,
     "metadata": {},
     "output_type": "execute_result"
    }
   ],
   "source": [
    "import pandas as pd\n",
    "import chardet\n",
    "\n",
    "path = \"../data/2024_kurser/studerande_examinerad_yrkeshogskola.csv\"\n",
    "with open(path, 'rb') as f:\n",
    "    result = chardet.detect(f.read())\n",
    "\n",
    "df = pd.read_csv(path,\n",
    "                 encoding=result['encoding'],\n",
    "                 sep=';') \n",
    "\n",
    "print(f\"Encoding som används: {result['encoding']}\")\n",
    "df"
   ]
  },
  {
   "cell_type": "code",
   "execution_count": 2,
   "id": "d4708984",
   "metadata": {},
   "outputs": [
    {
     "name": "stdout",
     "output_type": "stream",
     "text": [
      "Kolumnnamn och datatypes:\n",
      "kön                         object\n",
      "utbildningens inriktning    object\n",
      "ålder                       object\n",
      "2005                        object\n",
      "2006                        object\n",
      "2007                        object\n",
      "2008                        object\n",
      "2009                        object\n",
      "2010                        object\n",
      "2011                        object\n",
      "2012                        object\n",
      "2013                        object\n",
      "2014                        object\n",
      "2015                        object\n",
      "2016                        object\n",
      "2017                        object\n",
      "2018                        object\n",
      "2019                        object\n",
      "2020                        object\n",
      "2021                        object\n",
      "2022                        object\n",
      "2023                        object\n",
      "2024                        object\n",
      "dtype: object\n",
      "\n",
      "Efter konvertering:\n",
      "2020    int64\n",
      "2021    int64\n",
      "2022    int64\n",
      "2023    int64\n",
      "2024    int64\n",
      "dtype: object\n"
     ]
    }
   ],
   "source": [
    "print(\"Kolumnnamn och datatypes:\")\n",
    "print(df.dtypes)\n",
    "\n",
    "years = ['2020', '2021', '2022', '2023', '2024']\n",
    "for year in years:\n",
    "    df[year] = pd.to_numeric(df[year].str.replace('..', '0'), errors='coerce')\n",
    "\n",
    "print(\"\\nEfter konvertering:\")\n",
    "print(df[years].dtypes)"
   ]
  },
  {
   "cell_type": "code",
   "execution_count": 3,
   "id": "2199a747",
   "metadata": {},
   "outputs": [
    {
     "name": "stdout",
     "output_type": "stream",
     "text": [
      "                   utbildningens inriktning   ålder   2020   2021   2022  \\\n",
      "0                                    Totalt  totalt  75371  82753  84871   \n",
      "8                                   Data/It  totalt  10283  12852  14255   \n",
      "16  Ekonomi, administration och försäljning  totalt  18491  18540  17818   \n",
      "24                 Friskvård och kroppsvård  totalt    335    372    408   \n",
      "32            Hotell, restaurang och turism  totalt   3094   3314   3007   \n",
      "\n",
      "     2023   2024  \n",
      "0   84560  87225  \n",
      "8   15162  16447  \n",
      "16  17354  17380  \n",
      "24    460    366  \n",
      "32   2753   2800  \n"
     ]
    }
   ],
   "source": [
    "df_filtered = df[df['ålder'] == 'totalt']\n",
    "print(df_filtered[['utbildningens inriktning', 'ålder'] + years].head())"
   ]
  },
  {
   "cell_type": "code",
   "execution_count": 4,
   "id": "ff43e544",
   "metadata": {},
   "outputs": [
    {
     "data": {
      "text/html": [
       "<div>\n",
       "<style scoped>\n",
       "    .dataframe tbody tr th:only-of-type {\n",
       "        vertical-align: middle;\n",
       "    }\n",
       "\n",
       "    .dataframe tbody tr th {\n",
       "        vertical-align: top;\n",
       "    }\n",
       "\n",
       "    .dataframe thead th {\n",
       "        text-align: right;\n",
       "    }\n",
       "</style>\n",
       "<table border=\"1\" class=\"dataframe\">\n",
       "  <thead>\n",
       "    <tr style=\"text-align: right;\">\n",
       "      <th></th>\n",
       "      <th>utbildningens inriktning</th>\n",
       "      <th>2020</th>\n",
       "      <th>2021</th>\n",
       "      <th>2022</th>\n",
       "      <th>2023</th>\n",
       "      <th>2024</th>\n",
       "    </tr>\n",
       "  </thead>\n",
       "  <tbody>\n",
       "    <tr>\n",
       "      <th>0</th>\n",
       "      <td>Data/It</td>\n",
       "      <td>20566</td>\n",
       "      <td>25704</td>\n",
       "      <td>28510</td>\n",
       "      <td>30324</td>\n",
       "      <td>32894</td>\n",
       "    </tr>\n",
       "    <tr>\n",
       "      <th>1</th>\n",
       "      <td>Ekonomi, administration och försäljning</td>\n",
       "      <td>36982</td>\n",
       "      <td>37080</td>\n",
       "      <td>35636</td>\n",
       "      <td>34708</td>\n",
       "      <td>34760</td>\n",
       "    </tr>\n",
       "    <tr>\n",
       "      <th>2</th>\n",
       "      <td>Friskvård och kroppsvård</td>\n",
       "      <td>670</td>\n",
       "      <td>744</td>\n",
       "      <td>816</td>\n",
       "      <td>920</td>\n",
       "      <td>732</td>\n",
       "    </tr>\n",
       "    <tr>\n",
       "      <th>3</th>\n",
       "      <td>Hotell, restaurang och turism</td>\n",
       "      <td>6188</td>\n",
       "      <td>6628</td>\n",
       "      <td>6014</td>\n",
       "      <td>5506</td>\n",
       "      <td>5600</td>\n",
       "    </tr>\n",
       "    <tr>\n",
       "      <th>4</th>\n",
       "      <td>Hälso- och sjukvård samt socialt arbete</td>\n",
       "      <td>21808</td>\n",
       "      <td>24104</td>\n",
       "      <td>25760</td>\n",
       "      <td>25042</td>\n",
       "      <td>23832</td>\n",
       "    </tr>\n",
       "    <tr>\n",
       "      <th>5</th>\n",
       "      <td>Journalistik och information</td>\n",
       "      <td>1934</td>\n",
       "      <td>1872</td>\n",
       "      <td>1646</td>\n",
       "      <td>1504</td>\n",
       "      <td>1292</td>\n",
       "    </tr>\n",
       "    <tr>\n",
       "      <th>6</th>\n",
       "      <td>Juridik</td>\n",
       "      <td>968</td>\n",
       "      <td>976</td>\n",
       "      <td>832</td>\n",
       "      <td>692</td>\n",
       "      <td>692</td>\n",
       "    </tr>\n",
       "    <tr>\n",
       "      <th>7</th>\n",
       "      <td>Kultur, media och design</td>\n",
       "      <td>6864</td>\n",
       "      <td>7832</td>\n",
       "      <td>8446</td>\n",
       "      <td>8914</td>\n",
       "      <td>9272</td>\n",
       "    </tr>\n",
       "    <tr>\n",
       "      <th>8</th>\n",
       "      <td>Lantbruk, djurvård, trädgård, skog och fiske</td>\n",
       "      <td>3226</td>\n",
       "      <td>3620</td>\n",
       "      <td>3900</td>\n",
       "      <td>4182</td>\n",
       "      <td>4692</td>\n",
       "    </tr>\n",
       "    <tr>\n",
       "      <th>9</th>\n",
       "      <td>Pedagogik och undervisning</td>\n",
       "      <td>3056</td>\n",
       "      <td>3612</td>\n",
       "      <td>3952</td>\n",
       "      <td>3020</td>\n",
       "      <td>2190</td>\n",
       "    </tr>\n",
       "    <tr>\n",
       "      <th>10</th>\n",
       "      <td>Samhällsbyggnad och byggteknik</td>\n",
       "      <td>23094</td>\n",
       "      <td>25488</td>\n",
       "      <td>26076</td>\n",
       "      <td>25122</td>\n",
       "      <td>26258</td>\n",
       "    </tr>\n",
       "    <tr>\n",
       "      <th>11</th>\n",
       "      <td>Säkerhetstjänster</td>\n",
       "      <td>1158</td>\n",
       "      <td>1188</td>\n",
       "      <td>1526</td>\n",
       "      <td>1666</td>\n",
       "      <td>1660</td>\n",
       "    </tr>\n",
       "    <tr>\n",
       "      <th>12</th>\n",
       "      <td>Teknik och tillverkning</td>\n",
       "      <td>19862</td>\n",
       "      <td>22558</td>\n",
       "      <td>22618</td>\n",
       "      <td>23418</td>\n",
       "      <td>26452</td>\n",
       "    </tr>\n",
       "    <tr>\n",
       "      <th>13</th>\n",
       "      <td>Totalt</td>\n",
       "      <td>150742</td>\n",
       "      <td>165506</td>\n",
       "      <td>169742</td>\n",
       "      <td>169120</td>\n",
       "      <td>174450</td>\n",
       "    </tr>\n",
       "    <tr>\n",
       "      <th>14</th>\n",
       "      <td>Transporttjänster</td>\n",
       "      <td>3514</td>\n",
       "      <td>3146</td>\n",
       "      <td>2980</td>\n",
       "      <td>3236</td>\n",
       "      <td>3382</td>\n",
       "    </tr>\n",
       "    <tr>\n",
       "      <th>15</th>\n",
       "      <td>Övrigt</td>\n",
       "      <td>852</td>\n",
       "      <td>954</td>\n",
       "      <td>1030</td>\n",
       "      <td>866</td>\n",
       "      <td>742</td>\n",
       "    </tr>\n",
       "  </tbody>\n",
       "</table>\n",
       "</div>"
      ],
      "text/plain": [
       "                        utbildningens inriktning    2020    2021    2022  \\\n",
       "0                                        Data/It   20566   25704   28510   \n",
       "1        Ekonomi, administration och försäljning   36982   37080   35636   \n",
       "2                       Friskvård och kroppsvård     670     744     816   \n",
       "3                  Hotell, restaurang och turism    6188    6628    6014   \n",
       "4        Hälso- och sjukvård samt socialt arbete   21808   24104   25760   \n",
       "5                   Journalistik och information    1934    1872    1646   \n",
       "6                                        Juridik     968     976     832   \n",
       "7                       Kultur, media och design    6864    7832    8446   \n",
       "8   Lantbruk, djurvård, trädgård, skog och fiske    3226    3620    3900   \n",
       "9                     Pedagogik och undervisning    3056    3612    3952   \n",
       "10                Samhällsbyggnad och byggteknik   23094   25488   26076   \n",
       "11                             Säkerhetstjänster    1158    1188    1526   \n",
       "12                       Teknik och tillverkning   19862   22558   22618   \n",
       "13                                        Totalt  150742  165506  169742   \n",
       "14                             Transporttjänster    3514    3146    2980   \n",
       "15                                        Övrigt     852     954    1030   \n",
       "\n",
       "      2023    2024  \n",
       "0    30324   32894  \n",
       "1    34708   34760  \n",
       "2      920     732  \n",
       "3     5506    5600  \n",
       "4    25042   23832  \n",
       "5     1504    1292  \n",
       "6      692     692  \n",
       "7     8914    9272  \n",
       "8     4182    4692  \n",
       "9     3020    2190  \n",
       "10   25122   26258  \n",
       "11    1666    1660  \n",
       "12   23418   26452  \n",
       "13  169120  174450  \n",
       "14    3236    3382  \n",
       "15     866     742  "
      ]
     },
     "execution_count": 4,
     "metadata": {},
     "output_type": "execute_result"
    }
   ],
   "source": [
    "df_grouped = df_filtered.groupby('utbildningens inriktning')[years].sum().reset_index()\n",
    "df_grouped"
   ]
  },
  {
   "cell_type": "code",
   "execution_count": 7,
   "id": "edb89eb3",
   "metadata": {},
   "outputs": [
    {
     "data": {
      "application/vnd.plotly.v1+json": {
       "config": {
        "plotlyServerURL": "https://plot.ly"
       },
       "data": [
        {
         "mode": "lines+markers",
         "name": "Data/It",
         "type": "scatter",
         "x": [
          "2020",
          "2021",
          "2022",
          "2023",
          "2024"
         ],
         "y": {
          "bdata": "VlAAAGhkAABebwAAdHYAAH6AAAA=",
          "dtype": "i4"
         }
        },
        {
         "mode": "lines+markers",
         "name": "Ekonomi, administration och försäljning",
         "type": "scatter",
         "x": [
          "2020",
          "2021",
          "2022",
          "2023",
          "2024"
         ],
         "y": {
          "bdata": "dpAAANiQAAA0iwAAlIcAAMiHAAA=",
          "dtype": "i4"
         }
        },
        {
         "mode": "lines+markers",
         "name": "Friskvård och kroppsvård",
         "type": "scatter",
         "x": [
          "2020",
          "2021",
          "2022",
          "2023",
          "2024"
         ],
         "y": {
          "bdata": "ngLoAjADmAPcAg==",
          "dtype": "i2"
         }
        },
        {
         "mode": "lines+markers",
         "name": "Hotell, restaurang och turism",
         "type": "scatter",
         "x": [
          "2020",
          "2021",
          "2022",
          "2023",
          "2024"
         ],
         "y": {
          "bdata": "LBjkGX4XghXgFQ==",
          "dtype": "i2"
         }
        },
        {
         "mode": "lines+markers",
         "name": "Hälso- och sjukvård samt socialt arbete",
         "type": "scatter",
         "x": [
          "2020",
          "2021",
          "2022",
          "2023",
          "2024"
         ],
         "y": {
          "bdata": "MFUoXqBk0mEYXQ==",
          "dtype": "i2"
         }
        },
        {
         "mode": "lines+markers",
         "name": "Journalistik och information",
         "type": "scatter",
         "x": [
          "2020",
          "2021",
          "2022",
          "2023",
          "2024"
         ],
         "y": {
          "bdata": "jgdQB24G4AUMBQ==",
          "dtype": "i2"
         }
        },
        {
         "mode": "lines+markers",
         "name": "Juridik",
         "type": "scatter",
         "x": [
          "2020",
          "2021",
          "2022",
          "2023",
          "2024"
         ],
         "y": {
          "bdata": "yAPQA0ADtAK0Ag==",
          "dtype": "i2"
         }
        },
        {
         "mode": "lines+markers",
         "name": "Kultur, media och design",
         "type": "scatter",
         "x": [
          "2020",
          "2021",
          "2022",
          "2023",
          "2024"
         ],
         "y": {
          "bdata": "0BqYHv4g0iI4JA==",
          "dtype": "i2"
         }
        },
        {
         "mode": "lines+markers",
         "name": "Lantbruk, djurvård, trädgård, skog och fiske",
         "type": "scatter",
         "x": [
          "2020",
          "2021",
          "2022",
          "2023",
          "2024"
         ],
         "y": {
          "bdata": "mgwkDjwPVhBUEg==",
          "dtype": "i2"
         }
        },
        {
         "mode": "lines+markers",
         "name": "Pedagogik och undervisning",
         "type": "scatter",
         "x": [
          "2020",
          "2021",
          "2022",
          "2023",
          "2024"
         ],
         "y": {
          "bdata": "8AscDnAPzAuOCA==",
          "dtype": "i2"
         }
        },
        {
         "mode": "lines+markers",
         "name": "Samhällsbyggnad och byggteknik",
         "type": "scatter",
         "x": [
          "2020",
          "2021",
          "2022",
          "2023",
          "2024"
         ],
         "y": {
          "bdata": "NlqQY9xlImKSZg==",
          "dtype": "i2"
         }
        },
        {
         "mode": "lines+markers",
         "name": "Säkerhetstjänster",
         "type": "scatter",
         "x": [
          "2020",
          "2021",
          "2022",
          "2023",
          "2024"
         ],
         "y": {
          "bdata": "hgSkBPYFggZ8Bg==",
          "dtype": "i2"
         }
        },
        {
         "mode": "lines+markers",
         "name": "Teknik och tillverkning",
         "type": "scatter",
         "x": [
          "2020",
          "2021",
          "2022",
          "2023",
          "2024"
         ],
         "y": {
          "bdata": "lk0eWFpYeltUZw==",
          "dtype": "i2"
         }
        },
        {
         "mode": "lines+markers",
         "name": "Transporttjänster",
         "type": "scatter",
         "x": [
          "2020",
          "2021",
          "2022",
          "2023",
          "2024"
         ],
         "y": {
          "bdata": "ug1KDKQLpAw2DQ==",
          "dtype": "i2"
         }
        },
        {
         "mode": "lines+markers",
         "name": "Övrigt",
         "type": "scatter",
         "x": [
          "2020",
          "2021",
          "2022",
          "2023",
          "2024"
         ],
         "y": {
          "bdata": "VAO6AwYEYgPmAg==",
          "dtype": "i2"
         }
        }
       ],
       "layout": {
        "height": 600,
        "hovermode": "x unified",
        "legend": {
         "title": {
          "text": "Utbildningsinriktning"
         }
        },
        "template": {
         "data": {
          "bar": [
           {
            "error_x": {
             "color": "#2a3f5f"
            },
            "error_y": {
             "color": "#2a3f5f"
            },
            "marker": {
             "line": {
              "color": "white",
              "width": 0.5
             },
             "pattern": {
              "fillmode": "overlay",
              "size": 10,
              "solidity": 0.2
             }
            },
            "type": "bar"
           }
          ],
          "barpolar": [
           {
            "marker": {
             "line": {
              "color": "white",
              "width": 0.5
             },
             "pattern": {
              "fillmode": "overlay",
              "size": 10,
              "solidity": 0.2
             }
            },
            "type": "barpolar"
           }
          ],
          "carpet": [
           {
            "aaxis": {
             "endlinecolor": "#2a3f5f",
             "gridcolor": "#C8D4E3",
             "linecolor": "#C8D4E3",
             "minorgridcolor": "#C8D4E3",
             "startlinecolor": "#2a3f5f"
            },
            "baxis": {
             "endlinecolor": "#2a3f5f",
             "gridcolor": "#C8D4E3",
             "linecolor": "#C8D4E3",
             "minorgridcolor": "#C8D4E3",
             "startlinecolor": "#2a3f5f"
            },
            "type": "carpet"
           }
          ],
          "choropleth": [
           {
            "colorbar": {
             "outlinewidth": 0,
             "ticks": ""
            },
            "type": "choropleth"
           }
          ],
          "contour": [
           {
            "colorbar": {
             "outlinewidth": 0,
             "ticks": ""
            },
            "colorscale": [
             [
              0,
              "#0d0887"
             ],
             [
              0.1111111111111111,
              "#46039f"
             ],
             [
              0.2222222222222222,
              "#7201a8"
             ],
             [
              0.3333333333333333,
              "#9c179e"
             ],
             [
              0.4444444444444444,
              "#bd3786"
             ],
             [
              0.5555555555555556,
              "#d8576b"
             ],
             [
              0.6666666666666666,
              "#ed7953"
             ],
             [
              0.7777777777777778,
              "#fb9f3a"
             ],
             [
              0.8888888888888888,
              "#fdca26"
             ],
             [
              1,
              "#f0f921"
             ]
            ],
            "type": "contour"
           }
          ],
          "contourcarpet": [
           {
            "colorbar": {
             "outlinewidth": 0,
             "ticks": ""
            },
            "type": "contourcarpet"
           }
          ],
          "heatmap": [
           {
            "colorbar": {
             "outlinewidth": 0,
             "ticks": ""
            },
            "colorscale": [
             [
              0,
              "#0d0887"
             ],
             [
              0.1111111111111111,
              "#46039f"
             ],
             [
              0.2222222222222222,
              "#7201a8"
             ],
             [
              0.3333333333333333,
              "#9c179e"
             ],
             [
              0.4444444444444444,
              "#bd3786"
             ],
             [
              0.5555555555555556,
              "#d8576b"
             ],
             [
              0.6666666666666666,
              "#ed7953"
             ],
             [
              0.7777777777777778,
              "#fb9f3a"
             ],
             [
              0.8888888888888888,
              "#fdca26"
             ],
             [
              1,
              "#f0f921"
             ]
            ],
            "type": "heatmap"
           }
          ],
          "histogram": [
           {
            "marker": {
             "pattern": {
              "fillmode": "overlay",
              "size": 10,
              "solidity": 0.2
             }
            },
            "type": "histogram"
           }
          ],
          "histogram2d": [
           {
            "colorbar": {
             "outlinewidth": 0,
             "ticks": ""
            },
            "colorscale": [
             [
              0,
              "#0d0887"
             ],
             [
              0.1111111111111111,
              "#46039f"
             ],
             [
              0.2222222222222222,
              "#7201a8"
             ],
             [
              0.3333333333333333,
              "#9c179e"
             ],
             [
              0.4444444444444444,
              "#bd3786"
             ],
             [
              0.5555555555555556,
              "#d8576b"
             ],
             [
              0.6666666666666666,
              "#ed7953"
             ],
             [
              0.7777777777777778,
              "#fb9f3a"
             ],
             [
              0.8888888888888888,
              "#fdca26"
             ],
             [
              1,
              "#f0f921"
             ]
            ],
            "type": "histogram2d"
           }
          ],
          "histogram2dcontour": [
           {
            "colorbar": {
             "outlinewidth": 0,
             "ticks": ""
            },
            "colorscale": [
             [
              0,
              "#0d0887"
             ],
             [
              0.1111111111111111,
              "#46039f"
             ],
             [
              0.2222222222222222,
              "#7201a8"
             ],
             [
              0.3333333333333333,
              "#9c179e"
             ],
             [
              0.4444444444444444,
              "#bd3786"
             ],
             [
              0.5555555555555556,
              "#d8576b"
             ],
             [
              0.6666666666666666,
              "#ed7953"
             ],
             [
              0.7777777777777778,
              "#fb9f3a"
             ],
             [
              0.8888888888888888,
              "#fdca26"
             ],
             [
              1,
              "#f0f921"
             ]
            ],
            "type": "histogram2dcontour"
           }
          ],
          "mesh3d": [
           {
            "colorbar": {
             "outlinewidth": 0,
             "ticks": ""
            },
            "type": "mesh3d"
           }
          ],
          "parcoords": [
           {
            "line": {
             "colorbar": {
              "outlinewidth": 0,
              "ticks": ""
             }
            },
            "type": "parcoords"
           }
          ],
          "pie": [
           {
            "automargin": true,
            "type": "pie"
           }
          ],
          "scatter": [
           {
            "fillpattern": {
             "fillmode": "overlay",
             "size": 10,
             "solidity": 0.2
            },
            "type": "scatter"
           }
          ],
          "scatter3d": [
           {
            "line": {
             "colorbar": {
              "outlinewidth": 0,
              "ticks": ""
             }
            },
            "marker": {
             "colorbar": {
              "outlinewidth": 0,
              "ticks": ""
             }
            },
            "type": "scatter3d"
           }
          ],
          "scattercarpet": [
           {
            "marker": {
             "colorbar": {
              "outlinewidth": 0,
              "ticks": ""
             }
            },
            "type": "scattercarpet"
           }
          ],
          "scattergeo": [
           {
            "marker": {
             "colorbar": {
              "outlinewidth": 0,
              "ticks": ""
             }
            },
            "type": "scattergeo"
           }
          ],
          "scattergl": [
           {
            "marker": {
             "colorbar": {
              "outlinewidth": 0,
              "ticks": ""
             }
            },
            "type": "scattergl"
           }
          ],
          "scattermap": [
           {
            "marker": {
             "colorbar": {
              "outlinewidth": 0,
              "ticks": ""
             }
            },
            "type": "scattermap"
           }
          ],
          "scattermapbox": [
           {
            "marker": {
             "colorbar": {
              "outlinewidth": 0,
              "ticks": ""
             }
            },
            "type": "scattermapbox"
           }
          ],
          "scatterpolar": [
           {
            "marker": {
             "colorbar": {
              "outlinewidth": 0,
              "ticks": ""
             }
            },
            "type": "scatterpolar"
           }
          ],
          "scatterpolargl": [
           {
            "marker": {
             "colorbar": {
              "outlinewidth": 0,
              "ticks": ""
             }
            },
            "type": "scatterpolargl"
           }
          ],
          "scatterternary": [
           {
            "marker": {
             "colorbar": {
              "outlinewidth": 0,
              "ticks": ""
             }
            },
            "type": "scatterternary"
           }
          ],
          "surface": [
           {
            "colorbar": {
             "outlinewidth": 0,
             "ticks": ""
            },
            "colorscale": [
             [
              0,
              "#0d0887"
             ],
             [
              0.1111111111111111,
              "#46039f"
             ],
             [
              0.2222222222222222,
              "#7201a8"
             ],
             [
              0.3333333333333333,
              "#9c179e"
             ],
             [
              0.4444444444444444,
              "#bd3786"
             ],
             [
              0.5555555555555556,
              "#d8576b"
             ],
             [
              0.6666666666666666,
              "#ed7953"
             ],
             [
              0.7777777777777778,
              "#fb9f3a"
             ],
             [
              0.8888888888888888,
              "#fdca26"
             ],
             [
              1,
              "#f0f921"
             ]
            ],
            "type": "surface"
           }
          ],
          "table": [
           {
            "cells": {
             "fill": {
              "color": "#EBF0F8"
             },
             "line": {
              "color": "white"
             }
            },
            "header": {
             "fill": {
              "color": "#C8D4E3"
             },
             "line": {
              "color": "white"
             }
            },
            "type": "table"
           }
          ]
         },
         "layout": {
          "annotationdefaults": {
           "arrowcolor": "#2a3f5f",
           "arrowhead": 0,
           "arrowwidth": 1
          },
          "autotypenumbers": "strict",
          "coloraxis": {
           "colorbar": {
            "outlinewidth": 0,
            "ticks": ""
           }
          },
          "colorscale": {
           "diverging": [
            [
             0,
             "#8e0152"
            ],
            [
             0.1,
             "#c51b7d"
            ],
            [
             0.2,
             "#de77ae"
            ],
            [
             0.3,
             "#f1b6da"
            ],
            [
             0.4,
             "#fde0ef"
            ],
            [
             0.5,
             "#f7f7f7"
            ],
            [
             0.6,
             "#e6f5d0"
            ],
            [
             0.7,
             "#b8e186"
            ],
            [
             0.8,
             "#7fbc41"
            ],
            [
             0.9,
             "#4d9221"
            ],
            [
             1,
             "#276419"
            ]
           ],
           "sequential": [
            [
             0,
             "#0d0887"
            ],
            [
             0.1111111111111111,
             "#46039f"
            ],
            [
             0.2222222222222222,
             "#7201a8"
            ],
            [
             0.3333333333333333,
             "#9c179e"
            ],
            [
             0.4444444444444444,
             "#bd3786"
            ],
            [
             0.5555555555555556,
             "#d8576b"
            ],
            [
             0.6666666666666666,
             "#ed7953"
            ],
            [
             0.7777777777777778,
             "#fb9f3a"
            ],
            [
             0.8888888888888888,
             "#fdca26"
            ],
            [
             1,
             "#f0f921"
            ]
           ],
           "sequentialminus": [
            [
             0,
             "#0d0887"
            ],
            [
             0.1111111111111111,
             "#46039f"
            ],
            [
             0.2222222222222222,
             "#7201a8"
            ],
            [
             0.3333333333333333,
             "#9c179e"
            ],
            [
             0.4444444444444444,
             "#bd3786"
            ],
            [
             0.5555555555555556,
             "#d8576b"
            ],
            [
             0.6666666666666666,
             "#ed7953"
            ],
            [
             0.7777777777777778,
             "#fb9f3a"
            ],
            [
             0.8888888888888888,
             "#fdca26"
            ],
            [
             1,
             "#f0f921"
            ]
           ]
          },
          "colorway": [
           "#636efa",
           "#EF553B",
           "#00cc96",
           "#ab63fa",
           "#FFA15A",
           "#19d3f3",
           "#FF6692",
           "#B6E880",
           "#FF97FF",
           "#FECB52"
          ],
          "font": {
           "color": "#2a3f5f"
          },
          "geo": {
           "bgcolor": "white",
           "lakecolor": "white",
           "landcolor": "white",
           "showlakes": true,
           "showland": true,
           "subunitcolor": "#C8D4E3"
          },
          "hoverlabel": {
           "align": "left"
          },
          "hovermode": "closest",
          "mapbox": {
           "style": "light"
          },
          "paper_bgcolor": "white",
          "plot_bgcolor": "white",
          "polar": {
           "angularaxis": {
            "gridcolor": "#EBF0F8",
            "linecolor": "#EBF0F8",
            "ticks": ""
           },
           "bgcolor": "white",
           "radialaxis": {
            "gridcolor": "#EBF0F8",
            "linecolor": "#EBF0F8",
            "ticks": ""
           }
          },
          "scene": {
           "xaxis": {
            "backgroundcolor": "white",
            "gridcolor": "#DFE8F3",
            "gridwidth": 2,
            "linecolor": "#EBF0F8",
            "showbackground": true,
            "ticks": "",
            "zerolinecolor": "#EBF0F8"
           },
           "yaxis": {
            "backgroundcolor": "white",
            "gridcolor": "#DFE8F3",
            "gridwidth": 2,
            "linecolor": "#EBF0F8",
            "showbackground": true,
            "ticks": "",
            "zerolinecolor": "#EBF0F8"
           },
           "zaxis": {
            "backgroundcolor": "white",
            "gridcolor": "#DFE8F3",
            "gridwidth": 2,
            "linecolor": "#EBF0F8",
            "showbackground": true,
            "ticks": "",
            "zerolinecolor": "#EBF0F8"
           }
          },
          "shapedefaults": {
           "line": {
            "color": "#2a3f5f"
           }
          },
          "ternary": {
           "aaxis": {
            "gridcolor": "#DFE8F3",
            "linecolor": "#A2B1C6",
            "ticks": ""
           },
           "baxis": {
            "gridcolor": "#DFE8F3",
            "linecolor": "#A2B1C6",
            "ticks": ""
           },
           "bgcolor": "white",
           "caxis": {
            "gridcolor": "#DFE8F3",
            "linecolor": "#A2B1C6",
            "ticks": ""
           }
          },
          "title": {
           "x": 0.05
          },
          "xaxis": {
           "automargin": true,
           "gridcolor": "#EBF0F8",
           "linecolor": "#EBF0F8",
           "ticks": "",
           "title": {
            "standoff": 15
           },
           "zerolinecolor": "#EBF0F8",
           "zerolinewidth": 2
          },
          "yaxis": {
           "automargin": true,
           "gridcolor": "#EBF0F8",
           "linecolor": "#EBF0F8",
           "ticks": "",
           "title": {
            "standoff": 15
           },
           "zerolinecolor": "#EBF0F8",
           "zerolinewidth": 2
          }
         }
        },
        "title": {
         "text": "Antal studerande per utbildningsinriktning (2020-2024)"
        },
        "xaxis": {
         "title": {
          "text": "År"
         }
        },
        "yaxis": {
         "title": {
          "text": "Antal studerande"
         }
        }
       }
      }
     },
     "metadata": {},
     "output_type": "display_data"
    }
   ],
   "source": [
    "import plotly.graph_objects as go\n",
    "\n",
    "fig = go.Figure()\n",
    "for utbildning in df_grouped['utbildningens inriktning']:\n",
    "    fig.add_trace(go.Scatter(\n",
    "        x=df_grouped.columns[1:],\n",
    "        y=df_grouped[df_grouped['utbildningens inriktning'] == utbildning][years].values.flatten(),\n",
    "        mode='lines+markers',\n",
    "        name=utbildning\n",
    "    ))\n",
    "\n",
    "fig.update_layout(\n",
    "    title=\"Antal studerande per utbildningsinriktning (2020-2024)\",\n",
    "    xaxis_title=\"År\",\n",
    "    yaxis_title=\"Antal studerande\",\n",
    "    legend_title=\"Utbildningsinriktning\",\n",
    "    template=\"plotly_white\", \n",
    "    hovermode=\"x unified\", \n",
    "    height=600\n",
    ")\n",
    "fig.show()"
   ]
  },
  {
   "cell_type": "code",
   "execution_count": 6,
   "id": "8d31df7f",
   "metadata": {},
   "outputs": [
    {
     "data": {
      "text/html": [
       "<div>\n",
       "<style scoped>\n",
       "    .dataframe tbody tr th:only-of-type {\n",
       "        vertical-align: middle;\n",
       "    }\n",
       "\n",
       "    .dataframe tbody tr th {\n",
       "        vertical-align: top;\n",
       "    }\n",
       "\n",
       "    .dataframe thead th {\n",
       "        text-align: right;\n",
       "    }\n",
       "</style>\n",
       "<table border=\"1\" class=\"dataframe\">\n",
       "  <thead>\n",
       "    <tr style=\"text-align: right;\">\n",
       "      <th></th>\n",
       "      <th>utbildningens inriktning</th>\n",
       "      <th>2020</th>\n",
       "      <th>2021</th>\n",
       "      <th>2022</th>\n",
       "      <th>2023</th>\n",
       "      <th>2024</th>\n",
       "    </tr>\n",
       "  </thead>\n",
       "  <tbody>\n",
       "    <tr>\n",
       "      <th>0</th>\n",
       "      <td>Data/It</td>\n",
       "      <td>20566</td>\n",
       "      <td>25704</td>\n",
       "      <td>28510</td>\n",
       "      <td>30324</td>\n",
       "      <td>32894</td>\n",
       "    </tr>\n",
       "    <tr>\n",
       "      <th>1</th>\n",
       "      <td>Ekonomi, administration och försäljning</td>\n",
       "      <td>36982</td>\n",
       "      <td>37080</td>\n",
       "      <td>35636</td>\n",
       "      <td>34708</td>\n",
       "      <td>34760</td>\n",
       "    </tr>\n",
       "    <tr>\n",
       "      <th>2</th>\n",
       "      <td>Friskvård och kroppsvård</td>\n",
       "      <td>670</td>\n",
       "      <td>744</td>\n",
       "      <td>816</td>\n",
       "      <td>920</td>\n",
       "      <td>732</td>\n",
       "    </tr>\n",
       "    <tr>\n",
       "      <th>3</th>\n",
       "      <td>Hotell, restaurang och turism</td>\n",
       "      <td>6188</td>\n",
       "      <td>6628</td>\n",
       "      <td>6014</td>\n",
       "      <td>5506</td>\n",
       "      <td>5600</td>\n",
       "    </tr>\n",
       "    <tr>\n",
       "      <th>4</th>\n",
       "      <td>Hälso- och sjukvård samt socialt arbete</td>\n",
       "      <td>21808</td>\n",
       "      <td>24104</td>\n",
       "      <td>25760</td>\n",
       "      <td>25042</td>\n",
       "      <td>23832</td>\n",
       "    </tr>\n",
       "    <tr>\n",
       "      <th>5</th>\n",
       "      <td>Journalistik och information</td>\n",
       "      <td>1934</td>\n",
       "      <td>1872</td>\n",
       "      <td>1646</td>\n",
       "      <td>1504</td>\n",
       "      <td>1292</td>\n",
       "    </tr>\n",
       "    <tr>\n",
       "      <th>6</th>\n",
       "      <td>Juridik</td>\n",
       "      <td>968</td>\n",
       "      <td>976</td>\n",
       "      <td>832</td>\n",
       "      <td>692</td>\n",
       "      <td>692</td>\n",
       "    </tr>\n",
       "    <tr>\n",
       "      <th>7</th>\n",
       "      <td>Kultur, media och design</td>\n",
       "      <td>6864</td>\n",
       "      <td>7832</td>\n",
       "      <td>8446</td>\n",
       "      <td>8914</td>\n",
       "      <td>9272</td>\n",
       "    </tr>\n",
       "    <tr>\n",
       "      <th>8</th>\n",
       "      <td>Lantbruk, djurvård, trädgård, skog och fiske</td>\n",
       "      <td>3226</td>\n",
       "      <td>3620</td>\n",
       "      <td>3900</td>\n",
       "      <td>4182</td>\n",
       "      <td>4692</td>\n",
       "    </tr>\n",
       "    <tr>\n",
       "      <th>9</th>\n",
       "      <td>Pedagogik och undervisning</td>\n",
       "      <td>3056</td>\n",
       "      <td>3612</td>\n",
       "      <td>3952</td>\n",
       "      <td>3020</td>\n",
       "      <td>2190</td>\n",
       "    </tr>\n",
       "    <tr>\n",
       "      <th>10</th>\n",
       "      <td>Samhällsbyggnad och byggteknik</td>\n",
       "      <td>23094</td>\n",
       "      <td>25488</td>\n",
       "      <td>26076</td>\n",
       "      <td>25122</td>\n",
       "      <td>26258</td>\n",
       "    </tr>\n",
       "    <tr>\n",
       "      <th>11</th>\n",
       "      <td>Säkerhetstjänster</td>\n",
       "      <td>1158</td>\n",
       "      <td>1188</td>\n",
       "      <td>1526</td>\n",
       "      <td>1666</td>\n",
       "      <td>1660</td>\n",
       "    </tr>\n",
       "    <tr>\n",
       "      <th>12</th>\n",
       "      <td>Teknik och tillverkning</td>\n",
       "      <td>19862</td>\n",
       "      <td>22558</td>\n",
       "      <td>22618</td>\n",
       "      <td>23418</td>\n",
       "      <td>26452</td>\n",
       "    </tr>\n",
       "    <tr>\n",
       "      <th>14</th>\n",
       "      <td>Transporttjänster</td>\n",
       "      <td>3514</td>\n",
       "      <td>3146</td>\n",
       "      <td>2980</td>\n",
       "      <td>3236</td>\n",
       "      <td>3382</td>\n",
       "    </tr>\n",
       "    <tr>\n",
       "      <th>15</th>\n",
       "      <td>Övrigt</td>\n",
       "      <td>852</td>\n",
       "      <td>954</td>\n",
       "      <td>1030</td>\n",
       "      <td>866</td>\n",
       "      <td>742</td>\n",
       "    </tr>\n",
       "  </tbody>\n",
       "</table>\n",
       "</div>"
      ],
      "text/plain": [
       "                        utbildningens inriktning   2020   2021   2022   2023  \\\n",
       "0                                        Data/It  20566  25704  28510  30324   \n",
       "1        Ekonomi, administration och försäljning  36982  37080  35636  34708   \n",
       "2                       Friskvård och kroppsvård    670    744    816    920   \n",
       "3                  Hotell, restaurang och turism   6188   6628   6014   5506   \n",
       "4        Hälso- och sjukvård samt socialt arbete  21808  24104  25760  25042   \n",
       "5                   Journalistik och information   1934   1872   1646   1504   \n",
       "6                                        Juridik    968    976    832    692   \n",
       "7                       Kultur, media och design   6864   7832   8446   8914   \n",
       "8   Lantbruk, djurvård, trädgård, skog och fiske   3226   3620   3900   4182   \n",
       "9                     Pedagogik och undervisning   3056   3612   3952   3020   \n",
       "10                Samhällsbyggnad och byggteknik  23094  25488  26076  25122   \n",
       "11                             Säkerhetstjänster   1158   1188   1526   1666   \n",
       "12                       Teknik och tillverkning  19862  22558  22618  23418   \n",
       "14                             Transporttjänster   3514   3146   2980   3236   \n",
       "15                                        Övrigt    852    954   1030    866   \n",
       "\n",
       "     2024  \n",
       "0   32894  \n",
       "1   34760  \n",
       "2     732  \n",
       "3    5600  \n",
       "4   23832  \n",
       "5    1292  \n",
       "6     692  \n",
       "7    9272  \n",
       "8    4692  \n",
       "9    2190  \n",
       "10  26258  \n",
       "11   1660  \n",
       "12  26452  \n",
       "14   3382  \n",
       "15    742  "
      ]
     },
     "execution_count": 6,
     "metadata": {},
     "output_type": "execute_result"
    }
   ],
   "source": [
    "utbildning_att_ta_bort = \"Totalt\"\n",
    "df_grouped = df_grouped[df_grouped['utbildningens inriktning'] != utbildning_att_ta_bort]\n",
    "df_grouped"
   ]
  }
 ],
 "metadata": {
  "kernelspec": {
   "display_name": ".venv",
   "language": "python",
   "name": "python3"
  },
  "language_info": {
   "codemirror_mode": {
    "name": "ipython",
    "version": 3
   },
   "file_extension": ".py",
   "mimetype": "text/x-python",
   "name": "python",
   "nbconvert_exporter": "python",
   "pygments_lexer": "ipython3",
   "version": "3.12.5"
  }
 },
 "nbformat": 4,
 "nbformat_minor": 5
}
