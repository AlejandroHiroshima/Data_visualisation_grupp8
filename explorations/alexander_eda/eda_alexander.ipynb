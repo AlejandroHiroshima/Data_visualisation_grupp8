{
 "cells": [
  {
   "cell_type": "markdown",
   "id": "e603fea0",
   "metadata": {},
   "source": [
    "# Will be exploring data regarding Entry into the labor market after vocational education. Graduates of 2021.\n",
    "### URL = https://www.scb.se/hitta-statistik/statistik-efter-amne/utbildning-samt-forskning-inom-hogskolan/befolkningens-utbildning-och-studiedeltagande/intradet-pa-arbetsmarknaden/"
   ]
  },
  {
   "cell_type": "markdown",
   "id": "b8664727",
   "metadata": {},
   "source": [
    "### 1. EDA regarding employment before and after examination. grouped by educational area"
   ]
  },
  {
   "cell_type": "code",
   "execution_count": 23,
   "id": "6f5d8fef",
   "metadata": {},
   "outputs": [
    {
     "data": {
      "text/plain": [
       "Index(['Data/It', 'Ekonomi, administration och försäljning',\n",
       "       'Friskvård och kroppsvård', 'Hotell, restaurang och turism',\n",
       "       'Hälso- och sjukvård samt socialt arbete',\n",
       "       'Journalistik och information', 'Juridik', 'Kultur, media och design',\n",
       "       'Lantbruk, djurvård, trädgård, skog och fiske',\n",
       "       'Pedagogik och undervisning', 'Samhällsbyggnad och byggteknik',\n",
       "       'Säkerhetstjänster', 'Teknik och tillverkning', 'Transporttjänster',\n",
       "       'Övrigt'],\n",
       "      dtype='object', name='Unnamed: 0')"
      ]
     },
     "execution_count": 23,
     "metadata": {},
     "output_type": "execute_result"
    }
   ],
   "source": [
    "import pandas as pd\n",
    "data_path = \"../data/inträde_arbetsmarknaden_2021/intradet-pa-arbetsmarknaden.-examinerade-fran-yrkeshogskolan-2021.xlsx\"\n",
    "df_after = pd.read_excel(data_path, \n",
    "                         sheet_name= \"2\", \n",
    "                         skiprows=6,\n",
    "                         usecols=range(7))\n",
    "\n",
    "df_after = df_after.dropna(how='all').set_index(\"Unnamed: 0\")\n",
    "utbildningsomrade = df_after.index[17:32]\n",
    "utbildningsomrade\n"
   ]
  },
  {
   "cell_type": "code",
   "execution_count": 24,
   "id": "68dd3b74",
   "metadata": {},
   "outputs": [
    {
     "data": {
      "text/html": [
       "<div>\n",
       "<style scoped>\n",
       "    .dataframe tbody tr th:only-of-type {\n",
       "        vertical-align: middle;\n",
       "    }\n",
       "\n",
       "    .dataframe tbody tr th {\n",
       "        vertical-align: top;\n",
       "    }\n",
       "\n",
       "    .dataframe thead th {\n",
       "        text-align: right;\n",
       "    }\n",
       "</style>\n",
       "<table border=\"1\" class=\"dataframe\">\n",
       "  <thead>\n",
       "    <tr style=\"text-align: right;\">\n",
       "      <th></th>\n",
       "      <th>Antal</th>\n",
       "      <th>Anställd</th>\n",
       "      <th>Egen företagare/ anställd i eget AB</th>\n",
       "      <th>Arbetssökande/ arbetsmarknads-politisk åtgärd*</th>\n",
       "      <th>Studerande</th>\n",
       "      <th>Annat</th>\n",
       "    </tr>\n",
       "  </thead>\n",
       "  <tbody>\n",
       "    <tr>\n",
       "      <th>count</th>\n",
       "      <td>61</td>\n",
       "      <td>61</td>\n",
       "      <td>61</td>\n",
       "      <td>61</td>\n",
       "      <td>61</td>\n",
       "      <td>61</td>\n",
       "    </tr>\n",
       "    <tr>\n",
       "      <th>unique</th>\n",
       "      <td>41</td>\n",
       "      <td>26</td>\n",
       "      <td>17</td>\n",
       "      <td>21</td>\n",
       "      <td>16</td>\n",
       "      <td>7</td>\n",
       "    </tr>\n",
       "    <tr>\n",
       "      <th>top</th>\n",
       "      <td></td>\n",
       "      <td></td>\n",
       "      <td></td>\n",
       "      <td></td>\n",
       "      <td></td>\n",
       "      <td></td>\n",
       "    </tr>\n",
       "    <tr>\n",
       "      <th>freq</th>\n",
       "      <td>21</td>\n",
       "      <td>21</td>\n",
       "      <td>21</td>\n",
       "      <td>21</td>\n",
       "      <td>21</td>\n",
       "      <td>21</td>\n",
       "    </tr>\n",
       "  </tbody>\n",
       "</table>\n",
       "</div>"
      ],
      "text/plain": [
       "       Antal Anställd Egen företagare/ anställd i eget AB  \\\n",
       "count     61       61                                  61   \n",
       "unique    41       26                                  17   \n",
       "top                                                         \n",
       "freq      21       21                                  21   \n",
       "\n",
       "       Arbetssökande/ arbetsmarknads-politisk åtgärd* Studerande Annat  \n",
       "count                                              61         61    61  \n",
       "unique                                             21         16     7  \n",
       "top                                                                     \n",
       "freq                                               21         21    21  "
      ]
     },
     "execution_count": 24,
     "metadata": {},
     "output_type": "execute_result"
    }
   ],
   "source": [
    "df_after.describe()"
   ]
  },
  {
   "cell_type": "code",
   "execution_count": 25,
   "id": "630f644a",
   "metadata": {},
   "outputs": [
    {
     "name": "stdout",
     "output_type": "stream",
     "text": [
      "<class 'pandas.core.frame.DataFrame'>\n",
      "Index: 62 entries, Totalt to *  även studieinriktade åtgärder\n",
      "Data columns (total 6 columns):\n",
      " #   Column                                          Non-Null Count  Dtype \n",
      "---  ------                                          --------------  ----- \n",
      " 0   Antal                                           61 non-null     object\n",
      " 1   Anställd                                        61 non-null     object\n",
      " 2   Egen företagare/ anställd i eget AB             61 non-null     object\n",
      " 3   Arbetssökande/ arbetsmarknads-politisk åtgärd*  61 non-null     object\n",
      " 4   Studerande                                      61 non-null     object\n",
      " 5   Annat                                           61 non-null     object\n",
      "dtypes: object(6)\n",
      "memory usage: 3.4+ KB\n"
     ]
    }
   ],
   "source": [
    "df_after.info()"
   ]
  },
  {
   "cell_type": "code",
   "execution_count": 26,
   "id": "4f78bd09",
   "metadata": {},
   "outputs": [
    {
     "data": {
      "text/plain": [
       "Index(['Antal', 'Anställd', 'Egen företagare/ anställd i eget AB',\n",
       "       'Arbetssökande/ arbetsmarknads-politisk åtgärd*', 'Studerande',\n",
       "       'Annat'],\n",
       "      dtype='object')"
      ]
     },
     "execution_count": 26,
     "metadata": {},
     "output_type": "execute_result"
    }
   ],
   "source": [
    "df_after.columns"
   ]
  },
  {
   "cell_type": "code",
   "execution_count": 27,
   "id": "f310db14",
   "metadata": {},
   "outputs": [
    {
     "data": {
      "text/html": [
       "<div>\n",
       "<style scoped>\n",
       "    .dataframe tbody tr th:only-of-type {\n",
       "        vertical-align: middle;\n",
       "    }\n",
       "\n",
       "    .dataframe tbody tr th {\n",
       "        vertical-align: top;\n",
       "    }\n",
       "\n",
       "    .dataframe thead th {\n",
       "        text-align: right;\n",
       "    }\n",
       "</style>\n",
       "<table border=\"1\" class=\"dataframe\">\n",
       "  <thead>\n",
       "    <tr style=\"text-align: right;\">\n",
       "      <th></th>\n",
       "      <th>Antal</th>\n",
       "      <th>Anställd</th>\n",
       "      <th>Egen företagare/ anställd i eget AB</th>\n",
       "      <th>Arbetssökande/ arbetsmarknads-politisk åtgärd*</th>\n",
       "      <th>Studerande</th>\n",
       "      <th>Annat</th>\n",
       "    </tr>\n",
       "    <tr>\n",
       "      <th>Unnamed: 0</th>\n",
       "      <th></th>\n",
       "      <th></th>\n",
       "      <th></th>\n",
       "      <th></th>\n",
       "      <th></th>\n",
       "      <th></th>\n",
       "    </tr>\n",
       "  </thead>\n",
       "  <tbody>\n",
       "    <tr>\n",
       "      <th>Totalt</th>\n",
       "      <td>19487</td>\n",
       "      <td>72 ± 1</td>\n",
       "      <td>4 ± 0</td>\n",
       "      <td>9 ± 0</td>\n",
       "      <td>11 ± 1</td>\n",
       "      <td>4 ± 0</td>\n",
       "    </tr>\n",
       "    <tr>\n",
       "      <th>NaN</th>\n",
       "      <td></td>\n",
       "      <td></td>\n",
       "      <td></td>\n",
       "      <td></td>\n",
       "      <td></td>\n",
       "      <td></td>\n",
       "    </tr>\n",
       "    <tr>\n",
       "      <th>Kön</th>\n",
       "      <td></td>\n",
       "      <td></td>\n",
       "      <td></td>\n",
       "      <td></td>\n",
       "      <td></td>\n",
       "      <td></td>\n",
       "    </tr>\n",
       "    <tr>\n",
       "      <th>Kvinnor</th>\n",
       "      <td>11289</td>\n",
       "      <td>75 ± 1</td>\n",
       "      <td>3 ± 0</td>\n",
       "      <td>8 ± 1</td>\n",
       "      <td>10 ± 1</td>\n",
       "      <td>5 ± 0</td>\n",
       "    </tr>\n",
       "    <tr>\n",
       "      <th>Män</th>\n",
       "      <td>8198</td>\n",
       "      <td>69 ± 1</td>\n",
       "      <td>5 ± 1</td>\n",
       "      <td>10 ± 1</td>\n",
       "      <td>13 ± 1</td>\n",
       "      <td>3 ± 1</td>\n",
       "    </tr>\n",
       "    <tr>\n",
       "      <th>...</th>\n",
       "      <td>...</td>\n",
       "      <td>...</td>\n",
       "      <td>...</td>\n",
       "      <td>...</td>\n",
       "      <td>...</td>\n",
       "      <td>...</td>\n",
       "    </tr>\n",
       "    <tr>\n",
       "      <th>Eftergymnasial utbildning kortare än 3 år</th>\n",
       "      <td>4256</td>\n",
       "      <td>66 ± 2</td>\n",
       "      <td>4 ± 1</td>\n",
       "      <td>10 ± 1</td>\n",
       "      <td>15 ± 1</td>\n",
       "      <td>5 ± 1</td>\n",
       "    </tr>\n",
       "    <tr>\n",
       "      <th>Eftergymnasial utbildning 3 år eller längre</th>\n",
       "      <td>2571</td>\n",
       "      <td>62 ± 2</td>\n",
       "      <td>6 ± 1</td>\n",
       "      <td>14 ± 1</td>\n",
       "      <td>13 ± 1</td>\n",
       "      <td>5 ± 1</td>\n",
       "    </tr>\n",
       "    <tr>\n",
       "      <th>NaN</th>\n",
       "      <td></td>\n",
       "      <td></td>\n",
       "      <td></td>\n",
       "      <td></td>\n",
       "      <td></td>\n",
       "      <td></td>\n",
       "    </tr>\n",
       "    <tr>\n",
       "      <th>*  även studieinriktade åtgärder</th>\n",
       "      <td></td>\n",
       "      <td></td>\n",
       "      <td></td>\n",
       "      <td></td>\n",
       "      <td></td>\n",
       "      <td></td>\n",
       "    </tr>\n",
       "    <tr>\n",
       "      <th>NaN</th>\n",
       "      <td></td>\n",
       "      <td></td>\n",
       "      <td></td>\n",
       "      <td></td>\n",
       "      <td></td>\n",
       "      <td></td>\n",
       "    </tr>\n",
       "  </tbody>\n",
       "</table>\n",
       "<p>63 rows × 6 columns</p>\n",
       "</div>"
      ],
      "text/plain": [
       "                                             Antal Anställd  \\\n",
       "Unnamed: 0                                                    \n",
       "Totalt                                       19487   72 ± 1   \n",
       "NaN                                                           \n",
       "Kön                                                           \n",
       "Kvinnor                                      11289   75 ± 1   \n",
       "Män                                           8198   69 ± 1   \n",
       "...                                            ...      ...   \n",
       "Eftergymnasial utbildning kortare än 3 år     4256   66 ± 2   \n",
       "Eftergymnasial utbildning 3 år eller längre   2571   62 ± 2   \n",
       "NaN                                                           \n",
       "*  även studieinriktade åtgärder                              \n",
       "NaN                                                           \n",
       "\n",
       "                                            Egen företagare/ anställd i eget AB  \\\n",
       "Unnamed: 0                                                                        \n",
       "Totalt                                                                    4 ± 0   \n",
       "NaN                                                                               \n",
       "Kön                                                                               \n",
       "Kvinnor                                                                   3 ± 0   \n",
       "Män                                                                       5 ± 1   \n",
       "...                                                                         ...   \n",
       "Eftergymnasial utbildning kortare än 3 år                                 4 ± 1   \n",
       "Eftergymnasial utbildning 3 år eller längre                               6 ± 1   \n",
       "NaN                                                                               \n",
       "*  även studieinriktade åtgärder                                                  \n",
       "NaN                                                                               \n",
       "\n",
       "                                            Arbetssökande/ arbetsmarknads-politisk åtgärd*  \\\n",
       "Unnamed: 0                                                                                   \n",
       "Totalt                                                                               9 ± 0   \n",
       "NaN                                                                                          \n",
       "Kön                                                                                          \n",
       "Kvinnor                                                                              8 ± 1   \n",
       "Män                                                                                 10 ± 1   \n",
       "...                                                                                    ...   \n",
       "Eftergymnasial utbildning kortare än 3 år                                           10 ± 1   \n",
       "Eftergymnasial utbildning 3 år eller längre                                         14 ± 1   \n",
       "NaN                                                                                          \n",
       "*  även studieinriktade åtgärder                                                             \n",
       "NaN                                                                                          \n",
       "\n",
       "                                            Studerande  Annat  \n",
       "Unnamed: 0                                                     \n",
       "Totalt                                          11 ± 1  4 ± 0  \n",
       "NaN                                                            \n",
       "Kön                                                            \n",
       "Kvinnor                                         10 ± 1  5 ± 0  \n",
       "Män                                             13 ± 1  3 ± 1  \n",
       "...                                                ...    ...  \n",
       "Eftergymnasial utbildning kortare än 3 år       15 ± 1  5 ± 1  \n",
       "Eftergymnasial utbildning 3 år eller längre     13 ± 1  5 ± 1  \n",
       "NaN                                                            \n",
       "*  även studieinriktade åtgärder                               \n",
       "NaN                                                            \n",
       "\n",
       "[63 rows x 6 columns]"
      ]
     },
     "execution_count": 27,
     "metadata": {},
     "output_type": "execute_result"
    }
   ],
   "source": [
    "df_before = pd.read_excel(data_path, \n",
    "                         sheet_name= \"1\", \n",
    "                         skiprows=6,\n",
    "                         usecols=range(7))\n",
    "\n",
    "df_before = df_before.dropna(how='all').set_index(\"Unnamed: 0\")\n",
    "df_before"
   ]
  },
  {
   "cell_type": "code",
   "execution_count": 28,
   "id": "abe437a9",
   "metadata": {},
   "outputs": [
    {
     "data": {
      "text/plain": [
       "19487"
      ]
     },
     "execution_count": 28,
     "metadata": {},
     "output_type": "execute_result"
    }
   ],
   "source": [
    "total = df_after.loc[\"Totalt\", \"Antal\"]\n",
    "total"
   ]
  },
  {
   "cell_type": "code",
   "execution_count": 35,
   "id": "011ed880",
   "metadata": {},
   "outputs": [
    {
     "data": {
      "text/html": [
       "<div>\n",
       "<style scoped>\n",
       "    .dataframe tbody tr th:only-of-type {\n",
       "        vertical-align: middle;\n",
       "    }\n",
       "\n",
       "    .dataframe tbody tr th {\n",
       "        vertical-align: top;\n",
       "    }\n",
       "\n",
       "    .dataframe thead th {\n",
       "        text-align: right;\n",
       "    }\n",
       "</style>\n",
       "<table border=\"1\" class=\"dataframe\">\n",
       "  <thead>\n",
       "    <tr style=\"text-align: right;\">\n",
       "      <th></th>\n",
       "      <th>Antal</th>\n",
       "      <th>Anställd</th>\n",
       "      <th>Egen företagare/ anställd i eget AB</th>\n",
       "      <th>Arbetssökande/ arbetsmarknads-politisk åtgärd*</th>\n",
       "      <th>Studerande</th>\n",
       "      <th>Annat</th>\n",
       "    </tr>\n",
       "    <tr>\n",
       "      <th>Unnamed: 0</th>\n",
       "      <th></th>\n",
       "      <th></th>\n",
       "      <th></th>\n",
       "      <th></th>\n",
       "      <th></th>\n",
       "      <th></th>\n",
       "    </tr>\n",
       "  </thead>\n",
       "  <tbody>\n",
       "    <tr>\n",
       "      <th>Data/It</th>\n",
       "      <td>2223</td>\n",
       "      <td>88 ± 2</td>\n",
       "      <td>1 ± 1</td>\n",
       "      <td>6 ± 1</td>\n",
       "      <td>3 ± 1</td>\n",
       "      <td>1 ± 0</td>\n",
       "    </tr>\n",
       "    <tr>\n",
       "      <th>Ekonomi, administration och försäljning</th>\n",
       "      <td>5307</td>\n",
       "      <td>91 ± 1</td>\n",
       "      <td>2 ± 1</td>\n",
       "      <td>3 ± 1</td>\n",
       "      <td>2 ± 0</td>\n",
       "      <td>1 ± 0</td>\n",
       "    </tr>\n",
       "    <tr>\n",
       "      <th>Friskvård och kroppsvård</th>\n",
       "      <td>125</td>\n",
       "      <td>..</td>\n",
       "      <td>..</td>\n",
       "      <td>..</td>\n",
       "      <td>..</td>\n",
       "      <td>..</td>\n",
       "    </tr>\n",
       "    <tr>\n",
       "      <th>Hotell, restaurang och turism</th>\n",
       "      <td>888</td>\n",
       "      <td>78 ± 4</td>\n",
       "      <td>5 ± 2</td>\n",
       "      <td>8 ± 3</td>\n",
       "      <td>6 ± 2</td>\n",
       "      <td>3 ± 1</td>\n",
       "    </tr>\n",
       "    <tr>\n",
       "      <th>Hälso- och sjukvård samt socialt arbete</th>\n",
       "      <td>2976</td>\n",
       "      <td>91 ± 1</td>\n",
       "      <td>2 ± 1</td>\n",
       "      <td>2 ± 1</td>\n",
       "      <td>3 ± 1</td>\n",
       "      <td>2 ± 1</td>\n",
       "    </tr>\n",
       "    <tr>\n",
       "      <th>Journalistik och information</th>\n",
       "      <td>299</td>\n",
       "      <td>76 ± 6</td>\n",
       "      <td>5 ± 3</td>\n",
       "      <td>11 ± 4</td>\n",
       "      <td>7 ± 4</td>\n",
       "      <td>..</td>\n",
       "    </tr>\n",
       "    <tr>\n",
       "      <th>Juridik</th>\n",
       "      <td>156</td>\n",
       "      <td>90 ± 7</td>\n",
       "      <td>..</td>\n",
       "      <td>..</td>\n",
       "      <td>6 ± 5</td>\n",
       "      <td>..</td>\n",
       "    </tr>\n",
       "    <tr>\n",
       "      <th>Kultur, media och design</th>\n",
       "      <td>983</td>\n",
       "      <td>75 ± 4</td>\n",
       "      <td>9 ± 2</td>\n",
       "      <td>7 ± 2</td>\n",
       "      <td>6 ± 2</td>\n",
       "      <td>2 ± 1</td>\n",
       "    </tr>\n",
       "    <tr>\n",
       "      <th>Lantbruk, djurvård, trädgård, skog och fiske</th>\n",
       "      <td>448</td>\n",
       "      <td>68 ± 5</td>\n",
       "      <td>26 ± 5</td>\n",
       "      <td>1 ± 1</td>\n",
       "      <td>3 ± 2</td>\n",
       "      <td>2 ± 1</td>\n",
       "    </tr>\n",
       "    <tr>\n",
       "      <th>Pedagogik och undervisning</th>\n",
       "      <td>463</td>\n",
       "      <td>84 ± 4</td>\n",
       "      <td>6 ± 2</td>\n",
       "      <td>6 ± 2</td>\n",
       "      <td>4 ± 2</td>\n",
       "      <td>..</td>\n",
       "    </tr>\n",
       "    <tr>\n",
       "      <th>Samhällsbyggnad och byggteknik</th>\n",
       "      <td>2610</td>\n",
       "      <td>89 ± 2</td>\n",
       "      <td>3 ± 1</td>\n",
       "      <td>5 ± 1</td>\n",
       "      <td>2 ± 1</td>\n",
       "      <td>1 ± 0</td>\n",
       "    </tr>\n",
       "    <tr>\n",
       "      <th>Säkerhetstjänster</th>\n",
       "      <td>115</td>\n",
       "      <td>88 ± 6</td>\n",
       "      <td>..</td>\n",
       "      <td>8 ± 5</td>\n",
       "      <td>..</td>\n",
       "      <td>..</td>\n",
       "    </tr>\n",
       "    <tr>\n",
       "      <th>Teknik och tillverkning</th>\n",
       "      <td>2346</td>\n",
       "      <td>87 ± 2</td>\n",
       "      <td>3 ± 1</td>\n",
       "      <td>4 ± 1</td>\n",
       "      <td>4 ± 1</td>\n",
       "      <td>1 ± 0</td>\n",
       "    </tr>\n",
       "    <tr>\n",
       "      <th>Transporttjänster</th>\n",
       "      <td>482</td>\n",
       "      <td>87 ± 4</td>\n",
       "      <td>3 ± 1</td>\n",
       "      <td>5 ± 2</td>\n",
       "      <td>4 ± 2</td>\n",
       "      <td>..</td>\n",
       "    </tr>\n",
       "    <tr>\n",
       "      <th>Övrigt</th>\n",
       "      <td>66</td>\n",
       "      <td>62 ± 13</td>\n",
       "      <td>7 ± 4</td>\n",
       "      <td>14 ± 10</td>\n",
       "      <td>12 ± 10</td>\n",
       "      <td>..</td>\n",
       "    </tr>\n",
       "  </tbody>\n",
       "</table>\n",
       "</div>"
      ],
      "text/plain": [
       "                                             Antal Anställd  \\\n",
       "Unnamed: 0                                                    \n",
       "Data/It                                       2223   88 ± 2   \n",
       "Ekonomi, administration och försäljning       5307   91 ± 1   \n",
       "Friskvård och kroppsvård                       125       ..   \n",
       "Hotell, restaurang och turism                  888   78 ± 4   \n",
       "Hälso- och sjukvård samt socialt arbete       2976   91 ± 1   \n",
       "Journalistik och information                   299   76 ± 6   \n",
       "Juridik                                        156   90 ± 7   \n",
       "Kultur, media och design                       983   75 ± 4   \n",
       "Lantbruk, djurvård, trädgård, skog och fiske   448   68 ± 5   \n",
       "Pedagogik och undervisning                     463   84 ± 4   \n",
       "Samhällsbyggnad och byggteknik                2610   89 ± 2   \n",
       "Säkerhetstjänster                              115   88 ± 6   \n",
       "Teknik och tillverkning                       2346   87 ± 2   \n",
       "Transporttjänster                              482   87 ± 4   \n",
       "Övrigt                                          66  62 ± 13   \n",
       "\n",
       "                                             Egen företagare/ anställd i eget AB  \\\n",
       "Unnamed: 0                                                                         \n",
       "Data/It                                                                    1 ± 1   \n",
       "Ekonomi, administration och försäljning                                    2 ± 1   \n",
       "Friskvård och kroppsvård                                                      ..   \n",
       "Hotell, restaurang och turism                                              5 ± 2   \n",
       "Hälso- och sjukvård samt socialt arbete                                    2 ± 1   \n",
       "Journalistik och information                                               5 ± 3   \n",
       "Juridik                                                                       ..   \n",
       "Kultur, media och design                                                   9 ± 2   \n",
       "Lantbruk, djurvård, trädgård, skog och fiske                              26 ± 5   \n",
       "Pedagogik och undervisning                                                 6 ± 2   \n",
       "Samhällsbyggnad och byggteknik                                             3 ± 1   \n",
       "Säkerhetstjänster                                                             ..   \n",
       "Teknik och tillverkning                                                    3 ± 1   \n",
       "Transporttjänster                                                          3 ± 1   \n",
       "Övrigt                                                                     7 ± 4   \n",
       "\n",
       "                                             Arbetssökande/ arbetsmarknads-politisk åtgärd*  \\\n",
       "Unnamed: 0                                                                                    \n",
       "Data/It                                                                               6 ± 1   \n",
       "Ekonomi, administration och försäljning                                               3 ± 1   \n",
       "Friskvård och kroppsvård                                                                 ..   \n",
       "Hotell, restaurang och turism                                                         8 ± 3   \n",
       "Hälso- och sjukvård samt socialt arbete                                               2 ± 1   \n",
       "Journalistik och information                                                         11 ± 4   \n",
       "Juridik                                                                                  ..   \n",
       "Kultur, media och design                                                              7 ± 2   \n",
       "Lantbruk, djurvård, trädgård, skog och fiske                                          1 ± 1   \n",
       "Pedagogik och undervisning                                                            6 ± 2   \n",
       "Samhällsbyggnad och byggteknik                                                        5 ± 1   \n",
       "Säkerhetstjänster                                                                     8 ± 5   \n",
       "Teknik och tillverkning                                                               4 ± 1   \n",
       "Transporttjänster                                                                     5 ± 2   \n",
       "Övrigt                                                                              14 ± 10   \n",
       "\n",
       "                                             Studerande  Annat  \n",
       "Unnamed: 0                                                      \n",
       "Data/It                                           3 ± 1  1 ± 0  \n",
       "Ekonomi, administration och försäljning           2 ± 0  1 ± 0  \n",
       "Friskvård och kroppsvård                             ..     ..  \n",
       "Hotell, restaurang och turism                     6 ± 2  3 ± 1  \n",
       "Hälso- och sjukvård samt socialt arbete           3 ± 1  2 ± 1  \n",
       "Journalistik och information                      7 ± 4     ..  \n",
       "Juridik                                           6 ± 5     ..  \n",
       "Kultur, media och design                          6 ± 2  2 ± 1  \n",
       "Lantbruk, djurvård, trädgård, skog och fiske      3 ± 2  2 ± 1  \n",
       "Pedagogik och undervisning                        4 ± 2     ..  \n",
       "Samhällsbyggnad och byggteknik                    2 ± 1  1 ± 0  \n",
       "Säkerhetstjänster                                    ..     ..  \n",
       "Teknik och tillverkning                           4 ± 1  1 ± 0  \n",
       "Transporttjänster                                 4 ± 2     ..  \n",
       "Övrigt                                          12 ± 10     ..  "
      ]
     },
     "execution_count": 35,
     "metadata": {},
     "output_type": "execute_result"
    }
   ],
   "source": [
    "utbildningsomrade = df_after.index[17:32]\n",
    "df_after_clean = df_after.loc[utbildningsomrade]\n",
    "\n",
    "utbildningsomrade_before = df_before.index[17:32]\n",
    "df_before_clean = df_before.loc[utbildningsomrade_before]\n",
    "\n",
    "df_after_clean"
   ]
  },
  {
   "cell_type": "code",
   "execution_count": 39,
   "id": "43773d8a",
   "metadata": {},
   "outputs": [
    {
     "data": {
      "application/vnd.plotly.v1+json": {
       "config": {
        "plotlyServerURL": "https://plot.ly"
       },
       "data": [
        {
         "marker": {
          "color": "lightblue"
         },
         "name": "Före utbildning",
         "type": "bar",
         "x": [
          "Data/It",
          "Ekonomi, administration och försäljning",
          "Friskvård och kroppsvård",
          "Hotell, restaurang och turism",
          "Hälso- och sjukvård samt socialt arbete",
          "Journalistik och information",
          "Juridik",
          "Kultur, media och design",
          "Lantbruk, djurvård, trädgård, skog och fiske",
          "Pedagogik och undervisning",
          "Samhällsbyggnad och byggteknik",
          "Säkerhetstjänster",
          "Teknik och tillverkning",
          "Transporttjänster",
          "Övrigt"
         ],
         "y": {
          "bdata": "AAAAAACATkAAAAAAAABTQAAAAAAAAAAAAAAAAABAUkAAAAAAAIBUQAAAAAAAgE9AAAAAAABAUkAAAAAAAABJQAAAAAAAQFJAAAAAAABAUkAAAAAAAABTQAAAAAAAAFdAAAAAAABAUEAAAAAAAEBTQAAAAAAAgExA",
          "dtype": "f8"
         }
        },
        {
         "marker": {
          "color": "darkblue"
         },
         "name": "Efter utbildning",
         "type": "bar",
         "x": [
          "Data/It",
          "Ekonomi, administration och försäljning",
          "Friskvård och kroppsvård",
          "Hotell, restaurang och turism",
          "Hälso- och sjukvård samt socialt arbete",
          "Journalistik och information",
          "Juridik",
          "Kultur, media och design",
          "Lantbruk, djurvård, trädgård, skog och fiske",
          "Pedagogik och undervisning",
          "Samhällsbyggnad och byggteknik",
          "Säkerhetstjänster",
          "Teknik och tillverkning",
          "Transporttjänster",
          "Övrigt"
         ],
         "y": {
          "bdata": "AAAAAAAAVkAAAAAAAMBWQAAAAAAAAAAAAAAAAACAU0AAAAAAAMBWQAAAAAAAAFNAAAAAAACAVkAAAAAAAMBSQAAAAAAAAFFAAAAAAAAAVUAAAAAAAEBWQAAAAAAAAFZAAAAAAADAVUAAAAAAAMBVQAAAAAAAAE9A",
          "dtype": "f8"
         }
        }
       ],
       "layout": {
        "barmode": "group",
        "height": 600,
        "template": {
         "data": {
          "bar": [
           {
            "error_x": {
             "color": "#2a3f5f"
            },
            "error_y": {
             "color": "#2a3f5f"
            },
            "marker": {
             "line": {
              "color": "#E5ECF6",
              "width": 0.5
             },
             "pattern": {
              "fillmode": "overlay",
              "size": 10,
              "solidity": 0.2
             }
            },
            "type": "bar"
           }
          ],
          "barpolar": [
           {
            "marker": {
             "line": {
              "color": "#E5ECF6",
              "width": 0.5
             },
             "pattern": {
              "fillmode": "overlay",
              "size": 10,
              "solidity": 0.2
             }
            },
            "type": "barpolar"
           }
          ],
          "carpet": [
           {
            "aaxis": {
             "endlinecolor": "#2a3f5f",
             "gridcolor": "white",
             "linecolor": "white",
             "minorgridcolor": "white",
             "startlinecolor": "#2a3f5f"
            },
            "baxis": {
             "endlinecolor": "#2a3f5f",
             "gridcolor": "white",
             "linecolor": "white",
             "minorgridcolor": "white",
             "startlinecolor": "#2a3f5f"
            },
            "type": "carpet"
           }
          ],
          "choropleth": [
           {
            "colorbar": {
             "outlinewidth": 0,
             "ticks": ""
            },
            "type": "choropleth"
           }
          ],
          "contour": [
           {
            "colorbar": {
             "outlinewidth": 0,
             "ticks": ""
            },
            "colorscale": [
             [
              0,
              "#0d0887"
             ],
             [
              0.1111111111111111,
              "#46039f"
             ],
             [
              0.2222222222222222,
              "#7201a8"
             ],
             [
              0.3333333333333333,
              "#9c179e"
             ],
             [
              0.4444444444444444,
              "#bd3786"
             ],
             [
              0.5555555555555556,
              "#d8576b"
             ],
             [
              0.6666666666666666,
              "#ed7953"
             ],
             [
              0.7777777777777778,
              "#fb9f3a"
             ],
             [
              0.8888888888888888,
              "#fdca26"
             ],
             [
              1,
              "#f0f921"
             ]
            ],
            "type": "contour"
           }
          ],
          "contourcarpet": [
           {
            "colorbar": {
             "outlinewidth": 0,
             "ticks": ""
            },
            "type": "contourcarpet"
           }
          ],
          "heatmap": [
           {
            "colorbar": {
             "outlinewidth": 0,
             "ticks": ""
            },
            "colorscale": [
             [
              0,
              "#0d0887"
             ],
             [
              0.1111111111111111,
              "#46039f"
             ],
             [
              0.2222222222222222,
              "#7201a8"
             ],
             [
              0.3333333333333333,
              "#9c179e"
             ],
             [
              0.4444444444444444,
              "#bd3786"
             ],
             [
              0.5555555555555556,
              "#d8576b"
             ],
             [
              0.6666666666666666,
              "#ed7953"
             ],
             [
              0.7777777777777778,
              "#fb9f3a"
             ],
             [
              0.8888888888888888,
              "#fdca26"
             ],
             [
              1,
              "#f0f921"
             ]
            ],
            "type": "heatmap"
           }
          ],
          "histogram": [
           {
            "marker": {
             "pattern": {
              "fillmode": "overlay",
              "size": 10,
              "solidity": 0.2
             }
            },
            "type": "histogram"
           }
          ],
          "histogram2d": [
           {
            "colorbar": {
             "outlinewidth": 0,
             "ticks": ""
            },
            "colorscale": [
             [
              0,
              "#0d0887"
             ],
             [
              0.1111111111111111,
              "#46039f"
             ],
             [
              0.2222222222222222,
              "#7201a8"
             ],
             [
              0.3333333333333333,
              "#9c179e"
             ],
             [
              0.4444444444444444,
              "#bd3786"
             ],
             [
              0.5555555555555556,
              "#d8576b"
             ],
             [
              0.6666666666666666,
              "#ed7953"
             ],
             [
              0.7777777777777778,
              "#fb9f3a"
             ],
             [
              0.8888888888888888,
              "#fdca26"
             ],
             [
              1,
              "#f0f921"
             ]
            ],
            "type": "histogram2d"
           }
          ],
          "histogram2dcontour": [
           {
            "colorbar": {
             "outlinewidth": 0,
             "ticks": ""
            },
            "colorscale": [
             [
              0,
              "#0d0887"
             ],
             [
              0.1111111111111111,
              "#46039f"
             ],
             [
              0.2222222222222222,
              "#7201a8"
             ],
             [
              0.3333333333333333,
              "#9c179e"
             ],
             [
              0.4444444444444444,
              "#bd3786"
             ],
             [
              0.5555555555555556,
              "#d8576b"
             ],
             [
              0.6666666666666666,
              "#ed7953"
             ],
             [
              0.7777777777777778,
              "#fb9f3a"
             ],
             [
              0.8888888888888888,
              "#fdca26"
             ],
             [
              1,
              "#f0f921"
             ]
            ],
            "type": "histogram2dcontour"
           }
          ],
          "mesh3d": [
           {
            "colorbar": {
             "outlinewidth": 0,
             "ticks": ""
            },
            "type": "mesh3d"
           }
          ],
          "parcoords": [
           {
            "line": {
             "colorbar": {
              "outlinewidth": 0,
              "ticks": ""
             }
            },
            "type": "parcoords"
           }
          ],
          "pie": [
           {
            "automargin": true,
            "type": "pie"
           }
          ],
          "scatter": [
           {
            "fillpattern": {
             "fillmode": "overlay",
             "size": 10,
             "solidity": 0.2
            },
            "type": "scatter"
           }
          ],
          "scatter3d": [
           {
            "line": {
             "colorbar": {
              "outlinewidth": 0,
              "ticks": ""
             }
            },
            "marker": {
             "colorbar": {
              "outlinewidth": 0,
              "ticks": ""
             }
            },
            "type": "scatter3d"
           }
          ],
          "scattercarpet": [
           {
            "marker": {
             "colorbar": {
              "outlinewidth": 0,
              "ticks": ""
             }
            },
            "type": "scattercarpet"
           }
          ],
          "scattergeo": [
           {
            "marker": {
             "colorbar": {
              "outlinewidth": 0,
              "ticks": ""
             }
            },
            "type": "scattergeo"
           }
          ],
          "scattergl": [
           {
            "marker": {
             "colorbar": {
              "outlinewidth": 0,
              "ticks": ""
             }
            },
            "type": "scattergl"
           }
          ],
          "scattermap": [
           {
            "marker": {
             "colorbar": {
              "outlinewidth": 0,
              "ticks": ""
             }
            },
            "type": "scattermap"
           }
          ],
          "scattermapbox": [
           {
            "marker": {
             "colorbar": {
              "outlinewidth": 0,
              "ticks": ""
             }
            },
            "type": "scattermapbox"
           }
          ],
          "scatterpolar": [
           {
            "marker": {
             "colorbar": {
              "outlinewidth": 0,
              "ticks": ""
             }
            },
            "type": "scatterpolar"
           }
          ],
          "scatterpolargl": [
           {
            "marker": {
             "colorbar": {
              "outlinewidth": 0,
              "ticks": ""
             }
            },
            "type": "scatterpolargl"
           }
          ],
          "scatterternary": [
           {
            "marker": {
             "colorbar": {
              "outlinewidth": 0,
              "ticks": ""
             }
            },
            "type": "scatterternary"
           }
          ],
          "surface": [
           {
            "colorbar": {
             "outlinewidth": 0,
             "ticks": ""
            },
            "colorscale": [
             [
              0,
              "#0d0887"
             ],
             [
              0.1111111111111111,
              "#46039f"
             ],
             [
              0.2222222222222222,
              "#7201a8"
             ],
             [
              0.3333333333333333,
              "#9c179e"
             ],
             [
              0.4444444444444444,
              "#bd3786"
             ],
             [
              0.5555555555555556,
              "#d8576b"
             ],
             [
              0.6666666666666666,
              "#ed7953"
             ],
             [
              0.7777777777777778,
              "#fb9f3a"
             ],
             [
              0.8888888888888888,
              "#fdca26"
             ],
             [
              1,
              "#f0f921"
             ]
            ],
            "type": "surface"
           }
          ],
          "table": [
           {
            "cells": {
             "fill": {
              "color": "#EBF0F8"
             },
             "line": {
              "color": "white"
             }
            },
            "header": {
             "fill": {
              "color": "#C8D4E3"
             },
             "line": {
              "color": "white"
             }
            },
            "type": "table"
           }
          ]
         },
         "layout": {
          "annotationdefaults": {
           "arrowcolor": "#2a3f5f",
           "arrowhead": 0,
           "arrowwidth": 1
          },
          "autotypenumbers": "strict",
          "coloraxis": {
           "colorbar": {
            "outlinewidth": 0,
            "ticks": ""
           }
          },
          "colorscale": {
           "diverging": [
            [
             0,
             "#8e0152"
            ],
            [
             0.1,
             "#c51b7d"
            ],
            [
             0.2,
             "#de77ae"
            ],
            [
             0.3,
             "#f1b6da"
            ],
            [
             0.4,
             "#fde0ef"
            ],
            [
             0.5,
             "#f7f7f7"
            ],
            [
             0.6,
             "#e6f5d0"
            ],
            [
             0.7,
             "#b8e186"
            ],
            [
             0.8,
             "#7fbc41"
            ],
            [
             0.9,
             "#4d9221"
            ],
            [
             1,
             "#276419"
            ]
           ],
           "sequential": [
            [
             0,
             "#0d0887"
            ],
            [
             0.1111111111111111,
             "#46039f"
            ],
            [
             0.2222222222222222,
             "#7201a8"
            ],
            [
             0.3333333333333333,
             "#9c179e"
            ],
            [
             0.4444444444444444,
             "#bd3786"
            ],
            [
             0.5555555555555556,
             "#d8576b"
            ],
            [
             0.6666666666666666,
             "#ed7953"
            ],
            [
             0.7777777777777778,
             "#fb9f3a"
            ],
            [
             0.8888888888888888,
             "#fdca26"
            ],
            [
             1,
             "#f0f921"
            ]
           ],
           "sequentialminus": [
            [
             0,
             "#0d0887"
            ],
            [
             0.1111111111111111,
             "#46039f"
            ],
            [
             0.2222222222222222,
             "#7201a8"
            ],
            [
             0.3333333333333333,
             "#9c179e"
            ],
            [
             0.4444444444444444,
             "#bd3786"
            ],
            [
             0.5555555555555556,
             "#d8576b"
            ],
            [
             0.6666666666666666,
             "#ed7953"
            ],
            [
             0.7777777777777778,
             "#fb9f3a"
            ],
            [
             0.8888888888888888,
             "#fdca26"
            ],
            [
             1,
             "#f0f921"
            ]
           ]
          },
          "colorway": [
           "#636efa",
           "#EF553B",
           "#00cc96",
           "#ab63fa",
           "#FFA15A",
           "#19d3f3",
           "#FF6692",
           "#B6E880",
           "#FF97FF",
           "#FECB52"
          ],
          "font": {
           "color": "#2a3f5f"
          },
          "geo": {
           "bgcolor": "white",
           "lakecolor": "white",
           "landcolor": "#E5ECF6",
           "showlakes": true,
           "showland": true,
           "subunitcolor": "white"
          },
          "hoverlabel": {
           "align": "left"
          },
          "hovermode": "closest",
          "mapbox": {
           "style": "light"
          },
          "paper_bgcolor": "white",
          "plot_bgcolor": "#E5ECF6",
          "polar": {
           "angularaxis": {
            "gridcolor": "white",
            "linecolor": "white",
            "ticks": ""
           },
           "bgcolor": "#E5ECF6",
           "radialaxis": {
            "gridcolor": "white",
            "linecolor": "white",
            "ticks": ""
           }
          },
          "scene": {
           "xaxis": {
            "backgroundcolor": "#E5ECF6",
            "gridcolor": "white",
            "gridwidth": 2,
            "linecolor": "white",
            "showbackground": true,
            "ticks": "",
            "zerolinecolor": "white"
           },
           "yaxis": {
            "backgroundcolor": "#E5ECF6",
            "gridcolor": "white",
            "gridwidth": 2,
            "linecolor": "white",
            "showbackground": true,
            "ticks": "",
            "zerolinecolor": "white"
           },
           "zaxis": {
            "backgroundcolor": "#E5ECF6",
            "gridcolor": "white",
            "gridwidth": 2,
            "linecolor": "white",
            "showbackground": true,
            "ticks": "",
            "zerolinecolor": "white"
           }
          },
          "shapedefaults": {
           "line": {
            "color": "#2a3f5f"
           }
          },
          "ternary": {
           "aaxis": {
            "gridcolor": "white",
            "linecolor": "white",
            "ticks": ""
           },
           "baxis": {
            "gridcolor": "white",
            "linecolor": "white",
            "ticks": ""
           },
           "bgcolor": "#E5ECF6",
           "caxis": {
            "gridcolor": "white",
            "linecolor": "white",
            "ticks": ""
           }
          },
          "title": {
           "x": 0.05
          },
          "xaxis": {
           "automargin": true,
           "gridcolor": "white",
           "linecolor": "white",
           "ticks": "",
           "title": {
            "standoff": 15
           },
           "zerolinecolor": "white",
           "zerolinewidth": 2
          },
          "yaxis": {
           "automargin": true,
           "gridcolor": "white",
           "linecolor": "white",
           "ticks": "",
           "title": {
            "standoff": 15
           },
           "zerolinecolor": "white",
           "zerolinewidth": 2
          }
         }
        },
        "title": {
         "text": "Andel anställda före och efter YH-utbildning per utbildningsområde"
        },
        "xaxis": {
         "tickangle": -45,
         "title": {
          "text": "Utbildningsområde"
         }
        },
        "yaxis": {
         "title": {
          "text": "Andel anställda (%)"
         }
        }
       }
      }
     },
     "metadata": {},
     "output_type": "display_data"
    }
   ],
   "source": [
    "import plotly.graph_objects as go\n",
    "\n",
    "anstallda_before = df_before_clean['Anställd'].replace('..', '0').str.split('±').str[0].astype(float)\n",
    "anstallda_after = df_after_clean['Anställd'].replace('..', '0').str.split('±').str[0].astype(float) \n",
    "\n",
    "utbildningsomrade = df_after_clean.index\n",
    "fig = go.Figure(data=[ \n",
    "    go.Bar(name='Före utbildning', x=utbildningsomrade, y=anstallda_before, marker_color='lightblue'), \n",
    "    go.Bar(name='Efter utbildning', x=utbildningsomrade, y=anstallda_after, marker_color='darkblue')\n",
    "])\n",
    "\n",
    "fig.update_layout(\n",
    "    title='Andel anställda före och efter YH-utbildning per utbildningsområde', \n",
    "    xaxis_title='Utbildningsområde',\n",
    "    yaxis_title='Andel anställda (%)', \n",
    "    barmode='group',\n",
    "    xaxis_tickangle=-45,\n",
    "    height=600\n",
    ")\n",
    "\n",
    "fig.show()\n",
    "fig.write_html(\"anställning_fore_efter_olika_utb.html\")\n"
   ]
  },
  {
   "cell_type": "code",
   "execution_count": null,
   "id": "13b31a7a",
   "metadata": {},
   "outputs": [
    {
     "data": {
      "text/html": [
       "<div>\n",
       "<style scoped>\n",
       "    .dataframe tbody tr th:only-of-type {\n",
       "        vertical-align: middle;\n",
       "    }\n",
       "\n",
       "    .dataframe tbody tr th {\n",
       "        vertical-align: top;\n",
       "    }\n",
       "\n",
       "    .dataframe thead th {\n",
       "        text-align: right;\n",
       "    }\n",
       "</style>\n",
       "<table border=\"1\" class=\"dataframe\">\n",
       "  <thead>\n",
       "    <tr style=\"text-align: right;\">\n",
       "      <th></th>\n",
       "      <th>Utbildningsområde</th>\n",
       "      <th>Anställda före</th>\n",
       "      <th>Anställda efter</th>\n",
       "      <th>Skillnad</th>\n",
       "    </tr>\n",
       "    <tr>\n",
       "      <th>Unnamed: 0</th>\n",
       "      <th></th>\n",
       "      <th></th>\n",
       "      <th></th>\n",
       "      <th></th>\n",
       "    </tr>\n",
       "  </thead>\n",
       "  <tbody>\n",
       "    <tr>\n",
       "      <th>Data/It</th>\n",
       "      <td>Data/It</td>\n",
       "      <td>61.0</td>\n",
       "      <td>88.0</td>\n",
       "      <td>27.0</td>\n",
       "    </tr>\n",
       "    <tr>\n",
       "      <th>Kultur, media och design</th>\n",
       "      <td>Kultur, media och design</td>\n",
       "      <td>50.0</td>\n",
       "      <td>75.0</td>\n",
       "      <td>25.0</td>\n",
       "    </tr>\n",
       "    <tr>\n",
       "      <th>Teknik och tillverkning</th>\n",
       "      <td>Teknik och tillverkning</td>\n",
       "      <td>65.0</td>\n",
       "      <td>87.0</td>\n",
       "      <td>22.0</td>\n",
       "    </tr>\n",
       "    <tr>\n",
       "      <th>Juridik</th>\n",
       "      <td>Juridik</td>\n",
       "      <td>73.0</td>\n",
       "      <td>90.0</td>\n",
       "      <td>17.0</td>\n",
       "    </tr>\n",
       "    <tr>\n",
       "      <th>Ekonomi, administration och försäljning</th>\n",
       "      <td>Ekonomi, administration och försäljning</td>\n",
       "      <td>76.0</td>\n",
       "      <td>91.0</td>\n",
       "      <td>15.0</td>\n",
       "    </tr>\n",
       "  </tbody>\n",
       "</table>\n",
       "</div>"
      ],
      "text/plain": [
       "                                                               Utbildningsområde  \\\n",
       "Unnamed: 0                                                                         \n",
       "Data/It                                                                  Data/It   \n",
       "Kultur, media och design                                Kultur, media och design   \n",
       "Teknik och tillverkning                                  Teknik och tillverkning   \n",
       "Juridik                                                                  Juridik   \n",
       "Ekonomi, administration och försäljning  Ekonomi, administration och försäljning   \n",
       "\n",
       "                                         Anställda före  Anställda efter  \\\n",
       "Unnamed: 0                                                                 \n",
       "Data/It                                            61.0             88.0   \n",
       "Kultur, media och design                           50.0             75.0   \n",
       "Teknik och tillverkning                            65.0             87.0   \n",
       "Juridik                                            73.0             90.0   \n",
       "Ekonomi, administration och försäljning            76.0             91.0   \n",
       "\n",
       "                                         Skillnad  \n",
       "Unnamed: 0                                         \n",
       "Data/It                                      27.0  \n",
       "Kultur, media och design                     25.0  \n",
       "Teknik och tillverkning                      22.0  \n",
       "Juridik                                      17.0  \n",
       "Ekonomi, administration och försäljning      15.0  "
      ]
     },
     "execution_count": 33,
     "metadata": {},
     "output_type": "execute_result"
    }
   ],
   "source": [
    "df_diff = pd.DataFrame({\n",
    "    'Utbildningsområde': df_after_clean.index,\n",
    "    'Anställda före': anstallda_before,\n",
    "    'Anställda efter': anstallda_after\n",
    "})\n",
    "\n",
    "df_diff['Skillnad'] = df_diff['Anställda efter'] - df_diff['Anställda före']\n",
    "\n",
    "df_diff_sorted = df_diff.sort_values(by='Skillnad', ascending=False) \n",
    "top_5 = df_diff_sorted.head(5)\n",
    "\n",
    "top_5"
   ]
  },
  {
   "cell_type": "code",
   "execution_count": 37,
   "id": "8c982fb5",
   "metadata": {},
   "outputs": [
    {
     "data": {
      "image/png": "[encoded data removed]",
      "text/plain": [
       "<Figure size 1200x600 with 1 Axes>"
      ]
     },
     "metadata": {},
     "output_type": "display_data"
    }
   ],
   "source": [
    "import matplotlib.pyplot as plt\n",
    "\n",
    "fig, ax = plt.subplots(figsize = (12,6)) \n",
    "\n",
    "ax.bar( \n",
    "    x= top_5[\"Utbildningsområde\"],\n",
    "    height= top_5[\"Skillnad\"],\n",
    "    width=0.8\n",
    ")\n",
    "\n",
    "ax.set( \n",
    "    title= \"Top 5 utbildningsområden som leder till jobb\", \n",
    "    xlabel= \"Utbildningsområde\", \n",
    "    ylabel= \"Skillnad i procent från före till efter avslutad utbildning\")\n",
    "\n",
    "\n",
    "\n",
    "fig.tight_layout()\n",
    "fig.savefig(\"top5_utbildningar.png\")"
   ]
  },
  {
   "cell_type": "markdown",
   "id": "feab10d2",
   "metadata": {},
   "source": [
    "### 2. EDA regarding satisfaction with education, grouped by educational area"
   ]
  },
  {
   "cell_type": "code",
   "execution_count": 61,
   "id": "af779412",
   "metadata": {},
   "outputs": [
    {
     "data": {
      "text/html": [
       "<div>\n",
       "<style scoped>\n",
       "    .dataframe tbody tr th:only-of-type {\n",
       "        vertical-align: middle;\n",
       "    }\n",
       "\n",
       "    .dataframe tbody tr th {\n",
       "        vertical-align: top;\n",
       "    }\n",
       "\n",
       "    .dataframe thead th {\n",
       "        text-align: right;\n",
       "    }\n",
       "</style>\n",
       "<table border=\"1\" class=\"dataframe\">\n",
       "  <thead>\n",
       "    <tr style=\"text-align: right;\">\n",
       "      <th></th>\n",
       "      <th>Antal</th>\n",
       "      <th>Mycket nöjd</th>\n",
       "      <th>Ganska nöjd</th>\n",
       "      <th>Ganska missnöjd</th>\n",
       "      <th>Mycket missnöjd</th>\n",
       "    </tr>\n",
       "    <tr>\n",
       "      <th>Unnamed: 0</th>\n",
       "      <th></th>\n",
       "      <th></th>\n",
       "      <th></th>\n",
       "      <th></th>\n",
       "      <th></th>\n",
       "    </tr>\n",
       "  </thead>\n",
       "  <tbody>\n",
       "    <tr>\n",
       "      <th>Data/It</th>\n",
       "      <td>2223</td>\n",
       "      <td>43 ± 3</td>\n",
       "      <td>42 ± 3</td>\n",
       "      <td>10 ± 2</td>\n",
       "      <td>5 ± 1</td>\n",
       "    </tr>\n",
       "    <tr>\n",
       "      <th>Ekonomi, administration och försäljning</th>\n",
       "      <td>5307</td>\n",
       "      <td>50 ± 2</td>\n",
       "      <td>41 ± 2</td>\n",
       "      <td>7 ± 1</td>\n",
       "      <td>2 ± 0</td>\n",
       "    </tr>\n",
       "    <tr>\n",
       "      <th>Friskvård och kroppsvård</th>\n",
       "      <td>125</td>\n",
       "      <td>..</td>\n",
       "      <td>..</td>\n",
       "      <td>..</td>\n",
       "      <td>..</td>\n",
       "    </tr>\n",
       "    <tr>\n",
       "      <th>Hotell, restaurang och turism</th>\n",
       "      <td>888</td>\n",
       "      <td>43 ± 5</td>\n",
       "      <td>44 ± 5</td>\n",
       "      <td>9 ± 3</td>\n",
       "      <td>2 ± 1</td>\n",
       "    </tr>\n",
       "    <tr>\n",
       "      <th>Hälso- och sjukvård samt socialt arbete</th>\n",
       "      <td>2976</td>\n",
       "      <td>60 ± 2</td>\n",
       "      <td>34 ± 2</td>\n",
       "      <td>4 ± 1</td>\n",
       "      <td>1 ± 1</td>\n",
       "    </tr>\n",
       "    <tr>\n",
       "      <th>Journalistik och information</th>\n",
       "      <td>299</td>\n",
       "      <td>35 ± 6</td>\n",
       "      <td>51 ± 7</td>\n",
       "      <td>13 ± 5</td>\n",
       "      <td>..</td>\n",
       "    </tr>\n",
       "    <tr>\n",
       "      <th>Juridik</th>\n",
       "      <td>156</td>\n",
       "      <td>33 ± 10</td>\n",
       "      <td>52 ± 11</td>\n",
       "      <td>10 ± 7</td>\n",
       "      <td>6 ± 5</td>\n",
       "    </tr>\n",
       "    <tr>\n",
       "      <th>Kultur, media och design</th>\n",
       "      <td>983</td>\n",
       "      <td>49 ± 4</td>\n",
       "      <td>38 ± 4</td>\n",
       "      <td>8 ± 2</td>\n",
       "      <td>5 ± 2</td>\n",
       "    </tr>\n",
       "    <tr>\n",
       "      <th>Lantbruk, djurvård, trädgård, skog och fiske</th>\n",
       "      <td>448</td>\n",
       "      <td>43 ± 5</td>\n",
       "      <td>46 ± 6</td>\n",
       "      <td>7 ± 3</td>\n",
       "      <td>4 ± 2</td>\n",
       "    </tr>\n",
       "    <tr>\n",
       "      <th>Pedagogik och undervisning</th>\n",
       "      <td>463</td>\n",
       "      <td>49 ± 5</td>\n",
       "      <td>37 ± 5</td>\n",
       "      <td>7 ± 3</td>\n",
       "      <td>6 ± 2</td>\n",
       "    </tr>\n",
       "    <tr>\n",
       "      <th>Samhällsbyggnad och byggteknik</th>\n",
       "      <td>2610</td>\n",
       "      <td>41 ± 3</td>\n",
       "      <td>46 ± 3</td>\n",
       "      <td>8 ± 1</td>\n",
       "      <td>4 ± 1</td>\n",
       "    </tr>\n",
       "    <tr>\n",
       "      <th>Säkerhetstjänster</th>\n",
       "      <td>115</td>\n",
       "      <td>34 ± 8</td>\n",
       "      <td>53 ± 9</td>\n",
       "      <td>9 ± 5</td>\n",
       "      <td>..</td>\n",
       "    </tr>\n",
       "    <tr>\n",
       "      <th>Teknik och tillverkning</th>\n",
       "      <td>2346</td>\n",
       "      <td>43 ± 3</td>\n",
       "      <td>42 ± 3</td>\n",
       "      <td>10 ± 2</td>\n",
       "      <td>4 ± 1</td>\n",
       "    </tr>\n",
       "    <tr>\n",
       "      <th>Transporttjänster</th>\n",
       "      <td>482</td>\n",
       "      <td>47 ± 5</td>\n",
       "      <td>44 ± 5</td>\n",
       "      <td>7 ± 2</td>\n",
       "      <td>2 ± 1</td>\n",
       "    </tr>\n",
       "    <tr>\n",
       "      <th>Övrigt</th>\n",
       "      <td>66</td>\n",
       "      <td>53 ± 14</td>\n",
       "      <td>40 ± 13</td>\n",
       "      <td>..</td>\n",
       "      <td>..</td>\n",
       "    </tr>\n",
       "  </tbody>\n",
       "</table>\n",
       "</div>"
      ],
      "text/plain": [
       "                                             Antal Mycket nöjd Ganska nöjd  \\\n",
       "Unnamed: 0                                                                   \n",
       "Data/It                                       2223      43 ± 3      42 ± 3   \n",
       "Ekonomi, administration och försäljning       5307      50 ± 2      41 ± 2   \n",
       "Friskvård och kroppsvård                       125          ..          ..   \n",
       "Hotell, restaurang och turism                  888      43 ± 5      44 ± 5   \n",
       "Hälso- och sjukvård samt socialt arbete       2976      60 ± 2      34 ± 2   \n",
       "Journalistik och information                   299      35 ± 6      51 ± 7   \n",
       "Juridik                                        156     33 ± 10     52 ± 11   \n",
       "Kultur, media och design                       983      49 ± 4      38 ± 4   \n",
       "Lantbruk, djurvård, trädgård, skog och fiske   448      43 ± 5      46 ± 6   \n",
       "Pedagogik och undervisning                     463      49 ± 5      37 ± 5   \n",
       "Samhällsbyggnad och byggteknik                2610      41 ± 3      46 ± 3   \n",
       "Säkerhetstjänster                              115      34 ± 8      53 ± 9   \n",
       "Teknik och tillverkning                       2346      43 ± 3      42 ± 3   \n",
       "Transporttjänster                              482      47 ± 5      44 ± 5   \n",
       "Övrigt                                          66     53 ± 14     40 ± 13   \n",
       "\n",
       "                                             Ganska missnöjd Mycket missnöjd  \n",
       "Unnamed: 0                                                                    \n",
       "Data/It                                               10 ± 2           5 ± 1  \n",
       "Ekonomi, administration och försäljning                7 ± 1           2 ± 0  \n",
       "Friskvård och kroppsvård                                  ..              ..  \n",
       "Hotell, restaurang och turism                          9 ± 3           2 ± 1  \n",
       "Hälso- och sjukvård samt socialt arbete                4 ± 1           1 ± 1  \n",
       "Journalistik och information                          13 ± 5              ..  \n",
       "Juridik                                               10 ± 7           6 ± 5  \n",
       "Kultur, media och design                               8 ± 2           5 ± 2  \n",
       "Lantbruk, djurvård, trädgård, skog och fiske           7 ± 3           4 ± 2  \n",
       "Pedagogik och undervisning                             7 ± 3           6 ± 2  \n",
       "Samhällsbyggnad och byggteknik                         8 ± 1           4 ± 1  \n",
       "Säkerhetstjänster                                      9 ± 5              ..  \n",
       "Teknik och tillverkning                               10 ± 2           4 ± 1  \n",
       "Transporttjänster                                      7 ± 2           2 ± 1  \n",
       "Övrigt                                                    ..              ..  "
      ]
     },
     "execution_count": 61,
     "metadata": {},
     "output_type": "execute_result"
    }
   ],
   "source": [
    "df_satisfaction = pd.read_excel(data_path, \n",
    "                         sheet_name= \"15\", \n",
    "                         skiprows=6,\n",
    "                         usecols=range(6)).set_index(\"Unnamed: 0\").loc[utbildningsomrade]\n",
    "\n",
    "df_satisfaction"
   ]
  },
  {
   "cell_type": "code",
   "execution_count": 62,
   "id": "36691b31",
   "metadata": {},
   "outputs": [
    {
     "data": {
      "text/html": [
       "<div>\n",
       "<style scoped>\n",
       "    .dataframe tbody tr th:only-of-type {\n",
       "        vertical-align: middle;\n",
       "    }\n",
       "\n",
       "    .dataframe tbody tr th {\n",
       "        vertical-align: top;\n",
       "    }\n",
       "\n",
       "    .dataframe thead th {\n",
       "        text-align: right;\n",
       "    }\n",
       "</style>\n",
       "<table border=\"1\" class=\"dataframe\">\n",
       "  <thead>\n",
       "    <tr style=\"text-align: right;\">\n",
       "      <th></th>\n",
       "      <th>Antal</th>\n",
       "      <th>Mycket nöjd</th>\n",
       "      <th>Ganska nöjd</th>\n",
       "      <th>Ganska missnöjd</th>\n",
       "      <th>Mycket missnöjd</th>\n",
       "    </tr>\n",
       "    <tr>\n",
       "      <th>Unnamed: 0</th>\n",
       "      <th></th>\n",
       "      <th></th>\n",
       "      <th></th>\n",
       "      <th></th>\n",
       "      <th></th>\n",
       "    </tr>\n",
       "  </thead>\n",
       "  <tbody>\n",
       "    <tr>\n",
       "      <th>Data/It</th>\n",
       "      <td>2223</td>\n",
       "      <td>43.0</td>\n",
       "      <td>42.0</td>\n",
       "      <td>10.0</td>\n",
       "      <td>5.0</td>\n",
       "    </tr>\n",
       "    <tr>\n",
       "      <th>Ekonomi, administration och försäljning</th>\n",
       "      <td>5307</td>\n",
       "      <td>50.0</td>\n",
       "      <td>41.0</td>\n",
       "      <td>7.0</td>\n",
       "      <td>2.0</td>\n",
       "    </tr>\n",
       "    <tr>\n",
       "      <th>Friskvård och kroppsvård</th>\n",
       "      <td>125</td>\n",
       "      <td>0.0</td>\n",
       "      <td>0.0</td>\n",
       "      <td>0.0</td>\n",
       "      <td>0.0</td>\n",
       "    </tr>\n",
       "    <tr>\n",
       "      <th>Hotell, restaurang och turism</th>\n",
       "      <td>888</td>\n",
       "      <td>43.0</td>\n",
       "      <td>44.0</td>\n",
       "      <td>9.0</td>\n",
       "      <td>2.0</td>\n",
       "    </tr>\n",
       "    <tr>\n",
       "      <th>Hälso- och sjukvård samt socialt arbete</th>\n",
       "      <td>2976</td>\n",
       "      <td>60.0</td>\n",
       "      <td>34.0</td>\n",
       "      <td>4.0</td>\n",
       "      <td>1.0</td>\n",
       "    </tr>\n",
       "    <tr>\n",
       "      <th>Journalistik och information</th>\n",
       "      <td>299</td>\n",
       "      <td>35.0</td>\n",
       "      <td>51.0</td>\n",
       "      <td>13.0</td>\n",
       "      <td>0.0</td>\n",
       "    </tr>\n",
       "    <tr>\n",
       "      <th>Juridik</th>\n",
       "      <td>156</td>\n",
       "      <td>33.0</td>\n",
       "      <td>52.0</td>\n",
       "      <td>10.0</td>\n",
       "      <td>6.0</td>\n",
       "    </tr>\n",
       "    <tr>\n",
       "      <th>Kultur, media och design</th>\n",
       "      <td>983</td>\n",
       "      <td>49.0</td>\n",
       "      <td>38.0</td>\n",
       "      <td>8.0</td>\n",
       "      <td>5.0</td>\n",
       "    </tr>\n",
       "    <tr>\n",
       "      <th>Lantbruk, djurvård, trädgård, skog och fiske</th>\n",
       "      <td>448</td>\n",
       "      <td>43.0</td>\n",
       "      <td>46.0</td>\n",
       "      <td>7.0</td>\n",
       "      <td>4.0</td>\n",
       "    </tr>\n",
       "    <tr>\n",
       "      <th>Pedagogik och undervisning</th>\n",
       "      <td>463</td>\n",
       "      <td>49.0</td>\n",
       "      <td>37.0</td>\n",
       "      <td>7.0</td>\n",
       "      <td>6.0</td>\n",
       "    </tr>\n",
       "    <tr>\n",
       "      <th>Samhällsbyggnad och byggteknik</th>\n",
       "      <td>2610</td>\n",
       "      <td>41.0</td>\n",
       "      <td>46.0</td>\n",
       "      <td>8.0</td>\n",
       "      <td>4.0</td>\n",
       "    </tr>\n",
       "    <tr>\n",
       "      <th>Säkerhetstjänster</th>\n",
       "      <td>115</td>\n",
       "      <td>34.0</td>\n",
       "      <td>53.0</td>\n",
       "      <td>9.0</td>\n",
       "      <td>0.0</td>\n",
       "    </tr>\n",
       "    <tr>\n",
       "      <th>Teknik och tillverkning</th>\n",
       "      <td>2346</td>\n",
       "      <td>43.0</td>\n",
       "      <td>42.0</td>\n",
       "      <td>10.0</td>\n",
       "      <td>4.0</td>\n",
       "    </tr>\n",
       "    <tr>\n",
       "      <th>Transporttjänster</th>\n",
       "      <td>482</td>\n",
       "      <td>47.0</td>\n",
       "      <td>44.0</td>\n",
       "      <td>7.0</td>\n",
       "      <td>2.0</td>\n",
       "    </tr>\n",
       "    <tr>\n",
       "      <th>Övrigt</th>\n",
       "      <td>66</td>\n",
       "      <td>53.0</td>\n",
       "      <td>40.0</td>\n",
       "      <td>0.0</td>\n",
       "      <td>0.0</td>\n",
       "    </tr>\n",
       "  </tbody>\n",
       "</table>\n",
       "</div>"
      ],
      "text/plain": [
       "                                             Antal  Mycket nöjd  Ganska nöjd  \\\n",
       "Unnamed: 0                                                                     \n",
       "Data/It                                       2223         43.0         42.0   \n",
       "Ekonomi, administration och försäljning       5307         50.0         41.0   \n",
       "Friskvård och kroppsvård                       125          0.0          0.0   \n",
       "Hotell, restaurang och turism                  888         43.0         44.0   \n",
       "Hälso- och sjukvård samt socialt arbete       2976         60.0         34.0   \n",
       "Journalistik och information                   299         35.0         51.0   \n",
       "Juridik                                        156         33.0         52.0   \n",
       "Kultur, media och design                       983         49.0         38.0   \n",
       "Lantbruk, djurvård, trädgård, skog och fiske   448         43.0         46.0   \n",
       "Pedagogik och undervisning                     463         49.0         37.0   \n",
       "Samhällsbyggnad och byggteknik                2610         41.0         46.0   \n",
       "Säkerhetstjänster                              115         34.0         53.0   \n",
       "Teknik och tillverkning                       2346         43.0         42.0   \n",
       "Transporttjänster                              482         47.0         44.0   \n",
       "Övrigt                                          66         53.0         40.0   \n",
       "\n",
       "                                              Ganska missnöjd  Mycket missnöjd  \n",
       "Unnamed: 0                                                                      \n",
       "Data/It                                                  10.0              5.0  \n",
       "Ekonomi, administration och försäljning                   7.0              2.0  \n",
       "Friskvård och kroppsvård                                  0.0              0.0  \n",
       "Hotell, restaurang och turism                             9.0              2.0  \n",
       "Hälso- och sjukvård samt socialt arbete                   4.0              1.0  \n",
       "Journalistik och information                             13.0              0.0  \n",
       "Juridik                                                  10.0              6.0  \n",
       "Kultur, media och design                                  8.0              5.0  \n",
       "Lantbruk, djurvård, trädgård, skog och fiske              7.0              4.0  \n",
       "Pedagogik och undervisning                                7.0              6.0  \n",
       "Samhällsbyggnad och byggteknik                            8.0              4.0  \n",
       "Säkerhetstjänster                                         9.0              0.0  \n",
       "Teknik och tillverkning                                  10.0              4.0  \n",
       "Transporttjänster                                         7.0              2.0  \n",
       "Övrigt                                                    0.0              0.0  "
      ]
     },
     "execution_count": 62,
     "metadata": {},
     "output_type": "execute_result"
    }
   ],
   "source": [
    "for col in df_satisfaction.columns[1:]:\n",
    "    df_satisfaction[col] = df_satisfaction[col].replace('..', '0').str.split('±').str[0].astype(float)\n",
    "\n",
    "df_satisfaction"
   ]
  },
  {
   "cell_type": "code",
   "execution_count": 67,
   "id": "bc454ec9",
   "metadata": {},
   "outputs": [
    {
     "data": {
      "application/vnd.plotly.v1+json": {
       "config": {
        "plotlyServerURL": "https://plot.ly"
       },
       "data": [
        {
         "marker": {
          "color": "#2ecc71"
         },
         "name": "Mycket nöjd",
         "orientation": "h",
         "type": "bar",
         "x": {
          "bdata": "AAAAAAAATkAAAAAAAIBKQAAAAAAAAElAAAAAAACASEAAAAAAAIBIQAAAAAAAgEdAAAAAAACARUAAAAAAAIBFQAAAAAAAgEVAAAAAAACARUAAAAAAAIBEQAAAAAAAgEFAAAAAAAAAQUAAAAAAAIBAQAAAAAAAAAAA",
          "dtype": "f8"
         },
         "y": [
          "Hälso- och sjukvård samt socialt arbete",
          "Övrigt",
          "Ekonomi, administration och försäljning",
          "Kultur, media och design",
          "Pedagogik och undervisning",
          "Transporttjänster",
          "Data/It",
          "Teknik och tillverkning",
          "Lantbruk, djurvård, trädgård, skog och fiske",
          "Hotell, restaurang och turism",
          "Samhällsbyggnad och byggteknik",
          "Journalistik och information",
          "Säkerhetstjänster",
          "Juridik",
          "Friskvård och kroppsvård"
         ]
        },
        {
         "marker": {
          "color": "#3498db"
         },
         "name": "Ganska nöjd",
         "orientation": "h",
         "type": "bar",
         "x": {
          "bdata": "AAAAAAAAQUAAAAAAAABEQAAAAAAAgERAAAAAAAAAQ0AAAAAAAIBCQAAAAAAAAEZAAAAAAAAARUAAAAAAAABFQAAAAAAAAEdAAAAAAAAARkAAAAAAAABHQAAAAAAAgElAAAAAAACASkAAAAAAAABKQAAAAAAAAAAA",
          "dtype": "f8"
         },
         "y": [
          "Hälso- och sjukvård samt socialt arbete",
          "Övrigt",
          "Ekonomi, administration och försäljning",
          "Kultur, media och design",
          "Pedagogik och undervisning",
          "Transporttjänster",
          "Data/It",
          "Teknik och tillverkning",
          "Lantbruk, djurvård, trädgård, skog och fiske",
          "Hotell, restaurang och turism",
          "Samhällsbyggnad och byggteknik",
          "Journalistik och information",
          "Säkerhetstjänster",
          "Juridik",
          "Friskvård och kroppsvård"
         ]
        },
        {
         "marker": {
          "color": "#e74c3c"
         },
         "name": "Ganska missnöjd",
         "orientation": "h",
         "type": "bar",
         "x": {
          "bdata": "AAAAAAAAEEAAAAAAAAAAAAAAAAAAABxAAAAAAAAAIEAAAAAAAAAcQAAAAAAAABxAAAAAAAAAJEAAAAAAAAAkQAAAAAAAABxAAAAAAAAAIkAAAAAAAAAgQAAAAAAAACpAAAAAAAAAIkAAAAAAAAAkQAAAAAAAAAAA",
          "dtype": "f8"
         },
         "y": [
          "Hälso- och sjukvård samt socialt arbete",
          "Övrigt",
          "Ekonomi, administration och försäljning",
          "Kultur, media och design",
          "Pedagogik och undervisning",
          "Transporttjänster",
          "Data/It",
          "Teknik och tillverkning",
          "Lantbruk, djurvård, trädgård, skog och fiske",
          "Hotell, restaurang och turism",
          "Samhällsbyggnad och byggteknik",
          "Journalistik och information",
          "Säkerhetstjänster",
          "Juridik",
          "Friskvård och kroppsvård"
         ]
        },
        {
         "marker": {
          "color": "#c0392b"
         },
         "name": "Mycket missnöjd",
         "orientation": "h",
         "type": "bar",
         "x": {
          "bdata": "AAAAAAAA8D8AAAAAAAAAAAAAAAAAAABAAAAAAAAAFEAAAAAAAAAYQAAAAAAAAABAAAAAAAAAFEAAAAAAAAAQQAAAAAAAABBAAAAAAAAAAEAAAAAAAAAQQAAAAAAAAAAAAAAAAAAAAAAAAAAAAAAYQAAAAAAAAAAA",
          "dtype": "f8"
         },
         "y": [
          "Hälso- och sjukvård samt socialt arbete",
          "Övrigt",
          "Ekonomi, administration och försäljning",
          "Kultur, media och design",
          "Pedagogik och undervisning",
          "Transporttjänster",
          "Data/It",
          "Teknik och tillverkning",
          "Lantbruk, djurvård, trädgård, skog och fiske",
          "Hotell, restaurang och turism",
          "Samhällsbyggnad och byggteknik",
          "Journalistik och information",
          "Säkerhetstjänster",
          "Juridik",
          "Friskvård och kroppsvård"
         ]
        }
       ],
       "layout": {
        "barmode": "stack",
        "height": 800,
        "margin": {
         "b": 100,
         "l": 200,
         "t": 100
        },
        "showlegend": true,
        "template": {
         "data": {
          "bar": [
           {
            "error_x": {
             "color": "#2a3f5f"
            },
            "error_y": {
             "color": "#2a3f5f"
            },
            "marker": {
             "line": {
              "color": "#E5ECF6",
              "width": 0.5
             },
             "pattern": {
              "fillmode": "overlay",
              "size": 10,
              "solidity": 0.2
             }
            },
            "type": "bar"
           }
          ],
          "barpolar": [
           {
            "marker": {
             "line": {
              "color": "#E5ECF6",
              "width": 0.5
             },
             "pattern": {
              "fillmode": "overlay",
              "size": 10,
              "solidity": 0.2
             }
            },
            "type": "barpolar"
           }
          ],
          "carpet": [
           {
            "aaxis": {
             "endlinecolor": "#2a3f5f",
             "gridcolor": "white",
             "linecolor": "white",
             "minorgridcolor": "white",
             "startlinecolor": "#2a3f5f"
            },
            "baxis": {
             "endlinecolor": "#2a3f5f",
             "gridcolor": "white",
             "linecolor": "white",
             "minorgridcolor": "white",
             "startlinecolor": "#2a3f5f"
            },
            "type": "carpet"
           }
          ],
          "choropleth": [
           {
            "colorbar": {
             "outlinewidth": 0,
             "ticks": ""
            },
            "type": "choropleth"
           }
          ],
          "contour": [
           {
            "colorbar": {
             "outlinewidth": 0,
             "ticks": ""
            },
            "colorscale": [
             [
              0,
              "#0d0887"
             ],
             [
              0.1111111111111111,
              "#46039f"
             ],
             [
              0.2222222222222222,
              "#7201a8"
             ],
             [
              0.3333333333333333,
              "#9c179e"
             ],
             [
              0.4444444444444444,
              "#bd3786"
             ],
             [
              0.5555555555555556,
              "#d8576b"
             ],
             [
              0.6666666666666666,
              "#ed7953"
             ],
             [
              0.7777777777777778,
              "#fb9f3a"
             ],
             [
              0.8888888888888888,
              "#fdca26"
             ],
             [
              1,
              "#f0f921"
             ]
            ],
            "type": "contour"
           }
          ],
          "contourcarpet": [
           {
            "colorbar": {
             "outlinewidth": 0,
             "ticks": ""
            },
            "type": "contourcarpet"
           }
          ],
          "heatmap": [
           {
            "colorbar": {
             "outlinewidth": 0,
             "ticks": ""
            },
            "colorscale": [
             [
              0,
              "#0d0887"
             ],
             [
              0.1111111111111111,
              "#46039f"
             ],
             [
              0.2222222222222222,
              "#7201a8"
             ],
             [
              0.3333333333333333,
              "#9c179e"
             ],
             [
              0.4444444444444444,
              "#bd3786"
             ],
             [
              0.5555555555555556,
              "#d8576b"
             ],
             [
              0.6666666666666666,
              "#ed7953"
             ],
             [
              0.7777777777777778,
              "#fb9f3a"
             ],
             [
              0.8888888888888888,
              "#fdca26"
             ],
             [
              1,
              "#f0f921"
             ]
            ],
            "type": "heatmap"
           }
          ],
          "histogram": [
           {
            "marker": {
             "pattern": {
              "fillmode": "overlay",
              "size": 10,
              "solidity": 0.2
             }
            },
            "type": "histogram"
           }
          ],
          "histogram2d": [
           {
            "colorbar": {
             "outlinewidth": 0,
             "ticks": ""
            },
            "colorscale": [
             [
              0,
              "#0d0887"
             ],
             [
              0.1111111111111111,
              "#46039f"
             ],
             [
              0.2222222222222222,
              "#7201a8"
             ],
             [
              0.3333333333333333,
              "#9c179e"
             ],
             [
              0.4444444444444444,
              "#bd3786"
             ],
             [
              0.5555555555555556,
              "#d8576b"
             ],
             [
              0.6666666666666666,
              "#ed7953"
             ],
             [
              0.7777777777777778,
              "#fb9f3a"
             ],
             [
              0.8888888888888888,
              "#fdca26"
             ],
             [
              1,
              "#f0f921"
             ]
            ],
            "type": "histogram2d"
           }
          ],
          "histogram2dcontour": [
           {
            "colorbar": {
             "outlinewidth": 0,
             "ticks": ""
            },
            "colorscale": [
             [
              0,
              "#0d0887"
             ],
             [
              0.1111111111111111,
              "#46039f"
             ],
             [
              0.2222222222222222,
              "#7201a8"
             ],
             [
              0.3333333333333333,
              "#9c179e"
             ],
             [
              0.4444444444444444,
              "#bd3786"
             ],
             [
              0.5555555555555556,
              "#d8576b"
             ],
             [
              0.6666666666666666,
              "#ed7953"
             ],
             [
              0.7777777777777778,
              "#fb9f3a"
             ],
             [
              0.8888888888888888,
              "#fdca26"
             ],
             [
              1,
              "#f0f921"
             ]
            ],
            "type": "histogram2dcontour"
           }
          ],
          "mesh3d": [
           {
            "colorbar": {
             "outlinewidth": 0,
             "ticks": ""
            },
            "type": "mesh3d"
           }
          ],
          "parcoords": [
           {
            "line": {
             "colorbar": {
              "outlinewidth": 0,
              "ticks": ""
             }
            },
            "type": "parcoords"
           }
          ],
          "pie": [
           {
            "automargin": true,
            "type": "pie"
           }
          ],
          "scatter": [
           {
            "fillpattern": {
             "fillmode": "overlay",
             "size": 10,
             "solidity": 0.2
            },
            "type": "scatter"
           }
          ],
          "scatter3d": [
           {
            "line": {
             "colorbar": {
              "outlinewidth": 0,
              "ticks": ""
             }
            },
            "marker": {
             "colorbar": {
              "outlinewidth": 0,
              "ticks": ""
             }
            },
            "type": "scatter3d"
           }
          ],
          "scattercarpet": [
           {
            "marker": {
             "colorbar": {
              "outlinewidth": 0,
              "ticks": ""
             }
            },
            "type": "scattercarpet"
           }
          ],
          "scattergeo": [
           {
            "marker": {
             "colorbar": {
              "outlinewidth": 0,
              "ticks": ""
             }
            },
            "type": "scattergeo"
           }
          ],
          "scattergl": [
           {
            "marker": {
             "colorbar": {
              "outlinewidth": 0,
              "ticks": ""
             }
            },
            "type": "scattergl"
           }
          ],
          "scattermap": [
           {
            "marker": {
             "colorbar": {
              "outlinewidth": 0,
              "ticks": ""
             }
            },
            "type": "scattermap"
           }
          ],
          "scattermapbox": [
           {
            "marker": {
             "colorbar": {
              "outlinewidth": 0,
              "ticks": ""
             }
            },
            "type": "scattermapbox"
           }
          ],
          "scatterpolar": [
           {
            "marker": {
             "colorbar": {
              "outlinewidth": 0,
              "ticks": ""
             }
            },
            "type": "scatterpolar"
           }
          ],
          "scatterpolargl": [
           {
            "marker": {
             "colorbar": {
              "outlinewidth": 0,
              "ticks": ""
             }
            },
            "type": "scatterpolargl"
           }
          ],
          "scatterternary": [
           {
            "marker": {
             "colorbar": {
              "outlinewidth": 0,
              "ticks": ""
             }
            },
            "type": "scatterternary"
           }
          ],
          "surface": [
           {
            "colorbar": {
             "outlinewidth": 0,
             "ticks": ""
            },
            "colorscale": [
             [
              0,
              "#0d0887"
             ],
             [
              0.1111111111111111,
              "#46039f"
             ],
             [
              0.2222222222222222,
              "#7201a8"
             ],
             [
              0.3333333333333333,
              "#9c179e"
             ],
             [
              0.4444444444444444,
              "#bd3786"
             ],
             [
              0.5555555555555556,
              "#d8576b"
             ],
             [
              0.6666666666666666,
              "#ed7953"
             ],
             [
              0.7777777777777778,
              "#fb9f3a"
             ],
             [
              0.8888888888888888,
              "#fdca26"
             ],
             [
              1,
              "#f0f921"
             ]
            ],
            "type": "surface"
           }
          ],
          "table": [
           {
            "cells": {
             "fill": {
              "color": "#EBF0F8"
             },
             "line": {
              "color": "white"
             }
            },
            "header": {
             "fill": {
              "color": "#C8D4E3"
             },
             "line": {
              "color": "white"
             }
            },
            "type": "table"
           }
          ]
         },
         "layout": {
          "annotationdefaults": {
           "arrowcolor": "#2a3f5f",
           "arrowhead": 0,
           "arrowwidth": 1
          },
          "autotypenumbers": "strict",
          "coloraxis": {
           "colorbar": {
            "outlinewidth": 0,
            "ticks": ""
           }
          },
          "colorscale": {
           "diverging": [
            [
             0,
             "#8e0152"
            ],
            [
             0.1,
             "#c51b7d"
            ],
            [
             0.2,
             "#de77ae"
            ],
            [
             0.3,
             "#f1b6da"
            ],
            [
             0.4,
             "#fde0ef"
            ],
            [
             0.5,
             "#f7f7f7"
            ],
            [
             0.6,
             "#e6f5d0"
            ],
            [
             0.7,
             "#b8e186"
            ],
            [
             0.8,
             "#7fbc41"
            ],
            [
             0.9,
             "#4d9221"
            ],
            [
             1,
             "#276419"
            ]
           ],
           "sequential": [
            [
             0,
             "#0d0887"
            ],
            [
             0.1111111111111111,
             "#46039f"
            ],
            [
             0.2222222222222222,
             "#7201a8"
            ],
            [
             0.3333333333333333,
             "#9c179e"
            ],
            [
             0.4444444444444444,
             "#bd3786"
            ],
            [
             0.5555555555555556,
             "#d8576b"
            ],
            [
             0.6666666666666666,
             "#ed7953"
            ],
            [
             0.7777777777777778,
             "#fb9f3a"
            ],
            [
             0.8888888888888888,
             "#fdca26"
            ],
            [
             1,
             "#f0f921"
            ]
           ],
           "sequentialminus": [
            [
             0,
             "#0d0887"
            ],
            [
             0.1111111111111111,
             "#46039f"
            ],
            [
             0.2222222222222222,
             "#7201a8"
            ],
            [
             0.3333333333333333,
             "#9c179e"
            ],
            [
             0.4444444444444444,
             "#bd3786"
            ],
            [
             0.5555555555555556,
             "#d8576b"
            ],
            [
             0.6666666666666666,
             "#ed7953"
            ],
            [
             0.7777777777777778,
             "#fb9f3a"
            ],
            [
             0.8888888888888888,
             "#fdca26"
            ],
            [
             1,
             "#f0f921"
            ]
           ]
          },
          "colorway": [
           "#636efa",
           "#EF553B",
           "#00cc96",
           "#ab63fa",
           "#FFA15A",
           "#19d3f3",
           "#FF6692",
           "#B6E880",
           "#FF97FF",
           "#FECB52"
          ],
          "font": {
           "color": "#2a3f5f"
          },
          "geo": {
           "bgcolor": "white",
           "lakecolor": "white",
           "landcolor": "#E5ECF6",
           "showlakes": true,
           "showland": true,
           "subunitcolor": "white"
          },
          "hoverlabel": {
           "align": "left"
          },
          "hovermode": "closest",
          "mapbox": {
           "style": "light"
          },
          "paper_bgcolor": "white",
          "plot_bgcolor": "#E5ECF6",
          "polar": {
           "angularaxis": {
            "gridcolor": "white",
            "linecolor": "white",
            "ticks": ""
           },
           "bgcolor": "#E5ECF6",
           "radialaxis": {
            "gridcolor": "white",
            "linecolor": "white",
            "ticks": ""
           }
          },
          "scene": {
           "xaxis": {
            "backgroundcolor": "#E5ECF6",
            "gridcolor": "white",
            "gridwidth": 2,
            "linecolor": "white",
            "showbackground": true,
            "ticks": "",
            "zerolinecolor": "white"
           },
           "yaxis": {
            "backgroundcolor": "#E5ECF6",
            "gridcolor": "white",
            "gridwidth": 2,
            "linecolor": "white",
            "showbackground": true,
            "ticks": "",
            "zerolinecolor": "white"
           },
           "zaxis": {
            "backgroundcolor": "#E5ECF6",
            "gridcolor": "white",
            "gridwidth": 2,
            "linecolor": "white",
            "showbackground": true,
            "ticks": "",
            "zerolinecolor": "white"
           }
          },
          "shapedefaults": {
           "line": {
            "color": "#2a3f5f"
           }
          },
          "ternary": {
           "aaxis": {
            "gridcolor": "white",
            "linecolor": "white",
            "ticks": ""
           },
           "baxis": {
            "gridcolor": "white",
            "linecolor": "white",
            "ticks": ""
           },
           "bgcolor": "#E5ECF6",
           "caxis": {
            "gridcolor": "white",
            "linecolor": "white",
            "ticks": ""
           }
          },
          "title": {
           "x": 0.05
          },
          "xaxis": {
           "automargin": true,
           "gridcolor": "white",
           "linecolor": "white",
           "ticks": "",
           "title": {
            "standoff": 15
           },
           "zerolinecolor": "white",
           "zerolinewidth": 2
          },
          "yaxis": {
           "automargin": true,
           "gridcolor": "white",
           "linecolor": "white",
           "ticks": "",
           "title": {
            "standoff": 15
           },
           "zerolinecolor": "white",
           "zerolinewidth": 2
          }
         }
        },
        "title": {
         "text": "Nöjdhet med YH-utbildning per utbildningsområde (sorterat efter \"Mycket nöjd\")"
        },
        "xaxis": {
         "title": {
          "text": "Andel (%)"
         }
        },
        "yaxis": {
         "title": {
          "text": "Utbildningsområde"
         }
        }
       }
      }
     },
     "metadata": {},
     "output_type": "display_data"
    }
   ],
   "source": [
    "import plotly.graph_objects as go\n",
    "df_sorted = df_satisfaction.sort_values(by='Mycket nöjd', ascending=False)\n",
    "\n",
    "fig = go.Figure()\n",
    "\n",
    "fig.add_trace(go.Bar(\n",
    "    name='Mycket nöjd',\n",
    "    y=df_sorted.index,\n",
    "    x=df_sorted['Mycket nöjd'],\n",
    "    orientation='h',\n",
    "    marker_color='#2ecc71'\n",
    "))\n",
    "\n",
    "fig.add_trace(go.Bar(\n",
    "    name='Ganska nöjd',\n",
    "    y=df_sorted.index,\n",
    "    x=df_sorted['Ganska nöjd'],\n",
    "    orientation='h',\n",
    "    marker_color='#3498db'\n",
    "))\n",
    "\n",
    "fig.add_trace(go.Bar(\n",
    "    name='Ganska missnöjd',\n",
    "    y=df_sorted.index,\n",
    "    x=df_sorted['Ganska missnöjd'],\n",
    "    orientation='h',\n",
    "    marker_color='#e74c3c'\n",
    "))\n",
    "\n",
    "fig.add_trace(go.Bar(\n",
    "    name='Mycket missnöjd',\n",
    "    y=df_sorted.index,\n",
    "    x=df_sorted['Mycket missnöjd'],\n",
    "    orientation='h',\n",
    "    marker_color='#c0392b'\n",
    "))\n",
    "\n",
    "fig.update_layout(\n",
    "    title='Nöjdhet med YH-utbildning per utbildningsområde (sorterat efter \"Mycket nöjd\")',\n",
    "    yaxis_title='Utbildningsområde',\n",
    "    xaxis_title='Andel (%)',\n",
    "    barmode='stack',\n",
    "    height=800,\n",
    "    showlegend=True,\n",
    "    margin=dict(t=100, b=100, l=200)\n",
    ")\n",
    "fig.write_html(\"Nöjdhet_grad_per_utb.html\")\n",
    "fig.show()"
   ]
  },
  {
   "cell_type": "markdown",
   "id": "66a4864e",
   "metadata": {},
   "source": [
    "### 3. EDA regarding employment relevancy to their education after examination"
   ]
  },
  {
   "cell_type": "code",
   "execution_count": null,
   "id": "2e86cf4b",
   "metadata": {},
   "outputs": [],
   "source": [
    "df_relevancy = pd.read_excel(data_path, \n",
    "                         sheet_name= \"6\", \n",
    "                         skiprows=6,\n",
    "                         usecols=range(5)).set_index(\"Unnamed: 0\").loc[utbildningsomrade]\n",
    "\n",
    "df_relevancy"
   ]
  },
  {
   "cell_type": "code",
   "execution_count": null,
   "id": "2ef705be",
   "metadata": {},
   "outputs": [],
   "source": [
    "for col in df_relevancy.columns[1:]:\n",
    "    df_relevancy[col] = df_relevancy[col].replace('..', '0').str.split('±').str[0].astype(float)\n",
    "\n",
    "df_relevancy"
   ]
  },
  {
   "cell_type": "code",
   "execution_count": 79,
   "id": "468c0bdd",
   "metadata": {},
   "outputs": [
    {
     "data": {
      "application/vnd.plotly.v1+json": {
       "config": {
        "plotlyServerURL": "https://plot.ly"
       },
       "data": [
        {
         "marker": {
          "color": "#2ecc71"
         },
         "name": "Helt eller till största delen",
         "orientation": "h",
         "type": "bar",
         "x": {
          "bdata": "AAAAAAAAAAAAAAAAAAAAAAAAAAAAgEdAAAAAAACASEAAAAAAAABOQAAAAAAAAE5AAAAAAACATkAAAAAAAIBQQAAAAAAAQFFAAAAAAABAUUAAAAAAAIBRQAAAAAAAgFFAAAAAAACAUUAAAAAAAABSQAAAAAAAwFJA",
          "dtype": "f8"
         },
         "y": [
          "Friskvård och kroppsvård",
          "Övrigt",
          "Hotell, restaurang och turism",
          "Juridik",
          "Samhällsbyggnad och byggteknik",
          "Teknik och tillverkning",
          "Journalistik och information",
          "Hälso- och sjukvård samt socialt arbete",
          "Kultur, media och design",
          "Säkerhetstjänster",
          "Ekonomi, administration och försäljning",
          "Data/It",
          "Pedagogik och undervisning",
          "Lantbruk, djurvård, trädgård, skog och fiske",
          "Transporttjänster"
         ]
        },
        {
         "marker": {
          "color": "#3498db"
         },
         "name": "Till viss del",
         "orientation": "h",
         "type": "bar",
         "x": {
          "bdata": "AAAAAAAAAAAAAAAAAAAAAAAAAAAAAEJAAAAAAACAQkAAAAAAAAA8QAAAAAAAADxAAAAAAAAAOEAAAAAAAAA5QAAAAAAAADRAAAAAAAAAN0AAAAAAAAA2QAAAAAAAADhAAAAAAAAAM0AAAAAAAAAzQAAAAAAAACpA",
          "dtype": "f8"
         },
         "y": [
          "Friskvård och kroppsvård",
          "Övrigt",
          "Hotell, restaurang och turism",
          "Juridik",
          "Samhällsbyggnad och byggteknik",
          "Teknik och tillverkning",
          "Journalistik och information",
          "Hälso- och sjukvård samt socialt arbete",
          "Kultur, media och design",
          "Säkerhetstjänster",
          "Ekonomi, administration och försäljning",
          "Data/It",
          "Pedagogik och undervisning",
          "Lantbruk, djurvård, trädgård, skog och fiske",
          "Transporttjänster"
         ]
        },
        {
         "marker": {
          "color": "#e74c3c"
         },
         "name": "Inte alls",
         "orientation": "h",
         "type": "bar",
         "x": {
          "bdata": "AAAAAAAAAAAAAAAAAAAAAAAAAAAAADFAAAAAAAAALEAAAAAAAAAoQAAAAAAAAChAAAAAAAAALEAAAAAAAAAiQAAAAAAAACZAAAAAAAAAIEAAAAAAAAAgQAAAAAAAABhAAAAAAAAAJEAAAAAAAAAgQAAAAAAAAChA",
          "dtype": "f8"
         },
         "y": [
          "Friskvård och kroppsvård",
          "Övrigt",
          "Hotell, restaurang och turism",
          "Juridik",
          "Samhällsbyggnad och byggteknik",
          "Teknik och tillverkning",
          "Journalistik och information",
          "Hälso- och sjukvård samt socialt arbete",
          "Kultur, media och design",
          "Säkerhetstjänster",
          "Ekonomi, administration och försäljning",
          "Data/It",
          "Pedagogik och undervisning",
          "Lantbruk, djurvård, trädgård, skog och fiske",
          "Transporttjänster"
         ]
        }
       ],
       "layout": {
        "barmode": "stack",
        "height": 800,
        "margin": {
         "b": 100,
         "l": 200,
         "t": 100
        },
        "showlegend": true,
        "template": {
         "data": {
          "bar": [
           {
            "error_x": {
             "color": "#2a3f5f"
            },
            "error_y": {
             "color": "#2a3f5f"
            },
            "marker": {
             "line": {
              "color": "#E5ECF6",
              "width": 0.5
             },
             "pattern": {
              "fillmode": "overlay",
              "size": 10,
              "solidity": 0.2
             }
            },
            "type": "bar"
           }
          ],
          "barpolar": [
           {
            "marker": {
             "line": {
              "color": "#E5ECF6",
              "width": 0.5
             },
             "pattern": {
              "fillmode": "overlay",
              "size": 10,
              "solidity": 0.2
             }
            },
            "type": "barpolar"
           }
          ],
          "carpet": [
           {
            "aaxis": {
             "endlinecolor": "#2a3f5f",
             "gridcolor": "white",
             "linecolor": "white",
             "minorgridcolor": "white",
             "startlinecolor": "#2a3f5f"
            },
            "baxis": {
             "endlinecolor": "#2a3f5f",
             "gridcolor": "white",
             "linecolor": "white",
             "minorgridcolor": "white",
             "startlinecolor": "#2a3f5f"
            },
            "type": "carpet"
           }
          ],
          "choropleth": [
           {
            "colorbar": {
             "outlinewidth": 0,
             "ticks": ""
            },
            "type": "choropleth"
           }
          ],
          "contour": [
           {
            "colorbar": {
             "outlinewidth": 0,
             "ticks": ""
            },
            "colorscale": [
             [
              0,
              "#0d0887"
             ],
             [
              0.1111111111111111,
              "#46039f"
             ],
             [
              0.2222222222222222,
              "#7201a8"
             ],
             [
              0.3333333333333333,
              "#9c179e"
             ],
             [
              0.4444444444444444,
              "#bd3786"
             ],
             [
              0.5555555555555556,
              "#d8576b"
             ],
             [
              0.6666666666666666,
              "#ed7953"
             ],
             [
              0.7777777777777778,
              "#fb9f3a"
             ],
             [
              0.8888888888888888,
              "#fdca26"
             ],
             [
              1,
              "#f0f921"
             ]
            ],
            "type": "contour"
           }
          ],
          "contourcarpet": [
           {
            "colorbar": {
             "outlinewidth": 0,
             "ticks": ""
            },
            "type": "contourcarpet"
           }
          ],
          "heatmap": [
           {
            "colorbar": {
             "outlinewidth": 0,
             "ticks": ""
            },
            "colorscale": [
             [
              0,
              "#0d0887"
             ],
             [
              0.1111111111111111,
              "#46039f"
             ],
             [
              0.2222222222222222,
              "#7201a8"
             ],
             [
              0.3333333333333333,
              "#9c179e"
             ],
             [
              0.4444444444444444,
              "#bd3786"
             ],
             [
              0.5555555555555556,
              "#d8576b"
             ],
             [
              0.6666666666666666,
              "#ed7953"
             ],
             [
              0.7777777777777778,
              "#fb9f3a"
             ],
             [
              0.8888888888888888,
              "#fdca26"
             ],
             [
              1,
              "#f0f921"
             ]
            ],
            "type": "heatmap"
           }
          ],
          "histogram": [
           {
            "marker": {
             "pattern": {
              "fillmode": "overlay",
              "size": 10,
              "solidity": 0.2
             }
            },
            "type": "histogram"
           }
          ],
          "histogram2d": [
           {
            "colorbar": {
             "outlinewidth": 0,
             "ticks": ""
            },
            "colorscale": [
             [
              0,
              "#0d0887"
             ],
             [
              0.1111111111111111,
              "#46039f"
             ],
             [
              0.2222222222222222,
              "#7201a8"
             ],
             [
              0.3333333333333333,
              "#9c179e"
             ],
             [
              0.4444444444444444,
              "#bd3786"
             ],
             [
              0.5555555555555556,
              "#d8576b"
             ],
             [
              0.6666666666666666,
              "#ed7953"
             ],
             [
              0.7777777777777778,
              "#fb9f3a"
             ],
             [
              0.8888888888888888,
              "#fdca26"
             ],
             [
              1,
              "#f0f921"
             ]
            ],
            "type": "histogram2d"
           }
          ],
          "histogram2dcontour": [
           {
            "colorbar": {
             "outlinewidth": 0,
             "ticks": ""
            },
            "colorscale": [
             [
              0,
              "#0d0887"
             ],
             [
              0.1111111111111111,
              "#46039f"
             ],
             [
              0.2222222222222222,
              "#7201a8"
             ],
             [
              0.3333333333333333,
              "#9c179e"
             ],
             [
              0.4444444444444444,
              "#bd3786"
             ],
             [
              0.5555555555555556,
              "#d8576b"
             ],
             [
              0.6666666666666666,
              "#ed7953"
             ],
             [
              0.7777777777777778,
              "#fb9f3a"
             ],
             [
              0.8888888888888888,
              "#fdca26"
             ],
             [
              1,
              "#f0f921"
             ]
            ],
            "type": "histogram2dcontour"
           }
          ],
          "mesh3d": [
           {
            "colorbar": {
             "outlinewidth": 0,
             "ticks": ""
            },
            "type": "mesh3d"
           }
          ],
          "parcoords": [
           {
            "line": {
             "colorbar": {
              "outlinewidth": 0,
              "ticks": ""
             }
            },
            "type": "parcoords"
           }
          ],
          "pie": [
           {
            "automargin": true,
            "type": "pie"
           }
          ],
          "scatter": [
           {
            "fillpattern": {
             "fillmode": "overlay",
             "size": 10,
             "solidity": 0.2
            },
            "type": "scatter"
           }
          ],
          "scatter3d": [
           {
            "line": {
             "colorbar": {
              "outlinewidth": 0,
              "ticks": ""
             }
            },
            "marker": {
             "colorbar": {
              "outlinewidth": 0,
              "ticks": ""
             }
            },
            "type": "scatter3d"
           }
          ],
          "scattercarpet": [
           {
            "marker": {
             "colorbar": {
              "outlinewidth": 0,
              "ticks": ""
             }
            },
            "type": "scattercarpet"
           }
          ],
          "scattergeo": [
           {
            "marker": {
             "colorbar": {
              "outlinewidth": 0,
              "ticks": ""
             }
            },
            "type": "scattergeo"
           }
          ],
          "scattergl": [
           {
            "marker": {
             "colorbar": {
              "outlinewidth": 0,
              "ticks": ""
             }
            },
            "type": "scattergl"
           }
          ],
          "scattermap": [
           {
            "marker": {
             "colorbar": {
              "outlinewidth": 0,
              "ticks": ""
             }
            },
            "type": "scattermap"
           }
          ],
          "scattermapbox": [
           {
            "marker": {
             "colorbar": {
              "outlinewidth": 0,
              "ticks": ""
             }
            },
            "type": "scattermapbox"
           }
          ],
          "scatterpolar": [
           {
            "marker": {
             "colorbar": {
              "outlinewidth": 0,
              "ticks": ""
             }
            },
            "type": "scatterpolar"
           }
          ],
          "scatterpolargl": [
           {
            "marker": {
             "colorbar": {
              "outlinewidth": 0,
              "ticks": ""
             }
            },
            "type": "scatterpolargl"
           }
          ],
          "scatterternary": [
           {
            "marker": {
             "colorbar": {
              "outlinewidth": 0,
              "ticks": ""
             }
            },
            "type": "scatterternary"
           }
          ],
          "surface": [
           {
            "colorbar": {
             "outlinewidth": 0,
             "ticks": ""
            },
            "colorscale": [
             [
              0,
              "#0d0887"
             ],
             [
              0.1111111111111111,
              "#46039f"
             ],
             [
              0.2222222222222222,
              "#7201a8"
             ],
             [
              0.3333333333333333,
              "#9c179e"
             ],
             [
              0.4444444444444444,
              "#bd3786"
             ],
             [
              0.5555555555555556,
              "#d8576b"
             ],
             [
              0.6666666666666666,
              "#ed7953"
             ],
             [
              0.7777777777777778,
              "#fb9f3a"
             ],
             [
              0.8888888888888888,
              "#fdca26"
             ],
             [
              1,
              "#f0f921"
             ]
            ],
            "type": "surface"
           }
          ],
          "table": [
           {
            "cells": {
             "fill": {
              "color": "#EBF0F8"
             },
             "line": {
              "color": "white"
             }
            },
            "header": {
             "fill": {
              "color": "#C8D4E3"
             },
             "line": {
              "color": "white"
             }
            },
            "type": "table"
           }
          ]
         },
         "layout": {
          "annotationdefaults": {
           "arrowcolor": "#2a3f5f",
           "arrowhead": 0,
           "arrowwidth": 1
          },
          "autotypenumbers": "strict",
          "coloraxis": {
           "colorbar": {
            "outlinewidth": 0,
            "ticks": ""
           }
          },
          "colorscale": {
           "diverging": [
            [
             0,
             "#8e0152"
            ],
            [
             0.1,
             "#c51b7d"
            ],
            [
             0.2,
             "#de77ae"
            ],
            [
             0.3,
             "#f1b6da"
            ],
            [
             0.4,
             "#fde0ef"
            ],
            [
             0.5,
             "#f7f7f7"
            ],
            [
             0.6,
             "#e6f5d0"
            ],
            [
             0.7,
             "#b8e186"
            ],
            [
             0.8,
             "#7fbc41"
            ],
            [
             0.9,
             "#4d9221"
            ],
            [
             1,
             "#276419"
            ]
           ],
           "sequential": [
            [
             0,
             "#0d0887"
            ],
            [
             0.1111111111111111,
             "#46039f"
            ],
            [
             0.2222222222222222,
             "#7201a8"
            ],
            [
             0.3333333333333333,
             "#9c179e"
            ],
            [
             0.4444444444444444,
             "#bd3786"
            ],
            [
             0.5555555555555556,
             "#d8576b"
            ],
            [
             0.6666666666666666,
             "#ed7953"
            ],
            [
             0.7777777777777778,
             "#fb9f3a"
            ],
            [
             0.8888888888888888,
             "#fdca26"
            ],
            [
             1,
             "#f0f921"
            ]
           ],
           "sequentialminus": [
            [
             0,
             "#0d0887"
            ],
            [
             0.1111111111111111,
             "#46039f"
            ],
            [
             0.2222222222222222,
             "#7201a8"
            ],
            [
             0.3333333333333333,
             "#9c179e"
            ],
            [
             0.4444444444444444,
             "#bd3786"
            ],
            [
             0.5555555555555556,
             "#d8576b"
            ],
            [
             0.6666666666666666,
             "#ed7953"
            ],
            [
             0.7777777777777778,
             "#fb9f3a"
            ],
            [
             0.8888888888888888,
             "#fdca26"
            ],
            [
             1,
             "#f0f921"
            ]
           ]
          },
          "colorway": [
           "#636efa",
           "#EF553B",
           "#00cc96",
           "#ab63fa",
           "#FFA15A",
           "#19d3f3",
           "#FF6692",
           "#B6E880",
           "#FF97FF",
           "#FECB52"
          ],
          "font": {
           "color": "#2a3f5f"
          },
          "geo": {
           "bgcolor": "white",
           "lakecolor": "white",
           "landcolor": "#E5ECF6",
           "showlakes": true,
           "showland": true,
           "subunitcolor": "white"
          },
          "hoverlabel": {
           "align": "left"
          },
          "hovermode": "closest",
          "mapbox": {
           "style": "light"
          },
          "paper_bgcolor": "white",
          "plot_bgcolor": "#E5ECF6",
          "polar": {
           "angularaxis": {
            "gridcolor": "white",
            "linecolor": "white",
            "ticks": ""
           },
           "bgcolor": "#E5ECF6",
           "radialaxis": {
            "gridcolor": "white",
            "linecolor": "white",
            "ticks": ""
           }
          },
          "scene": {
           "xaxis": {
            "backgroundcolor": "#E5ECF6",
            "gridcolor": "white",
            "gridwidth": 2,
            "linecolor": "white",
            "showbackground": true,
            "ticks": "",
            "zerolinecolor": "white"
           },
           "yaxis": {
            "backgroundcolor": "#E5ECF6",
            "gridcolor": "white",
            "gridwidth": 2,
            "linecolor": "white",
            "showbackground": true,
            "ticks": "",
            "zerolinecolor": "white"
           },
           "zaxis": {
            "backgroundcolor": "#E5ECF6",
            "gridcolor": "white",
            "gridwidth": 2,
            "linecolor": "white",
            "showbackground": true,
            "ticks": "",
            "zerolinecolor": "white"
           }
          },
          "shapedefaults": {
           "line": {
            "color": "#2a3f5f"
           }
          },
          "ternary": {
           "aaxis": {
            "gridcolor": "white",
            "linecolor": "white",
            "ticks": ""
           },
           "baxis": {
            "gridcolor": "white",
            "linecolor": "white",
            "ticks": ""
           },
           "bgcolor": "#E5ECF6",
           "caxis": {
            "gridcolor": "white",
            "linecolor": "white",
            "ticks": ""
           }
          },
          "title": {
           "x": 0.05
          },
          "xaxis": {
           "automargin": true,
           "gridcolor": "white",
           "linecolor": "white",
           "ticks": "",
           "title": {
            "standoff": 15
           },
           "zerolinecolor": "white",
           "zerolinewidth": 2
          },
          "yaxis": {
           "automargin": true,
           "gridcolor": "white",
           "linecolor": "white",
           "ticks": "",
           "title": {
            "standoff": 15
           },
           "zerolinecolor": "white",
           "zerolinewidth": 2
          }
         }
        },
        "title": {
         "text": "Färdig utbildade elevers upplevda relevans för sitt nya arbete gentemot deras avklarade utbildning"
        },
        "xaxis": {
         "title": {
          "text": "Andel (%)"
         }
        },
        "yaxis": {
         "title": {
          "text": "Utbildningsområde"
         }
        }
       }
      }
     },
     "metadata": {},
     "output_type": "display_data"
    }
   ],
   "source": [
    "columns = df_relevancy.columns.tolist()\n",
    "df_relevancy_sorted = df_relevancy.sort_values(by=columns[1], ascending=True)\n",
    "\n",
    "fig = go.Figure()\n",
    "\n",
    "fig.add_trace(go.Bar(\n",
    "    name=columns[1],\n",
    "    y=df_relevancy_sorted.index,\n",
    "    x=df_relevancy_sorted[columns[1]],\n",
    "    orientation='h',\n",
    "    marker_color='#2ecc71'\n",
    "))\n",
    "\n",
    "fig.add_trace(go.Bar(\n",
    "    name=columns[2],\n",
    "    y=df_relevancy_sorted.index,\n",
    "    x=df_relevancy_sorted[columns[2]],\n",
    "    orientation='h',\n",
    "    marker_color='#3498db'\n",
    "))\n",
    "\n",
    "fig.add_trace(go.Bar(\n",
    "    name= columns[3],\n",
    "    y=df_relevancy_sorted.index,\n",
    "    x=df_relevancy_sorted[columns[3]],\n",
    "    orientation='h',\n",
    "    marker_color='#e74c3c'\n",
    "))\n",
    "\n",
    "fig.update_layout(\n",
    "    title='Färdig utbildade elevers upplevda relevans för sitt nya arbete gentemot deras avklarade utbildning',\n",
    "    yaxis_title='Utbildningsområde',\n",
    "    xaxis_title='Andel (%)',\n",
    "    barmode='stack',\n",
    "    height=800,\n",
    "    showlegend=True,\n",
    "    margin=dict(t=100, b=100, l=200)\n",
    ")\n",
    "fig.write_html(\"jobb_utb_relevans.html\")\n",
    "fig.show()"
   ]
  },
  {
   "cell_type": "markdown",
   "id": "679f5a62",
   "metadata": {},
   "source": [
    "### EDA on new dataset (test)"
   ]
  },
  {
   "cell_type": "code",
   "execution_count": null,
   "id": "bb4e95b1",
   "metadata": {},
   "outputs": [],
   "source": [
    "df_test = pd.read_csv"
   ]
  }
 ],
 "metadata": {
  "kernelspec": {
   "display_name": ".venv",
   "language": "python",
   "name": "python3"
  },
  "language_info": {
   "codemirror_mode": {
    "name": "ipython",
    "version": 3
   },
   "file_extension": ".py",
   "mimetype": "text/x-python",
   "name": "python",
   "nbconvert_exporter": "python",
   "pygments_lexer": "ipython3",
   "version": "3.12.5"
  }
 },
 "nbformat": 4,
 "nbformat_minor": 5
}
